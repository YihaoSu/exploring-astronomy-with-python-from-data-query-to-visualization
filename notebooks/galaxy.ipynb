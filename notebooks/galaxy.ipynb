{
 "cells": [
  {
   "cell_type": "markdown",
   "id": "671a3d28-ec6b-414a-820d-fd6e801a4a12",
   "metadata": {},
   "source": [
    "# 如何用Python探索星系觀測資料？\n",
    "此notebook為[「用Python探索天文：從資料取得到視覺化」](https://github.com/YihaoSu/exploring-astronomy-with-python-from-data-query-to-visualization)一書的相關程式碼，由[蘇羿豪](https://astrobackhacker.tw/)編寫，並以[MIT授權條款](https://github.com/YihaoSu/exploring-astronomy-with-python-from-data-query-to-visualization/blob/main/LICENSE)釋出。「用Python探索天文：從資料取得到視覺化」是「[天文的資料再創作](https://docs.google.com/forms/d/e/1FAIpQLSfGqlySaOVfWK-ZCeouJj4Ji6hJbBeLgK0B1ddpi16vR2ZvUQ/viewform)」及「[天文的資料科學](https://docs.google.com/forms/d/e/1FAIpQLSdSjnrvdsqAtALGfIMxXhQMZ9PRO-e_2ML6kzg6tjqyHNl1eA/viewform)」這兩個天文教育產品開發計畫的一部分，如果你想要體驗更多關於天文資料的有趣旅程，歡迎填寫這兩個計畫連結中的調查表單，讓我能根據你的需求及建議，開發出能拉近你與星空的距離的產品。"
   ]
  },
  {
   "cell_type": "markdown",
   "id": "d39d4b0c-b369-4753-a283-a3e795ffe9e3",
   "metadata": {},
   "source": [
    "## (一) 哪些平台有將星系觀測資料開放給⼤眾使⽤？\n",
    "以下列出幾個可以下載到星系觀測資料的平台："
   ]
  },
  {
   "cell_type": "markdown",
   "id": "d54df3ff-8a28-481f-aae7-547724bfd3ed",
   "metadata": {},
   "source": [
    "### SkyServer SDSS\n",
    "[SkyServer SDSS](https://skyserver.sdss.org)是一個用來查詢和下載[Sloan Digital Sky Survey(SDSS)](https://zh.wikipedia.org/wiki/%E5%8F%B2%E9%9A%86%E6%95%B8%E4%BD%8D%E5%B7%A1%E5%A4%A9)觀測資料的網站。SDSS是一個以美國新墨西哥州阿帕契點天文台的2.5公尺光學望遠鏡進行的巡天調查計畫。為了了解星系的分布、結構、形成和演化，SDSS收集了大量的天體影像和光譜資料。"
   ]
  },
  {
   "cell_type": "markdown",
   "id": "fd5c396d-c1ef-410c-90f2-b440daf44f5e",
   "metadata": {},
   "source": [
    "### NASA/IPAC Extragalactic Database(NED)\n",
    "[NED](https://ned.ipac.caltech.edu/)是由美國太空總署資助並由IPAC(Infrared Processing and Analysis Center)營運的天文資料庫，提供星系等銀河系外天體的資訊查詢及觀測資料下載服務。"
   ]
  },
  {
   "cell_type": "markdown",
   "id": "6a0eb9de-95ad-40cb-907c-0cbd7c059cb5",
   "metadata": {},
   "source": [
    "### Mikulski Archive for Space Telescopes(MAST)\n",
    "[MAST](https://archive.stsci.edu/)是一個天文觀測資料中心，專門存儲和管理多個太空及地面天文觀測計畫的資料。透過它的網站，你能夠搜尋並下載韋伯和哈伯太空望遠鏡所觀測的星系影像及光譜資料。"
   ]
  },
  {
   "cell_type": "markdown",
   "id": "0349352e-c011-4ec8-a53e-f45ca6f0e318",
   "metadata": {},
   "source": [
    "## (二) 如何用Python取得星系觀測資料？"
   ]
  },
  {
   "cell_type": "markdown",
   "id": "a83a96ee-c3c1-496a-9cbe-b835f6c6ba26",
   "metadata": {},
   "source": [
    "[Astroquery](https://astroquery.readthedocs.io/en/latest/)是一個能串接不同天文資料庫服務以方便取得各種天文資料的Python套件。它提供多個模組，用於查詢不同的天文資料庫服務。其中，[sdss模組](https://astroquery.readthedocs.io/en/latest/sdss/sdss.html)是用來取得SDSS的資料，NED的資料能用[ipac.ned模組](https://astroquery.readthedocs.io/en/latest/ipac/ned/ned.html)取得，而[mast模組](https://astroquery.readthedocs.io/en/latest/mast/mast.html)則可以取得MAST的資料。執行以下指令以安裝Astroquery："
   ]
  },
  {
   "cell_type": "code",
   "execution_count": null,
   "id": "dbb1bef6-2642-408b-8545-fcf8c1e1d911",
   "metadata": {},
   "outputs": [],
   "source": [
    "pip install -U --pre astroquery"
   ]
  },
  {
   "cell_type": "markdown",
   "id": "3e09fbc3-ee96-4e12-98d5-9190babf3270",
   "metadata": {},
   "source": [
    "### 範例1：使用ipac.ned模組來查詢NED提供的星系基本資訊、影像及光譜資料"
   ]
  },
  {
   "cell_type": "code",
   "execution_count": 1,
   "id": "108bf354-74f9-4b3e-afde-928af3decb0d",
   "metadata": {},
   "outputs": [
    {
     "name": "stdout",
     "output_type": "stream",
     "text": [
      "M104星系基本資訊：\n",
      "No. Object Name     RA        DEC     Type  Velocity  ... Photometry Points Positions Redshift Points Diameter Points Associations\n",
      "                 degrees    degrees          km / s   ...                                                                         \n",
      "--- ----------- ---------- ---------- ---- ---------- ... ----------------- --------- --------------- --------------- ------------\n",
      "  1 MESSIER 104  189.99763  -11.62305    G     1091.0 ...               357        95              40               7            0\n",
      "影像資料FITS檔案資訊：\n",
      "Filename: (No file associated with this HDUList)\n",
      "No.    Name      Ver    Type      Cards   Dimensions   Format\n",
      "  0  PRIMARY       1 PrimaryHDU     106   (424, 424)   int16   \n",
      "影像的像素資料：\n",
      "[[5313 5392 5392 ... 5436 5121 5121]\n",
      " [5156 5550 5235 ... 5436 5436 5279]\n",
      " [5471 5550 5865 ... 5751 5751 5909]\n",
      " ...\n",
      " [5361 5913 5598 ... 6378 5748 5748]\n",
      " [5361 5598 5283 ... 6378 5748 5748]\n",
      " [5283 5598 5913 ... 5984 5669 6142]]\n",
      "光譜資料FITS檔案資訊：\n",
      "Filename: (No file associated with this HDUList)\n",
      "No.    Name      Ver    Type      Cards   Dimensions   Format\n",
      "  0  PRIMARY       1 PrimaryHDU      46   ()      \n",
      "  1  wrapped       1 BinTableHDU    380   208R x 5C   [1D, 1J, 1J, 1D, 1D]   \n",
      "光譜資料：\n",
      "[(156.77231832,  0, 0,  21.71842832, 0.03786174)\n",
      " (156.78805545,  0, 0,  34.56330054, 0.03215429)\n",
      " (156.80379258,  0, 0,  38.16800616, 0.03203908)\n",
      " (156.81952972,  0, 0,  41.57243663, 0.03900804)\n",
      " (156.83526685,  0, 0,  46.21210421, 0.04017287)\n",
      " (156.85100416,  0, 0,  41.70589209, 0.04554713)\n",
      " (156.86674148,  0, 0,  50.82257848, 0.05117554)\n",
      " (156.8824788 ,  0, 0,  45.79500702, 0.06066534)\n",
      " (156.89821612,  0, 0,  49.68613665, 0.06749955)\n",
      " (156.91395362,  0, 0,  49.28380718, 0.07995037)\n",
      " (156.92969112,  0, 0,  47.24055497, 0.08859548)\n",
      " (156.94542863,  0, 0,  49.25192516, 0.10153808)\n",
      " (156.96116613,  0, 0,  49.30427835, 0.1126505 )\n",
      " (156.9769038 ,  0, 0,  51.45354382, 0.12056997)\n",
      " (156.99264148,  0, 0,  52.47223001, 0.13134322)\n",
      " (157.00837916,  0, 0,  51.92145799, 0.13989087)\n",
      " (157.02411683,  0, 0,  53.45049244, 0.14808169)\n",
      " (157.03985468,  0, 0,  52.71333161, 0.16413632)\n",
      " (157.05559253,  0, 0,  51.28669015, 0.17739105)\n",
      " (157.07133037,  0, 0,  53.36687385, 0.19193968)\n",
      " (157.08706822,  0, 0,  50.74495184, 0.20811521)\n",
      " (157.10280623,  0, 0,  49.65319141, 0.22107054)\n",
      " (157.11854424,  0, 0,  48.21051725, 0.23326786)\n",
      " (157.13428224,  0, 0,  44.85939016, 0.24862504)\n",
      " (157.15002025,  0, 0,  46.4652632 , 0.25733952)\n",
      " (157.16575842,  0, 0,  43.82964892, 0.27595134)\n",
      " (157.18149658,  0, 0,  44.70644155, 0.28328359)\n",
      " (157.19723474,  0, 0,  41.5681361 , 0.29840213)\n",
      " (157.21297291,  0, 0,  38.68024304, 0.31159032)\n",
      " (157.22871122,  0, 0,  38.15732611, 0.32054643)\n",
      " (157.24444953,  0, 0,  37.03972607, 0.33520793)\n",
      " (157.26018785,  0, 0,  37.92179015, 0.34428338)\n",
      " (157.27592616,  0, 0,  38.21654425, 0.3570139 )\n",
      " (157.29166462,  0, 0,  37.00888947, 0.36736087)\n",
      " (157.30740307,  0, 0,  35.99677965, 0.38349508)\n",
      " (157.32314153,  8, 0,  35.18580324, 0.40106887)\n",
      " (157.33887998,  8, 0,  33.37411784, 0.40694135)\n",
      " (157.35461857,  8, 0,  31.93644726, 0.42353033)\n",
      " (157.37035716,  8, 0,  33.37852473, 0.42856911)\n",
      " (157.38609575,  8, 0,  32.90615012, 0.42848997)\n",
      " (157.40183434,  8, 0,  34.03477131, 0.44488979)\n",
      " (157.41757306,  8, 0,  34.77972854, 0.44737251)\n",
      " (157.43331178,  8, 0,  33.09760925, 0.469426  )\n",
      " (157.4490505 ,  8, 0,  32.38757171, 0.48712788)\n",
      " (157.46478922,  8, 0,  32.2224854 , 0.5040453 )\n",
      " (157.48052806,  8, 0,  33.87531902, 0.5280434 )\n",
      " (157.49626691, 24, 0,  35.19502874, 0.53473836)\n",
      " (157.51200575, 24, 0,  38.01349399, 0.56446978)\n",
      " (157.52774459, 24, 0,  38.39489293, 0.58615973)\n",
      " (157.54348355, 24, 0,  38.22205895, 0.61162055)\n",
      " (157.5592225 ,  8, 0,  38.11058713, 0.63810794)\n",
      " (157.57496146,  8, 0,  36.45167871, 0.65345466)\n",
      " (157.59070042,  8, 0,  36.00480599, 0.68094063)\n",
      " (157.60643948,  8, 0,  33.83290198, 0.68775872)\n",
      " (157.62217855,  8, 0,  33.01198194, 0.70723627)\n",
      " (157.63791762,  8, 0,  32.01935051, 0.71833441)\n",
      " (157.65365668,  8, 0,  31.14372453, 0.7476614 )\n",
      " (157.66939585,  8, 0,  30.83429293, 0.76053719)\n",
      " (157.68513502,  8, 0,  29.80288099, 0.79656908)\n",
      " (157.70087419,  8, 0,  29.61670958, 0.80039219)\n",
      " (157.71661335,  8, 0,  28.03987677, 0.80440036)\n",
      " (157.73235262,  8, 0,  27.33823824, 0.80851429)\n",
      " (157.74809188,  8, 0,  25.20422461, 0.80621987)\n",
      " (157.76383114,  8, 0,  22.90893734, 0.80909763)\n",
      " (157.77957041,  8, 0,  21.46352676, 0.81439361)\n",
      " (157.79530976,  8, 0,  19.64194187, 0.81927182)\n",
      " (157.81104911,  8, 0,  19.51486116, 0.80911348)\n",
      " (157.82678846,  8, 0,  19.14768905, 0.82439986)\n",
      " (157.84252781,  8, 0,  18.73992828, 0.83251093)\n",
      " (157.85826724,  8, 0,  17.77248928, 0.82990248)\n",
      " (157.87400668,  8, 0,  15.59170933, 0.85414833)\n",
      " (157.88974611,  8, 0,  14.10423832, 0.84951531)\n",
      " (157.90548554,  8, 0,  13.49077559, 0.86914952)\n",
      " (157.92122505,  8, 0,  13.14811404, 0.88296547)\n",
      " (157.93696456,  8, 0,  13.28699737, 0.91263671)\n",
      " (157.95270407,  8, 0,  12.88380233, 0.92981544)\n",
      " (157.96844358,  8, 0,  12.07589251, 0.95673898)\n",
      " (157.98418315,  8, 0,  11.34210962, 0.95376955)\n",
      " (157.99992273,  0, 0,  11.48953701, 0.96874977)\n",
      " (158.0156623 ,  0, 0,  11.05505783, 0.99511916)\n",
      " (158.03140188,  0, 0,  11.04355856, 0.99412132)\n",
      " (158.04714152,  0, 0,  11.52980434, 1.02467277)\n",
      " (158.06288115,  0, 0,  10.84646963, 1.00216378)\n",
      " (158.07862079,  0, 0,  10.69128339, 1.01414616)\n",
      " (158.09436043,  0, 0,  10.53234721, 1.0031381 )\n",
      " (158.11010012,  0, 0,  10.5799875 , 1.00763353)\n",
      " (158.12583981,  0, 0,  10.30857648, 1.01870395)\n",
      " (158.1415795 ,  0, 0,   9.62160902, 1.02118815)\n",
      " (158.1573192 ,  0, 0,   8.50381549, 1.05629669)\n",
      " (158.17305894,  0, 0,   9.12801343, 1.05245168)\n",
      " (158.18879868,  0, 0,   9.34528149, 1.06527891)\n",
      " (158.20453841,  0, 0,  11.48996119, 1.04537891)\n",
      " (158.22027815,  0, 0,  13.04917322, 1.03105972)\n",
      " (158.23601793,  0, 0,  14.14426183, 1.03432309)\n",
      " (158.25175771,  0, 0,  16.39635492, 1.02815864)\n",
      " (158.2674975 ,  0, 0,  18.31044431, 1.04165146)\n",
      " (158.28323728,  0, 0,  19.7733932 , 1.03900801)\n",
      " (158.29897709,  0, 0,  20.98961465, 1.05074442)\n",
      " (158.3147169 ,  0, 0,  20.850021  , 1.04987095)\n",
      " (158.33045672,  0, 0,  19.18475841, 1.0675888 )\n",
      " (158.34619653,  0, 0,  17.67828531, 1.07916817)\n",
      " (158.36193637,  0, 0,  14.0551805 , 1.07760742)\n",
      " (158.37767622,  0, 0,  10.85954039, 1.07288098)\n",
      " (158.39341606,  0, 0,   7.93537822, 1.04659465)\n",
      " (158.4091559 ,  0, 0,   4.65660267, 1.03531209)\n",
      " (158.42489576,  0, 0,   1.98101126, 1.03116957)\n",
      " (158.44063562,  0, 0,   0.21283219, 1.03434826)\n",
      " (158.45637549,  0, 0,  -1.42848395, 1.05824986)\n",
      " (158.47211535,  0, 0,  -1.75083636, 1.03776938)\n",
      " (158.48785522,  0, 0,  -0.61543787, 1.04764463)\n",
      " (158.5035951 ,  0, 0,  -0.54781181, 1.03137347)\n",
      " (158.51933497,  0, 0,   0.06029119, 1.03991659)\n",
      " (158.53507485,  0, 0,  -0.14358459, 1.05575283)\n",
      " (158.55081473,  0, 0,  -0.56238824, 1.05542156)\n",
      " (158.56655461,  0, 0,  -0.44468329, 1.06335234)\n",
      " (158.5822945 ,  0, 0,  -1.92510521, 1.04746856)\n",
      " (158.59803438,  0, 0,  -2.22137554, 1.02488581)\n",
      " (158.61377426,  0, 0,  -5.40206677, 1.02939491)\n",
      " (158.62951414,  0, 0,  -7.49996637, 1.0055001 )\n",
      " (158.64525402,  0, 0,  -8.48289211, 1.00553515)\n",
      " (158.66099391,  0, 0,  -9.2813309 , 0.99743241)\n",
      " (158.67673378,  0, 0,  -7.52819084, 1.01247992)\n",
      " (158.69247366,  0, 0,  -7.0549953 , 0.98959978)\n",
      " (158.70821353,  0, 0,  -6.64764731, 1.00767695)\n",
      " (158.72395341,  0, 0,  -7.5763698 , 1.0089334 )\n",
      " (158.73969327,  0, 0,  -9.15596798, 0.99766595)\n",
      " (158.75543313,  0, 0, -11.25260535, 1.03247546)\n",
      " (158.77117299,  0, 0, -11.53076579, 1.0174281 )\n",
      " (158.78691285,  0, 0, -12.23391046, 1.02740398)\n",
      " (158.80265269,  0, 0, -10.14647812, 1.00604594)\n",
      " (158.81839253,  0, 0, -10.61095763, 1.00726086)\n",
      " (158.83413237,  0, 0,  -9.20281178, 0.99875426)\n",
      " (158.84987221,  0, 0, -10.04610975, 0.99655756)\n",
      " (158.86561202,  0, 0, -10.68363205, 1.00802931)\n",
      " (158.88135183,  0, 0, -10.30560013, 0.97948073)\n",
      " (158.89709165,  0, 0, -12.36446476, 0.98340887)\n",
      " (158.91283146,  0, 0, -11.4275298 , 0.95281334)\n",
      " (158.92857124,  0, 0, -13.40052285, 0.94064837)\n",
      " (158.94431101,  0, 0, -11.96118799, 0.92295936)\n",
      " (158.96005079,  0, 0, -12.41609801, 0.92573585)\n",
      " (158.97579057,  0, 0, -12.57021564, 0.92170601)\n",
      " (158.9915303 ,  0, 0, -12.098566  , 0.91449519)\n",
      " (159.00727004,  0, 0, -14.548645  , 0.92203531)\n",
      " (159.02300978,  0, 0, -14.66421563, 0.9260517 )\n",
      " (159.03874951,  0, 0, -15.61595523, 0.93173442)\n",
      " (159.0544892 ,  0, 0, -14.73129625, 0.92371995)\n",
      " (159.07022889,  0, 0, -13.66312248, 0.92644597)\n",
      " (159.08596858,  0, 0, -13.5226847 , 0.90750676)\n",
      " (159.10170826,  0, 0, -12.65987535, 0.88842397)\n",
      " (159.1174479 ,  0, 0, -13.72141746, 0.88074494)\n",
      " (159.13318753,  0, 0, -13.38424065, 0.84198125)\n",
      " (159.14892716,  0, 0, -12.54341103, 0.8008545 )\n",
      " (159.16466679,  0, 0, -12.41668887, 0.78158985)\n",
      " (159.18040636,  0, 0, -11.21345076, 0.75264202)\n",
      " (159.19614593,  0, 0, -11.04651459, 0.73686658)\n",
      " (159.2118855 ,  0, 0, -11.71642459, 0.72719615)\n",
      " (159.22762507,  0, 0, -11.89938714, 0.72205956)\n",
      " (159.24336457,  0, 0, -14.01124991, 0.70293553)\n",
      " (159.25910407,  0, 0, -14.31975379, 0.70710127)\n",
      " (159.27484357,  0, 0, -15.36821628, 0.70139082)\n",
      " (159.29058307,  0, 0, -15.57136729, 0.68358446)\n",
      " (159.3063225 ,  0, 0, -15.77242834, 0.68037317)\n",
      " (159.32206192,  0, 0, -16.5945873 , 0.67049863)\n",
      " (159.33780134,  0, 0, -16.94631694, 0.65557001)\n",
      " (159.35354077,  0, 0, -17.4132113 , 0.64375478)\n",
      " (159.36928011,  0, 0, -17.45382017, 0.6239986 )\n",
      " (159.38501945,  0, 0, -17.69079611, 0.60253075)\n",
      " (159.40075879,  0, 0, -18.58705064, 0.57159222)\n",
      " (159.41649813,  0, 0, -18.92498564, 0.55836666)\n",
      " (159.43223738,  0, 0, -21.04441397, 0.52537905)\n",
      " (159.44797663,  0, 0, -21.3981835 , 0.51323371)\n",
      " (159.46371588,  0, 0, -20.38430328, 0.48459644)\n",
      " (159.47945513,  0, 0, -20.63610175, 0.46576015)\n",
      " (159.49519429,  0, 0, -19.31652339, 0.44956052)\n",
      " (159.51093344,  0, 0, -19.90802336, 0.43574693)\n",
      " (159.52667259,  0, 0, -20.43420214, 0.40790488)\n",
      " (159.54241175,  0, 0, -19.66199408, 0.398728  )\n",
      " (159.5581508 ,  0, 0, -18.60726415, 0.3651789 )\n",
      " (159.57388985,  0, 0, -18.28251033, 0.36886435)\n",
      " (159.58962889,  0, 0, -17.06830035, 0.35727323)\n",
      " (159.60536794,  0, 0, -19.11868057, 0.35981694)\n",
      " (159.62110688,  0, 0, -19.28625234, 0.3514157 )\n",
      " (159.63684582,  0, 0, -19.30434171, 0.31445127)\n",
      " (159.65258476,  0, 0, -19.54390864, 0.30314551)\n",
      " (159.6683237 ,  0, 0, -20.74269278, 0.28475426)\n",
      " (159.68406252,  0, 0, -19.13290071, 0.27216611)\n",
      " (159.69980134,  0, 0, -21.6943051 , 0.27893398)\n",
      " (159.71554016,  0, 0, -20.80000276, 0.26669247)\n",
      " (159.73127898,  0, 0, -22.50502798, 0.2656809 )\n",
      " (159.74701767,  0, 0, -22.68045804, 0.25754811)\n",
      " (159.76275636,  0, 0, -24.2799132 , 0.22684857)\n",
      " (159.77849506,  0, 0, -25.90924189, 0.21688517)\n",
      " (159.79423375,  0, 0, -26.80579753, 0.1845813 )\n",
      " (159.80997232,  0, 0, -28.23021392, 0.18016006)\n",
      " (159.82571088,  0, 0, -26.15930573, 0.15283618)\n",
      " (159.84144944,  0, 0, -24.91111772, 0.14425636)\n",
      " (159.857188  ,  0, 0, -25.61008931, 0.10423765)\n",
      " (159.87292643,  0, 0, -26.19116013, 0.08681467)\n",
      " (159.88866485,  0, 0, -33.74852517, 0.04130801)\n",
      " (159.90440327,  0, 0, -37.52209692, 0.03897366)\n",
      " (159.9201417 ,  0, 0, -37.21416256, 0.06672004)\n",
      " (159.93588005,  0, 0, -45.73478317, 0.05286261)\n",
      " (159.9516184 ,  0, 0, -51.72491651, 0.03322881)\n",
      " (159.96735675,  0, 0, -56.24993137, 0.0340262 )\n",
      " (159.9830951 ,  0, 0, -44.42972519, 0.04923985)\n",
      " (159.99883345,  0, 0, -31.67519894, 0.07967904)\n",
      " (160.01457181,  0, 0, -30.79751477, 0.14078536)\n",
      " (160.03031016,  0, 0, -30.04230349, 0.39913041)]\n"
     ]
    }
   ],
   "source": [
    "# 引入ipac.ned模組中的Ned類別，用於查詢NED提供的星系資料\n",
    "from astroquery.ipac.ned import Ned\n",
    "\n",
    "# 定義要查詢的星系名稱\n",
    "galaxy_name = 'M104'\n",
    "\n",
    "# 使用Ned物件的query_object()方法來查詢星系的基本資訊\n",
    "ned_query_result_table = Ned.query_object(galaxy_name)\n",
    "print(f'{galaxy_name}星系基本資訊：')\n",
    "print(ned_query_result_table)\n",
    "\n",
    "# 使用Ned物件的get_images_async()方法來取得星系的影像資料，它會回傳一個串列，其中每個元素代表不同的影像資料物件\n",
    "ned_images = Ned.get_images_async(galaxy_name)\n",
    "\n",
    "# 顯示第一個影像FITS檔案的資訊，並取出其影像的像素值資料\n",
    "print('影像資料FITS檔案資訊：')\n",
    "ned_images[0].get_fits().info()\n",
    "print('影像的像素資料：')\n",
    "ned_image_data = ned_images[0].get_fits()[0].data\n",
    "print(ned_image_data)\n",
    "\n",
    "# 使用Ned物件的get_spectra_async()方法來取得星系的光譜資料，它會回傳一個串列，其中每個元素代表不同的光譜資料物件\n",
    "ned_spectra = Ned.get_spectra_async(galaxy_name)\n",
    "\n",
    "# 顯示最後一個光譜FITS檔案的資訊，並取出其光譜資料\n",
    "print('光譜資料FITS檔案資訊：')\n",
    "ned_spectra[-1].get_fits().info()\n",
    "print('光譜資料：')\n",
    "ned_spectrum_data = ned_spectra[-1].get_fits()[1].data\n",
    "print(ned_spectrum_data)"
   ]
  },
  {
   "cell_type": "markdown",
   "id": "e0a4bd95-e64a-494d-991d-1b83da6ccc9d",
   "metadata": {},
   "source": [
    "### 範例2：使用sdss模組來取得SDSS觀測的星系影像及光譜資料"
   ]
  },
  {
   "cell_type": "code",
   "execution_count": 2,
   "id": "4d44910a-213f-434c-a190-5da7f64c7aad",
   "metadata": {},
   "outputs": [
    {
     "name": "stdout",
     "output_type": "stream",
     "text": [
      "NGC 7319星系的(RA, DEC)座標：<SkyCoord (ICRS): (ra, dec) in deg\n",
      "    (339.015009, 33.975882)>\n",
      "未找到光譜資料\n",
      "FITS檔案影像資料串列：\n",
      "[[<astropy.io.fits.hdu.image.PrimaryHDU object at 0x7f4a35578be0>, <astropy.io.fits.hdu.image.ImageHDU object at 0x7f4a35578580>, <astropy.io.fits.hdu.table.BinTableHDU object at 0x7f4a3557ad40>, <astropy.io.fits.hdu.table.BinTableHDU object at 0x7f4a35579d80>]]\n"
     ]
    },
    {
     "name": "stderr",
     "output_type": "stream",
     "text": [
      "WARNING: NoResultsWarning: Query returned no results. [astroquery.sdss.core]\n"
     ]
    }
   ],
   "source": [
    "# 引入sdss模組中的SDSS類別，用於查詢SDSS觀測的星系資料\n",
    "from astroquery.sdss import SDSS\n",
    "# 從astropy套件引入SkyCoord類別，用於處理天體座標\n",
    "from astropy.coordinates import SkyCoord\n",
    "\n",
    "# 定義一個用於取得星系的(RA,DEC)座標的函式\n",
    "def get_galaxy_coordinates(galaxy_name):\n",
    "    try:\n",
    "        # 使用SkyCoord的from_name()方法根據星系名稱查詢其座標\n",
    "        galaxy_coordinates = SkyCoord.from_name(galaxy_name)\n",
    "        return galaxy_coordinates\n",
    "    except Exception as e:\n",
    "        # 如果查詢過程中出現異常錯誤，輸出錯誤訊息並回傳None\n",
    "        print(f'星系座標取得失敗，錯誤訊息： {e}')\n",
    "        return None\n",
    "\n",
    "# 定義一個用於取得SDDS提供的星系影像和光譜資料的函式\n",
    "def fetch_galaxy_data_from_sdss(galaxy_coordinates, data_type='both'):\n",
    "    try:\n",
    "        # 檢查data_type參數是否有效\n",
    "        if data_type not in ['image', 'spectrum', 'both']:\n",
    "            raise ValueError('data_type參數必須是\"image\"、\"spectrum\"或\"both\"其中之一')\n",
    "\n",
    "        # 根據data_type參數的值，從SDSS資料庫中查詢影像資料\n",
    "        if data_type in ['image', 'both']:\n",
    "            # 使用SDSS物件的get_images()方法來取得特定星系的影像觀測資料\n",
    "            sdss_images = SDSS.get_images(coordinates=galaxy_coordinates)\n",
    "            if not sdss_images:\n",
    "                print('未找到影像資料')\n",
    "                sdss_images = None\n",
    "        else:\n",
    "            sdss_images = None\n",
    "        \n",
    "        # 根據data_type參數的值，從SDSS資料庫中查詢光譜資料\n",
    "        if data_type in ['spectrum', 'both']:\n",
    "            # 使用SDSS物件的get_spectra()方法來取得特定星系的光譜觀測資料\n",
    "            sdss_spectra = SDSS.get_spectra(coordinates=galaxy_coordinates)\n",
    "            if not sdss_spectra:\n",
    "                print('未找到光譜資料')\n",
    "                sdss_spectra = None\n",
    "        else:\n",
    "            sdss_spectra = None\n",
    "        \n",
    "        return sdss_images, sdss_spectra\n",
    "    except Exception as e:\n",
    "        # 如果查詢過程中出現異常錯誤，輸出錯誤訊息並回傳None, None\n",
    "        print(f'星系資料取得失敗，錯誤訊息： {e}')\n",
    "        return None, None\n",
    "\n",
    "# 設定要查詢的星系名稱\n",
    "galaxy_name = 'NGC 7319'\n",
    "# 取得星系座標\n",
    "galaxy_coordinates = get_galaxy_coordinates(galaxy_name)  \n",
    "print(f'{galaxy_name}星系的(RA, DEC)座標：{galaxy_coordinates}')\n",
    "if galaxy_coordinates:\n",
    "    # 如果成功取得星系座標，則呼叫fetch_galaxy_data_from_sdss()函式來取得星系的觀測資料\n",
    "    sdss_images, sdss_spectra = fetch_galaxy_data_from_sdss(galaxy_coordinates)\n",
    "    if sdss_images:\n",
    "        print('FITS檔案影像資料串列：')\n",
    "        print(sdss_images)\n",
    "    if sdss_spectra:\n",
    "        print('FITS檔案光譜資料串列：')\n",
    "        print(sdss_spectra)"
   ]
  },
  {
   "cell_type": "markdown",
   "id": "21d30c08-5e66-4ce5-99ab-e36183ffd828",
   "metadata": {},
   "source": [
    "### 範例3：使用mast模組來取得MAST提供的星系影像及光譜資料"
   ]
  },
  {
   "cell_type": "code",
   "execution_count": 3,
   "id": "fd4dda10-675f-418e-9256-fdd2c575719e",
   "metadata": {},
   "outputs": [
    {
     "name": "stdout",
     "output_type": "stream",
     "text": [
      "找到 470 筆觀測，請查看回傳的obs_table變數\n",
      "你選擇obs_table中的第 15 筆觀測，該觀測有 13 筆觀測資料，請查看回傳的product_list_table變數\n",
      "正在下載product_list_table中的第 10 筆觀測資料，請稍後......\n",
      "Downloading URL https://mast.stsci.edu/api/v0.1/Download/file?uri=mast:HST/product/w0lc0701t_d0f.fits to ./mastDownload/HST/w0lc0701t/w0lc0701t_d0f.fits ... [Done]\n",
      "下載成功！請查看回傳的downloaded_product_table變數\n",
      "                   Local Path                    Status  Message URL \n",
      "----------------------------------------------- -------- ------- ----\n",
      "./mastDownload/HST/w0lc0701t/w0lc0701t_d0f.fits COMPLETE    None None\n",
      "Filename: ./mastDownload/HST/w0lc0701t/w0lc0701t_d0f.fits\n",
      "No.    Name      Ver    Type      Cards   Dimensions   Format\n",
      "  0  PRIMARY       1 PrimaryHDU     194   (800, 800, 4)   int16   \n",
      "  1  w0lc0701t.d0h.tab    1 TableHDU       158   4R x 37C   [D25.16, D25.16, E15.7, E15.7, E15.7, E15.7, E15.7, E15.7, E15.7, E15.7, A4, E15.7, I11, I11, D25.16, D25.16, A8, A8, I11, E15.7, E15.7, E15.7, E15.7, E15.7, E15.7, I11, I11, I11, I11, I11, I11, I11, A24, E15.7, E15.7, E15.7, E15.7]   \n"
     ]
    }
   ],
   "source": [
    "# 引入mast模組中的Observations類別，用於查詢MAST提供的星系觀測資料\n",
    "from astroquery.mast import Observations\n",
    "# 引入astropy中的fits子套件，用於FITS檔案的操作\n",
    "from astropy.io import fits\n",
    "\n",
    "# 定義一個用於取得MAST提供的星系影像和光譜資料的函式\n",
    "def fetch_galaxy_data_from_mast(galaxy_name, telescope='HST', data_type='IMAGE', observation_index=0, product_index=0):\n",
    "    try:\n",
    "        # 檢查telescope參數是否為有效值，HST代表哈伯太空望遠鏡，JWST代表韋伯太空望遠鏡\n",
    "        if telescope not in ['HST', 'JWST']:\n",
    "            raise ValueError('telescope參數必須是\"HST\"或\"JWST\"其中之一')\n",
    "        # 檢查data_type參數是否為有效值\n",
    "        if data_type not in ['IMAGE', 'SPECTRUM']:\n",
    "            raise ValueError('data_type參數必須是\"IMAGE\"或\"SPECTRUM\"其中之一')\n",
    "\n",
    "        # 使用Observations物件的query_criteria()、get_product_list()和download_products()等方法來查詢並下載特定星系的觀測資料\n",
    "        obs_table = Observations.query_criteria(objectname=galaxy_name, obs_collection=telescope, dataproduct_type=data_type)\n",
    "        print(f'找到 {len(obs_table)} 筆觀測，請查看回傳的obs_table變數')\n",
    "        \n",
    "        if len(obs_table) == 0:\n",
    "            return obs_table, None, None\n",
    "\n",
    "        # 檢查observation_index參數是否在有效範圍內\n",
    "        if observation_index >= len(obs_table):\n",
    "            print('輸入的observation_index參數超出obs_table的觀測筆數，請修改')\n",
    "            return obs_table, None, None\n",
    "        \n",
    "        product_list_table = Observations.get_product_list(obs_table[observation_index])\n",
    "        print(f'你選擇obs_table中的第 {observation_index + 1} 筆觀測，該觀測有 {len(product_list_table)} 筆觀測資料，請查看回傳的product_list_table變數')\n",
    "\n",
    "        # 檢查product_index參數是否在有效範圍內\n",
    "        if product_index >= len(product_list_table):\n",
    "            print('輸入的product_index參數超出product_list_table的觀測資料筆數，請修改')\n",
    "            return obs_table, product_list_table, None\n",
    "\n",
    "        print(f'正在下載product_list_table中的第 {product_index + 1} 筆觀測資料，請稍後......')\n",
    "        downloaded_product_table = Observations.download_products(product_list_table[product_index], extension='fits')\n",
    "        print('下載成功！請查看回傳的downloaded_product_table變數')\n",
    "        return obs_table, product_list_table, downloaded_product_table\n",
    "\n",
    "    except Exception as e:\n",
    "        print(f'星系資料取得失敗，錯誤訊息： {e}')\n",
    "        return None, None, None\n",
    "\n",
    "# 設定要查詢的星系名稱\n",
    "galaxy_name = 'M104'\n",
    "# 呼叫fetch_galaxy_data_from_mast()函式來查詢並下載星系的觀測資料\n",
    "obs_table, product_list_table, downloaded_product_table = fetch_galaxy_data_from_mast(\n",
    "    galaxy_name, observation_index=14, product_index=9\n",
    ")\n",
    "# 如果成功下載觀測資料，則顯示下載的FITS檔案資訊\n",
    "if downloaded_product_table:\n",
    "    print(downloaded_product_table)\n",
    "    filename = downloaded_product_table[0]['Local Path']\n",
    "    hdu_list = fits.open(filename)\n",
    "    hdu_list.info()"
   ]
  },
  {
   "cell_type": "markdown",
   "id": "38b32f32-9b7f-4613-8dfa-cf97404d8bad",
   "metadata": {},
   "source": [
    "## (三) 如何用Python視覺化探索星系觀測資料？"
   ]
  },
  {
   "cell_type": "markdown",
   "id": "96fa2260-cc03-4e1f-b2a0-f8ae8001b065",
   "metadata": {},
   "source": [
    "[Jdaviz](https://jdaviz.readthedocs.io)是一個基於Jupyter notebook環境的天文資料視覺化分析套件，由[Space Telescope Science Institute](https://zh.wikipedia.org/zh-tw/%E5%A4%AA%E7%A9%BA%E6%9C%9B%E9%81%A0%E9%8F%A1%E7%A7%91%E5%AD%B8%E7%A0%94%E7%A9%B6%E6%89%80)開發，主要用於韋伯太空望遠鏡的資料視覺化探索。它提供[Imviz](https://jdaviz.readthedocs.io/en/latest/imviz/index.html)、[Specviz](https://jdaviz.readthedocs.io/en/latest/specviz/index.html)等工具，讓使用者能透過圖形化介面操作影像及光譜資料的視覺化，並進行初步的分析。\n",
    "執行以下指令以安裝Jdaviz(註：目前Google Colab環境尚未支援Jdaviz，安裝過程會發生版本衝突，所以請用其他的Jupyter notebook環境)："
   ]
  },
  {
   "cell_type": "code",
   "execution_count": null,
   "id": "48afe2cf-17a1-4ca6-bcb4-d85b49ef9ca1",
   "metadata": {},
   "outputs": [],
   "source": [
    "pip install jdaviz "
   ]
  },
  {
   "cell_type": "markdown",
   "id": "d10c06f6-3d76-4943-a52e-9ee02f29f4e2",
   "metadata": {},
   "source": [
    "### 範例1：視覺化探索韋伯太空望遠鏡觀測星系團[Abell 2744](https://zh.wikipedia.org/zh-tw/%E9%98%BF%E8%B2%9D%E7%88%BE_2744)的影像資料"
   ]
  },
  {
   "cell_type": "code",
   "execution_count": 4,
   "id": "cc75b55d-8355-4923-a6e7-0e9818e62d2b",
   "metadata": {},
   "outputs": [
    {
     "name": "stdout",
     "output_type": "stream",
     "text": [
      "Downloading URL https://mast.stsci.edu/api/v0.1/Download/file?uri=mast:JWST/product/jw01324001001_12201_00003_nrcblong_i2d.fits to ./mastDownload/JWST/jw01324001001_12201_00003_nrcblong/jw01324001001_12201_00003_nrcblong_i2d.fits ... [Done]\n"
     ]
    },
    {
     "data": {
      "application/vnd.jupyter.widget-view+json": {
       "model_id": "0a483f94ff03411683dfba76f651c3dd",
       "version_major": 2,
       "version_minor": 0
      },
      "text/plain": [
       "Application(config='imviz', docs_link='https://jdaviz.readthedocs.io/en/v3.7.0/imviz/index.html', events=['cal…"
      ]
     },
     "metadata": {},
     "output_type": "display_data"
    }
   ],
   "source": [
    "# 引入mast模組中的Observations類別，用於查詢MAST提供的星系觀測資料\n",
    "from astroquery.mast import Observations\n",
    "# 從jdaviz套件中引入Imviz類別，用來視覺化天文影像資料\n",
    "from jdaviz import Imviz\n",
    "\n",
    "# 使用Observations類別的query_criteria()方法來查詢韋伯太空望遠鏡觀測星系團Abell 2744的影像資料\n",
    "obs_table = Observations.query_criteria(target_name='Abell2744', obs_collection='JWST', dataproduct_type='IMAGE')\n",
    "\n",
    "# 將回傳的查詢結果(astropy的table物件)轉換成Pandas的dataframe物件，以便操作資料篩選\n",
    "obs_table_df = obs_table.to_pandas()\n",
    "\n",
    "# 進行資料篩選，並取得篩選後的第一筆資料在原本obs_table中的索引，然後以該索引取得相應的product_list_table\n",
    "obs_table_df = obs_table_df[(obs_table_df['t_exptime'] > 5000) & (obs_table_df['filters'] == 'F444W')]\n",
    "obs_table_index = obs_table_df.index[0]\n",
    "product_list_table = Observations.get_product_list(obs_table[obs_table_index])\n",
    "\n",
    "# 將product_list_table(astropy的table物件)轉換成Pandas的dataframe物件，以便操作資料篩選\n",
    "product_list_table_df = product_list_table.to_pandas()\n",
    "\n",
    "# 進行資料篩選，並取得篩選後的最後一筆資料在原本product_list_table中的索引，然後以該索引下載相應的觀測資料FITS檔\n",
    "product_list_table_df = product_list_table_df[(product_list_table_df['productType'] == 'SCIENCE') & (product_list_table_df['description'].str.contains('rectified 2D image'))]\n",
    "product_list_table_index = product_list_table_df.index[-1]\n",
    "downloaded_product_table = Observations.download_products(product_list_table[product_list_table_index], extension='fits')\n",
    "\n",
    "# 取得下載到的觀測資料FITS檔案路徑，並且用Imviz物件的load_data()和show()方法來載入和視覺化影像資料\n",
    "downloaded_fits_filepath = downloaded_product_table[0]['Local Path']\n",
    "imviz = Imviz()\n",
    "imviz.load_data(downloaded_fits_filepath)\n",
    "imviz.show()"
   ]
  },
  {
   "cell_type": "markdown",
   "id": "f0fa5dad-124d-4eb2-b347-3cdc0d73afce",
   "metadata": {},
   "source": [
    "### 範例2：視覺化探索韋伯太空望遠鏡觀測類星體[SDSS J0100+2802](https://zh.wikipedia.org/zh-tw/SDSS_J0100%2B2802)的光譜資料"
   ]
  },
  {
   "cell_type": "code",
   "execution_count": 5,
   "id": "ecfa2ad6-84ce-47a4-82fd-ccf5fae32c08",
   "metadata": {},
   "outputs": [
    {
     "name": "stdout",
     "output_type": "stream",
     "text": [
      "Downloading URL https://mast.stsci.edu/api/v0.1/Download/file?uri=mast:JWST/product/jw01243001004_04101_00012_nrcblong_x1d.fits to ./mastDownload/JWST/jw01243001004_04101_00012_nrcblong/jw01243001004_04101_00012_nrcblong_x1d.fits ... [Done]\n"
     ]
    },
    {
     "data": {
      "application/vnd.jupyter.widget-view+json": {
       "model_id": "4d2b66ca0fa74c57b7ed0cc30d839401",
       "version_major": 2,
       "version_minor": 0
      },
      "text/plain": [
       "Application(config='specviz', docs_link='https://jdaviz.readthedocs.io/en/v3.7.0/specviz/index.html', events=[…"
      ]
     },
     "metadata": {},
     "output_type": "display_data"
    }
   ],
   "source": [
    "# 引入mast模組中的Observations類別，用於查詢MAST提供的星系觀測資料\n",
    "from astroquery.mast import Observations\n",
    "# 從jdaviz套件中引入Specviz類別，用來視覺化天文光譜資料\n",
    "from jdaviz import Specviz\n",
    "\n",
    "# 使用Observations類別的query_criteria()方法來查詢韋伯太空望遠鏡觀測類星體SDSS J0100+2802的光譜資料\n",
    "obs_table = Observations.query_criteria(target_name='J0100+2802', obs_collection='JWST', dataproduct_type='SPECTRUM')\n",
    "\n",
    "# 將回傳的查詢結果(astropy的table物件)轉換成Pandas的dataframe物件，以便操作資料篩選\n",
    "obs_table_df = obs_table.to_pandas()\n",
    "\n",
    "# 進行資料篩選，並取得篩選後的第一筆資料在原本obs_table中的索引，然後以該索引取得相應的product_list_table\n",
    "obs_table_df = obs_table_df[obs_table_df['target_classification'].fillna('').str.contains('Quasars')]\n",
    "obs_table_index = obs_table_df.index[0]\n",
    "product_list_table = Observations.get_product_list(obs_table[obs_table_index])\n",
    "\n",
    "# 將product_list_table(astropy的table物件)轉換成Pandas的dataframe物件，以便操作資料篩選\n",
    "product_list_table_df = product_list_table.to_pandas()\n",
    "\n",
    "# 進行資料篩選，並取得篩選後的最後一筆資料在原本product_list_table中的索引，然後以該索引下載相應的觀測資料FITS檔\n",
    "product_list_table_df = product_list_table_df[(product_list_table_df['productType'] == 'SCIENCE') & (product_list_table_df['description'].str.contains('1D extracted spectrum'))]\n",
    "product_list_table_index = product_list_table_df.index[-1]\n",
    "downloaded_product_table = Observations.download_products(product_list_table[product_list_table_index], extension='fits')\n",
    "\n",
    "# 取得下載到的觀測資料FITS檔案路徑，並且用Specviz物件的load_data()和show()方法來載入和視覺化光譜資料\n",
    "downloaded_fits_filepath = downloaded_product_table[0]['Local Path']\n",
    "specviz = Specviz()\n",
    "specviz.load_data(downloaded_fits_filepath)\n",
    "specviz.show()"
   ]
  },
  {
   "cell_type": "code",
   "execution_count": null,
   "id": "41805e21-ff6d-461c-9c43-2072fbf83cd7",
   "metadata": {},
   "outputs": [],
   "source": []
  }
 ],
 "metadata": {
  "kernelspec": {
   "display_name": "Python 3 (ipykernel)",
   "language": "python",
   "name": "python3"
  },
  "language_info": {
   "codemirror_mode": {
    "name": "ipython",
    "version": 3
   },
   "file_extension": ".py",
   "mimetype": "text/x-python",
   "name": "python",
   "nbconvert_exporter": "python",
   "pygments_lexer": "ipython3",
   "version": "3.10.13"
  }
 },
 "nbformat": 4,
 "nbformat_minor": 5
}

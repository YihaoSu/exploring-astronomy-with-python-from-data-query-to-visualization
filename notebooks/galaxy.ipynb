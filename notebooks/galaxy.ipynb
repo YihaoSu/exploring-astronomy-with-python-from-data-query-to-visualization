{
 "cells": [
  {
   "cell_type": "markdown",
   "id": "671a3d28-ec6b-414a-820d-fd6e801a4a12",
   "metadata": {},
   "source": [
    "# 如何用Python探索星系觀測資料？\n",
    "此notebook為[「用Python探索天文：從資料取得到視覺化」](https://github.com/YihaoSu/exploring-astronomy-with-python-from-data-query-to-visualization)一書的相關程式碼，由[蘇羿豪](https://astrobackhacker.tw/)編寫，並以[MIT授權條款](https://github.com/YihaoSu/exploring-astronomy-with-python-from-data-query-to-visualization/blob/main/LICENSE)釋出。「用Python探索天文：從資料取得到視覺化」這本書是[「天文的資料科學」教育產品開發計畫](https://matters.news/@astrobackhacker/364036-%E5%A4%A9%E6%96%87%E7%9A%84%E8%B3%87%E6%96%99%E7%A7%91%E5%AD%B8-%E4%BE%86%E7%94%A8python%E6%8B%89%E8%BF%91%E6%88%91%E5%80%91%E8%88%87%E6%98%9F%E7%A9%BA%E7%9A%84%E8%B7%9D%E9%9B%A2-%E6%95%99%E8%82%B2%E7%94%A2%E5%93%81%E9%96%8B%E7%99%BC%E8%AA%BF%E6%9F%A5%E8%A1%A8%E5%96%AE-bafybeiahet2kggahd2wwst6flujiwkdwvg6wyiz23c4dtlgyvn2odhfdfi)的一部分，如果你想要體驗更多從資料產出天文新知識的旅程，歡迎填寫[這份調查表單](https://docs.google.com/forms/d/e/1FAIpQLSdSjnrvdsqAtALGfIMxXhQMZ9PRO-e_2ML6kzg6tjqyHNl1eA/viewform)，讓我能根據你的需求及建議，制定適合你的教學內容及呈現方式。"
   ]
  },
  {
   "cell_type": "markdown",
   "id": "d39d4b0c-b369-4753-a283-a3e795ffe9e3",
   "metadata": {},
   "source": [
    "## (一) 哪些平台有將星系觀測資料開放給⼤眾使⽤？\n",
    "以下列出幾個可以下載到星系觀測資料的平台："
   ]
  },
  {
   "cell_type": "markdown",
   "id": "d54df3ff-8a28-481f-aae7-547724bfd3ed",
   "metadata": {},
   "source": [
    "## SkyServer SDSS\n",
    "[SkyServer SDSS](https://skyserver.sdss.org)是一個用來查詢和下載[Sloan Digital Sky Survey(SDSS)](https://zh.wikipedia.org/wiki/%E5%8F%B2%E9%9A%86%E6%95%B8%E4%BD%8D%E5%B7%A1%E5%A4%A9)觀測資料的網站。SDSS是一個以美國新墨西哥州阿帕契點天文台的2.5公尺光學望遠鏡進行的巡天調查計畫。為了了解星系的分布、結構、形成和演化，SDSS收集了大量的天體影像和光譜資料。"
   ]
  },
  {
   "cell_type": "markdown",
   "id": "fd5c396d-c1ef-410c-90f2-b440daf44f5e",
   "metadata": {},
   "source": [
    "## NASA/IPAC Extragalactic Database(NED)\n",
    "[NED](https://ned.ipac.caltech.edu/)是由美國太空總署資助並由IPAC(Infrared Processing and Analysis Center)營運的天文資料庫，提供星系等銀河系外天體的資訊查詢及觀測資料下載服務。"
   ]
  },
  {
   "cell_type": "markdown",
   "id": "6a0eb9de-95ad-40cb-907c-0cbd7c059cb5",
   "metadata": {},
   "source": [
    "## Mikulski Archive for Space Telescopes(MAST)\n",
    "[MAST](https://archive.stsci.edu/)是一個天文觀測資料中心，專門存儲和管理多個太空及地面天文觀測計畫的資料。透過它的網站，你能夠搜尋並下載韋伯和哈伯太空望遠鏡所觀測的星系影像及光譜資料。"
   ]
  }
 ],
 "metadata": {
  "kernelspec": {
   "display_name": "Python 3 (ipykernel)",
   "language": "python",
   "name": "python3"
  },
  "language_info": {
   "codemirror_mode": {
    "name": "ipython",
    "version": 3
   },
   "file_extension": ".py",
   "mimetype": "text/x-python",
   "name": "python",
   "nbconvert_exporter": "python",
   "pygments_lexer": "ipython3",
   "version": "3.10.13"
  }
 },
 "nbformat": 4,
 "nbformat_minor": 5
}

{
 "cells": [
  {
   "cell_type": "markdown",
   "id": "5af0b14b",
   "metadata": {},
   "source": [
    "# 如何用Python探索系外行星觀測資料？\n",
    "此notebook為[「用Python探索天文：從資料取得到視覺化」](https://github.com/YihaoSu/exploring-astronomy-with-python-from-data-query-to-visualization)一書的相關程式碼，由[蘇羿豪](https://astrobackhacker.tw/)編寫，並以[MIT授權條款](https://github.com/YihaoSu/exploring-astronomy-with-python-from-data-query-to-visualization/blob/main/LICENSE)釋出。「用Python探索天文：從資料取得到視覺化」這本書是[「天文的資料科學」教育產品開發計畫](https://matters.news/@astrobackhacker/364036-%E5%A4%A9%E6%96%87%E7%9A%84%E8%B3%87%E6%96%99%E7%A7%91%E5%AD%B8-%E4%BE%86%E7%94%A8python%E6%8B%89%E8%BF%91%E6%88%91%E5%80%91%E8%88%87%E6%98%9F%E7%A9%BA%E7%9A%84%E8%B7%9D%E9%9B%A2-%E6%95%99%E8%82%B2%E7%94%A2%E5%93%81%E9%96%8B%E7%99%BC%E8%AA%BF%E6%9F%A5%E8%A1%A8%E5%96%AE-bafybeiahet2kggahd2wwst6flujiwkdwvg6wyiz23c4dtlgyvn2odhfdfi)的一部分，如果你想要體驗更多從資料產出天文新知識的旅程，歡迎填寫[這份調查表單](https://docs.google.com/forms/d/e/1FAIpQLSdSjnrvdsqAtALGfIMxXhQMZ9PRO-e_2ML6kzg6tjqyHNl1eA/viewform)，讓我能根據你的需求及建議，制定適合你的教學內容及呈現方式。"
   ]
  },
  {
   "cell_type": "markdown",
   "id": "9470b0d9",
   "metadata": {},
   "source": [
    "## (一) 哪些系外行星觀測計畫有將資料開放給⼤眾使⽤？\n",
    "\n",
    "以下列出幾個有開放下載[系外行星](https://zh.wikipedia.org/zh-tw/%E5%A4%AA%E9%99%BD%E7%B3%BB%E5%A4%96%E8%A1%8C%E6%98%9F)觀測資料的太空任務及資料庫網站："
   ]
  },
  {
   "cell_type": "markdown",
   "id": "9e1ce8c2",
   "metadata": {},
   "source": [
    "### 凌日系外行星巡天衛星(Transiting Exoplanet Survey Satellite，簡稱TESS)\n",
    "TESS是由美國太空總署主導的太空望遠鏡計畫，於2018年發射升空，主要任務是巡察全天空超過85%的區域範圍，觀測離地球較近的恆星，並以[凌日法](https://zh.wikipedia.org/zh-tw/%E7%B3%BB%E5%A4%96%E8%A1%8C%E6%98%9F%E5%81%B5%E6%B8%AC%E6%B3%95#%E5%87%8C%E6%97%A5%E6%B3%95)尋找可能環繞這些恆星運行的系外行星。你可以從這個網站進入它的資料下載入口：https://archive.stsci.edu/missions-and-data/tess"
   ]
  },
  {
   "cell_type": "markdown",
   "id": "4feaa6dc",
   "metadata": {},
   "source": [
    "### 克卜勒太空望遠鏡(Kepler space telescope)和K2\n",
    "在TESS運作之前，美國太空總署在2009年有發射一個名為克卜勒的太空望遠鏡，它也是用[凌日法](https://zh.wikipedia.org/zh-tw/%E7%B3%BB%E5%A4%96%E8%A1%8C%E6%98%9F%E5%81%B5%E6%B8%AC%E6%B3%95#%E5%87%8C%E6%97%A5%E6%B3%95)來搜尋系外行星，但只針對位於天鵝座和天琴座之間的一個固定區域進行觀測。克卜勒太空望遠鏡在2013年部份零件受損，導致原本的任務無法繼續，於是美國太空總署利用剩下尚能運作的儀器，改以新任務K2繼續進行觀測直到2018年。你可以從以下兩個連結分別進入Kepler和K2的資料下載入口：https://archive.stsci.edu/missions-and-data/kepler 和 https://archive.stsci.edu/missions-and-data/k2"
   ]
  },
  {
   "cell_type": "markdown",
   "id": "8725decf",
   "metadata": {},
   "source": [
    "### 美國太空總署的系外行星資料庫網站(NASA Exoplanet Archive)\n",
    "[NASA Exoplanet Archive](https://exoplanetarchive.ipac.caltech.edu)能查詢被TESS、Kepler和K2所發現的系外行星相關資訊，包含系外行星名稱、所屬恆星名稱、發現年份、發現方法、軌道週期、距離地球多遠、質量大小等等。"
   ]
  },
  {
   "cell_type": "markdown",
   "id": "c8d1a46c",
   "metadata": {},
   "source": [
    "## (二) 如何用Python取得系外行星觀測資料？"
   ]
  },
  {
   "cell_type": "markdown",
   "id": "4921facc",
   "metadata": {},
   "source": [
    "[Lightkurve](https://docs.lightkurve.org/)套件能搜尋並下載Kepler太空望遠鏡和凌日系外行星巡天衛星的影像及[光變曲線](https://zh.wikipedia.org/zh-tw/%E5%85%89%E8%AE%8A%E6%9B%B2%E7%B7%9A)觀測資料，且能分析光變週期，以[凌日法](https://zh.wikipedia.org/zh-tw/%E7%B3%BB%E5%A4%96%E8%A1%8C%E6%98%9F%E5%81%B5%E6%B8%AC%E6%B3%95#%E5%87%8C%E6%97%A5%E6%B3%95)尋找系外行星。執行以下指令以安裝lightkurve："
   ]
  },
  {
   "cell_type": "code",
   "execution_count": null,
   "id": "6b7251bc",
   "metadata": {},
   "outputs": [],
   "source": [
    "pip install lightkurve"
   ]
  },
  {
   "cell_type": "markdown",
   "id": "d7d15d43",
   "metadata": {},
   "source": [
    "### 用Lightkurve取得影像和光變曲線觀測資料的方法\n",
    "Lightkurve有提供影像和光變曲線這兩種資料類型的相關物件，分別是[TargetPixelFile](https://docs.lightkurve.org/tutorials/1-getting-started/what-are-targetpixelfile-objects.html)和[LightCurve](https://docs.lightkurve.org/tutorials/1-getting-started/what-are-lightcurve-objects.html)。TargetPixelFile物件包含了望遠鏡的CCD相機在觀測目標星體期間所記錄的像素資料變化。你可以使用[search_targetpixelfile()](https://docs.lightkurve.org/reference/api/lightkurve.search_targetpixelfile.html)函式，輸入星體名稱或識別編碼後，就能搜尋並下載相關的Target Pixel File影像資料。至於LightCurve物件，則包含星體亮度隨時間變化的時間序列資料。你可以從一個TargetPixelFile物件中提取出LightCurve物件，或者直接使用[search_lightcurve()](https://docs.lightkurve.org/reference/api/lightkurve.search_lightcurve.html)函式來搜尋並下載光變曲線資料。"
   ]
  },
  {
   "cell_type": "markdown",
   "id": "e7418743-d3b0-40e2-8f92-9f0c3eeadae9",
   "metadata": {},
   "source": [
    "### 範例1：使用search_targetpixelfile()函式取得影像資料"
   ]
  },
  {
   "cell_type": "code",
   "execution_count": 1,
   "id": "1fe5ccec-66e8-4beb-acc7-a2b34670f18c",
   "metadata": {},
   "outputs": [
    {
     "name": "stdout",
     "output_type": "stream",
     "text": [
      "['/home/yhsu/.lightkurve/cache/mastDownload/Kepler/kplr011904151_sc_Q001313330333033302/kplr011904151-2011208035123_spd-targ.fits.gz', '/home/yhsu/.lightkurve/cache/mastDownload/Kepler/kplr011904151_sc_Q001313330333033302/kplr011904151-2011240104155_spd-targ.fits.gz', '/home/yhsu/.lightkurve/cache/mastDownload/Kepler/kplr011904151_sc_Q001313330333033302/kplr011904151-2011271113734_spd-targ.fits.gz', '/home/yhsu/.lightkurve/cache/mastDownload/Kepler/kplr011904151_lc_Q111111110111011101/kplr011904151-2011271113734_lpd-targ.fits.gz']\n"
     ]
    },
    {
     "data": {
      "text/html": [
       "SearchResult containing 4 data products.\n",
       "\n",
       "<table id=\"table140434335137312\">\n",
       "<thead><tr><th>#</th><th>mission</th><th>year</th><th>author</th><th>exptime</th><th>target_name</th><th>distance</th></tr></thead>\n",
       "<thead><tr><th></th><th></th><th></th><th></th><th>s</th><th></th><th>arcsec</th></tr></thead>\n",
       "<tr><td>0</td><td>Kepler Quarter 10</td><td>2011</td><td><a href='https://archive.stsci.edu/kepler/data_products.html'>Kepler</a></td><td>60</td><td>kplr011904151</td><td>0.0</td></tr>\n",
       "<tr><td>1</td><td>Kepler Quarter 10</td><td>2011</td><td><a href='https://archive.stsci.edu/kepler/data_products.html'>Kepler</a></td><td>60</td><td>kplr011904151</td><td>0.0</td></tr>\n",
       "<tr><td>2</td><td>Kepler Quarter 10</td><td>2011</td><td><a href='https://archive.stsci.edu/kepler/data_products.html'>Kepler</a></td><td>60</td><td>kplr011904151</td><td>0.0</td></tr>\n",
       "<tr><td>3</td><td>Kepler Quarter 10</td><td>2011</td><td><a href='https://archive.stsci.edu/kepler/data_products.html'>Kepler</a></td><td>1800</td><td>kplr011904151</td><td>0.0</td></tr>\n",
       "</table>"
      ],
      "text/plain": [
       "SearchResult containing 4 data products.\n",
       "\n",
       " #       mission      year author exptime  target_name  distance\n",
       "                                     s                   arcsec \n",
       "--- ----------------- ---- ------ ------- ------------- --------\n",
       "  0 Kepler Quarter 10 2011 Kepler      60 kplr011904151      0.0\n",
       "  1 Kepler Quarter 10 2011 Kepler      60 kplr011904151      0.0\n",
       "  2 Kepler Quarter 10 2011 Kepler      60 kplr011904151      0.0\n",
       "  3 Kepler Quarter 10 2011 Kepler    1800 kplr011904151      0.0"
      ]
     },
     "execution_count": 1,
     "metadata": {},
     "output_type": "execute_result"
    }
   ],
   "source": [
    "# 引入lightkurve套件\n",
    "import lightkurve as lk\n",
    "\n",
    "# 設定想要查詢的系外行星所屬恆星的名稱，例如Kepler-10\n",
    "target_name = 'Kepler-10'\n",
    "# 設定是否要下載所有相關的Target Pixel File(TPF)\n",
    "download_all = True\n",
    "# 使用search_targetpixelfile()函式來搜尋目標星體的影像資料，這裡設定的任務名稱為Kepler，且只搜尋該任務的第10季觀測資料\n",
    "tpf_search_result = lk.search_targetpixelfile(target_name, mission='Kepler', quarter=10)\n",
    "\n",
    "# 依據download_all變數的設定值來決定下載方式。若設定為True，則使用download_all()來下載搜尋結果中所有的TPFs，若設為False，則用download()下載第一個TPF\n",
    "if download_all:\n",
    "    tpf_collection = tpf_search_result.download_all()\n",
    "    # 顯示所有下載的TPFs檔案的路徑\n",
    "    print([tpf.path for tpf in tpf_collection.data])\n",
    "else:\n",
    "    tpf = tpf_search_result[0].download()\n",
    "    # 顯示下載的TPF檔案的路徑\n",
    "    print(tpf.path)\n",
    "\n",
    "# 顯示search_targetpixelfile()回傳的搜索結果\n",
    "tpf_search_result"
   ]
  },
  {
   "cell_type": "markdown",
   "id": "8fa6622d-598d-4b05-aed4-0e3eabed4335",
   "metadata": {},
   "source": [
    "### 範例2：使用search_lightcurve()函式取得光變曲線資料"
   ]
  },
  {
   "cell_type": "code",
   "execution_count": 2,
   "id": "773d99ee-da9f-4de2-a57f-22202e0b4d5b",
   "metadata": {},
   "outputs": [
    {
     "name": "stdout",
     "output_type": "stream",
     "text": [
      "       time             flux         flux_err        quality         timecorr   centroid_col ... mom_centr1 mom_centr1_err mom_centr2 mom_centr2_err   pos_corr1      pos_corr2   \n",
      "                    electron / s   electron / s                         d           pix      ...    pix          pix          pix          pix            pix            pix      \n",
      "------------------ -------------- -------------- ---------------- ------------- ------------ ... ---------- -------------- ---------- -------------- -------------- --------------\n",
      " 120.5391465105713  5.0146684e+05  2.0574972e+01                0  9.940906e-04    659.36896 ...  659.36896  3.6308160e-05  250.31948  5.3553398e-05  1.7792054e-03  3.3286733e-03\n",
      "120.55958073025249  5.0141212e+05  2.0597826e+01                0  9.947103e-04    659.36919 ...  659.36919  3.6305861e-05  250.31978  5.3553318e-05  1.9566093e-03  3.5631030e-03\n",
      "120.58001484981651  5.0140281e+05  2.0634075e+01                0  9.953298e-04    659.36918 ...  659.36918  3.6309517e-05  250.31934  5.3547948e-05  2.0698714e-03  3.4072644e-03\n",
      "120.60044916937477  5.0135972e+05  2.0607729e+01                0  9.959494e-04    659.36967 ...  659.36967  3.6312224e-05  250.31932  5.3564647e-05  2.4259784e-03  3.0491522e-03\n",
      "120.62088338893955  5.0144759e+05  2.0585588e+01                0  9.965689e-04    659.36989 ...  659.36989  3.6307927e-05  250.31906  5.3543699e-05  2.7262936e-03  3.2327282e-03\n",
      "120.64131750838715  5.0142422e+05  2.0622503e+01                0  9.971884e-04    659.37001 ...  659.37001  3.6310295e-05  250.31846  5.3552700e-05  2.8024365e-03  2.5497559e-03\n",
      "120.66175172782823  5.0134612e+05  2.0596804e+01                0  9.978078e-04    659.37024 ...  659.37024  3.6316073e-05  250.31868  5.3557891e-05  2.9968296e-03  2.9109719e-03\n",
      "120.68218604727736  5.0136928e+05  2.0572752e+01                0  9.984273e-04    659.37011 ...  659.37011  3.6316418e-05  250.31860  5.3558793e-05  2.9321318e-03  2.7981971e-03\n",
      "120.70262016672496  5.0140212e+05  2.0617153e+01                0  9.990467e-04    659.37004 ...  659.37004  3.6314828e-05  250.31870  5.3555530e-05  2.9108874e-03  2.8240951e-03\n",
      "120.72305438616604  5.0147859e+05  2.0648722e+01                0  9.996662e-04    659.37020 ...  659.37020  3.6309768e-05  250.31823  5.3549164e-05  3.0041032e-03  2.4626369e-03\n",
      "120.74348870549875  5.0146162e+05  2.0637669e+01                0  1.000285e-03    659.37023 ...  659.37023  3.6309739e-05  250.31905  5.3552591e-05  3.0782530e-03  3.2906288e-03\n",
      "120.76392282482993  5.0141891e+05  2.0651047e+01                0  1.000905e-03    659.37012 ...  659.37012  3.6312333e-05  250.31853  5.3558051e-05  2.9136476e-03  2.7122190e-03\n",
      " 120.7843570441546  5.0149969e+05  2.0633917e+01                0  1.001524e-03    659.36989 ...  659.36989  3.6307523e-05  250.31864  5.3541782e-05  2.8502026e-03  3.1674793e-03\n",
      "120.80479126348655  5.0148756e+05  2.0635580e+01                0  1.002143e-03    659.37005 ...  659.37005  3.6309604e-05  250.31880  5.3545187e-05  2.8958230e-03  3.1858673e-03\n",
      "120.82522548270208  5.0147297e+05  2.0593168e+01                0  1.002763e-03    659.36999 ...  659.36999  3.6310077e-05  250.31847  5.3547836e-05  2.8411280e-03  2.7788009e-03\n",
      "120.84565970191034  5.0150062e+05  2.0654989e+01                0  1.003382e-03    659.36989 ...  659.36989  3.6308295e-05  250.31894  5.3535845e-05  2.8126675e-03  3.3455575e-03\n",
      "120.86609392112587  5.0146425e+05  2.0662973e+01                0  1.004001e-03    659.37004 ...  659.37004  3.6309713e-05  250.31899  5.3549356e-05  2.9181107e-03  3.2076796e-03\n",
      "120.88652824022574  5.0145247e+05  2.0663168e+01                0  1.004620e-03    659.37007 ...  659.37007  3.6308917e-05  250.31872  5.3541080e-05  2.9806742e-03  3.2433390e-03\n",
      "120.90696235943324  5.0147944e+05  2.0641384e+01   10000000000000  1.005239e-03    659.37021 ...  659.37021  3.6309124e-05  250.31907  5.3540738e-05  3.0977265e-03  3.4337770e-03\n",
      "120.92739657853235  5.0148588e+05  2.0643707e+01                0  1.005859e-03    659.37038 ...  659.37038  3.6308349e-05  250.31889  5.3541917e-05  3.2576455e-03  3.2216632e-03\n",
      "120.94783089762495  5.0149431e+05  2.0632460e+01                0  1.006478e-03    659.37027 ...  659.37027  3.6307163e-05  250.31916  5.3535725e-05  3.2520562e-03  3.5137099e-03\n",
      "120.96826501660689  5.0148716e+05  2.0656298e+01                0  1.007097e-03    659.37049 ...  659.37049  3.6308065e-05  250.31981  5.3537646e-05  3.4210638e-03  4.1760588e-03\n",
      "               ...            ...            ...              ...           ...          ... ...        ...            ...        ...            ...            ...            ...\n",
      "129.79584298951522  5.0158856e+05  2.0693327e+01                0  1.270870e-03    659.36300 ...  659.36300  3.6347436e-05  250.30623  5.3668813e-05 -4.1886452e-03 -6.7668976e-03\n",
      "129.81627708952146  5.0154981e+05  2.0696640e+01                0  1.271470e-03    659.36292 ...  659.36292  3.6347665e-05  250.30652  5.3666674e-05 -4.2162403e-03 -6.2595247e-03\n",
      " 129.8367112895212  5.0154069e+05  2.0697617e+01                0  1.272070e-03    659.36292 ...  659.36292  3.6349742e-05  250.30641  5.3671170e-05 -4.2197178e-03 -6.5589584e-03\n",
      "129.85714548941178  5.0152119e+05  2.0690681e+01                0  1.272669e-03    659.36306 ...  659.36306  3.6350350e-05  250.30659  5.3678999e-05 -4.1664485e-03 -6.4104237e-03\n",
      "129.87757968918595  5.0150288e+05  2.0712675e+01                0  1.273269e-03    659.36249 ...  659.36249  3.6350833e-05  250.30668  5.3666710e-05 -4.5031547e-03 -6.2020849e-03\n",
      "129.89801388895285  5.0145216e+05  2.0696655e+01                0  1.273869e-03    659.36216 ...  659.36216  3.6355927e-05  250.30550  5.3680102e-05 -4.8396601e-03 -7.3608840e-03\n",
      "129.91844808872702  5.0144838e+05  2.0684677e+01                0  1.274469e-03    659.36265 ...  659.36265  3.6353937e-05  250.30608  5.3677693e-05 -4.5030746e-03 -6.7178742e-03\n",
      "129.93888228838478  5.0149594e+05  2.0709585e+01                0  1.275068e-03    659.36284 ...  659.36284  3.6352681e-05  250.30661  5.3668529e-05 -4.2363526e-03 -6.1819078e-03\n",
      "129.95931648803526  5.0152931e+05  2.0693884e+01                0  1.275668e-03    659.36258 ...  659.36258  3.6354686e-05  250.30558  5.3679712e-05 -4.6273861e-03 -7.3381560e-03\n",
      " 129.9797506875766  5.0156903e+05  2.0703835e+01                0  1.276268e-03    659.36266 ...  659.36266  3.6348953e-05  250.30653  5.3666976e-05 -4.4411202e-03 -6.3134884e-03\n",
      "130.00018478700076  5.0151134e+05  2.0703863e+01                0  1.276867e-03    659.36269 ...  659.36269  3.6350557e-05  250.30643  5.3686690e-05 -4.4083004e-03 -6.6501866e-03\n",
      "130.02061908641917  5.0156988e+05  2.0703451e+01                0  1.277466e-03    659.36233 ...  659.36233  3.6348352e-05  250.30572  5.3676195e-05 -4.7486783e-03 -7.0831184e-03\n",
      " 130.0410532858441  5.0150788e+05  2.0704247e+01                0  1.278066e-03    659.36248 ...  659.36248  3.6352623e-05  250.30580  5.3673386e-05 -4.6520643e-03 -7.0274607e-03\n",
      "130.06148738515185  5.0152938e+05  2.0701473e+01                0  1.278665e-03    659.36246 ...  659.36246  3.6351150e-05  250.30569  5.3674110e-05 -4.6389936e-03 -7.1408441e-03\n",
      "130.08192158433667  5.0157003e+05  2.0702055e+01                0  1.279264e-03    659.36245 ...  659.36245  3.6348833e-05  250.30597  5.3667514e-05 -4.6909074e-03 -6.7579346e-03\n",
      "130.10235588352953  5.0152728e+05  2.0686260e+01                0  1.279864e-03    659.36209 ...  659.36209  3.6353140e-05  250.30544  5.3684296e-05 -5.0965576e-03 -7.4954131e-03\n",
      "130.12278998272086  5.0156572e+05  2.0702715e+01                0  1.280463e-03    659.36180 ...  659.36180  3.6350415e-05  250.30505  5.3667653e-05 -5.2787364e-03 -7.5620078e-03\n",
      "130.14322418178926  5.0152403e+05  2.0685968e+01                0  1.281062e-03    659.36180 ...  659.36180  3.6353420e-05  250.30512  5.3678523e-05 -5.2255061e-03 -7.7070645e-03\n",
      " 130.1636584807493  5.0150003e+05  2.0679955e+01                0  1.281661e-03    659.36179 ...  659.36179  3.6356709e-05  250.30474  5.3684431e-05 -5.3084558e-03 -8.0727953e-03\n",
      "130.18409267970856  5.0151734e+05  2.0703188e+01                0  1.282260e-03    659.36159 ...  659.36159  3.6353227e-05  250.30516  5.3670177e-05 -5.4392498e-03 -7.3902770e-03\n",
      "130.20452677865978  5.0150722e+05  2.0690376e+01                0  1.282859e-03    659.36174 ...  659.36174  3.6355188e-05  250.30453  5.3682859e-05 -5.3689722e-03 -8.1970813e-03\n",
      "130.22496097750263  5.0154591e+05  2.0696840e+01                0  1.283458e-03    659.36189 ...  659.36189  3.6353529e-05  250.30524  5.3676045e-05 -5.2869776e-03 -7.5565036e-03\n",
      "130.24539527622983  5.0159747e+05  2.0697966e+01                0  1.284056e-03    659.36180 ...  659.36180  3.6352234e-05  250.30545  5.3671167e-05 -5.1991190e-03 -7.1574575e-03\n",
      "Length = 473 rows\n"
     ]
    }
   ],
   "source": [
    "# 引入lightkurve套件\n",
    "import lightkurve as lk\n",
    "\n",
    "# 設定想要查詢的系外行星所屬恆星的名稱，例如Kepler-10\n",
    "target_name = 'Kepler-10'\n",
    "# 設定觀測任務，可選Kepler、K2或TESS\n",
    "mission_name = 'Kepler'\n",
    "\n",
    "# 檢查使用者輸入的觀測任務名稱是否為Kepler、K2或TESS其中一個，若不是，則顯示提示訊息\n",
    "if mission_name in ['Kepler', 'K2', 'TESS']:\n",
    "    # 使用lsearch_lightcurve()函式搜尋目標星體的光變曲線資料\n",
    "    lc_search_result = lk.search_lightcurve(target_name, mission=mission_name)\n",
    "    # 下載搜索結果中的第一筆光變曲線資料\n",
    "    lc = lc_search_result[0].download()\n",
    "    # 顯示光變曲線資料\n",
    "    print(lc)\n",
    "else:\n",
    "    print(f'不支援{mission_name}這個觀測任務名稱，請輸入Kepler、K2或TESS。')"
   ]
  }
 ],
 "metadata": {
  "kernelspec": {
   "display_name": "Python 3 (ipykernel)",
   "language": "python",
   "name": "python3"
  },
  "language_info": {
   "codemirror_mode": {
    "name": "ipython",
    "version": 3
   },
   "file_extension": ".py",
   "mimetype": "text/x-python",
   "name": "python",
   "nbconvert_exporter": "python",
   "pygments_lexer": "ipython3",
   "version": "3.10.13"
  }
 },
 "nbformat": 4,
 "nbformat_minor": 5
}

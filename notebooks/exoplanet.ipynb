{
 "cells": [
  {
   "cell_type": "markdown",
   "id": "5af0b14b",
   "metadata": {},
   "source": [
    "# 如何用Python探索系外行星觀測資料？\n",
    "此notebook為[「用Python探索天文：從資料取得到視覺化」](https://github.com/YihaoSu/exploring-astronomy-with-python-from-data-query-to-visualization)一書的相關程式碼，由[蘇羿豪](https://astrobackhacker.tw/)編寫，並以[MIT授權條款](https://github.com/YihaoSu/exploring-astronomy-with-python-from-data-query-to-visualization/blob/main/LICENSE)釋出。「用Python探索天文：從資料取得到視覺化」這本書是[「天文的資料科學」教育產品開發計畫](https://matters.news/@astrobackhacker/364036-%E5%A4%A9%E6%96%87%E7%9A%84%E8%B3%87%E6%96%99%E7%A7%91%E5%AD%B8-%E4%BE%86%E7%94%A8python%E6%8B%89%E8%BF%91%E6%88%91%E5%80%91%E8%88%87%E6%98%9F%E7%A9%BA%E7%9A%84%E8%B7%9D%E9%9B%A2-%E6%95%99%E8%82%B2%E7%94%A2%E5%93%81%E9%96%8B%E7%99%BC%E8%AA%BF%E6%9F%A5%E8%A1%A8%E5%96%AE-bafybeiahet2kggahd2wwst6flujiwkdwvg6wyiz23c4dtlgyvn2odhfdfi)的一部分，如果你想要體驗更多從資料產出天文新知識的旅程，歡迎填寫[這份調查表單](https://docs.google.com/forms/d/e/1FAIpQLSdSjnrvdsqAtALGfIMxXhQMZ9PRO-e_2ML6kzg6tjqyHNl1eA/viewform)，讓我能根據你的需求及建議，制定適合你的教學內容及呈現方式。"
   ]
  },
  {
   "cell_type": "markdown",
   "id": "9470b0d9",
   "metadata": {},
   "source": [
    "## (一) 哪些系外行星觀測計畫有將資料開放給⼤眾使⽤？\n",
    "\n",
    "以下列出幾個有開放下載[系外行星](https://zh.wikipedia.org/zh-tw/%E5%A4%AA%E9%99%BD%E7%B3%BB%E5%A4%96%E8%A1%8C%E6%98%9F)觀測資料的太空任務及資料庫網站："
   ]
  },
  {
   "cell_type": "markdown",
   "id": "9e1ce8c2",
   "metadata": {},
   "source": [
    "### 凌日系外行星巡天衛星(Transiting Exoplanet Survey Satellite，簡稱TESS)\n",
    "TESS是由美國太空總署主導的太空望遠鏡計畫，於2018年發射升空，主要任務是巡察全天空超過85%的區域範圍，觀測離地球較近的恆星，並以[凌日法](https://zh.wikipedia.org/zh-tw/%E7%B3%BB%E5%A4%96%E8%A1%8C%E6%98%9F%E5%81%B5%E6%B8%AC%E6%B3%95#%E5%87%8C%E6%97%A5%E6%B3%95)尋找可能環繞這些恆星運行的系外行星。你可以從這個網站進入它的資料下載入口：https://archive.stsci.edu/missions-and-data/tess"
   ]
  },
  {
   "cell_type": "markdown",
   "id": "4feaa6dc",
   "metadata": {},
   "source": [
    "### 克卜勒太空望遠鏡(Kepler space telescope)和K2\n",
    "在TESS運作之前，美國太空總署在2009年有發射一個名為克卜勒的太空望遠鏡，它也是用[凌日法](https://zh.wikipedia.org/zh-tw/%E7%B3%BB%E5%A4%96%E8%A1%8C%E6%98%9F%E5%81%B5%E6%B8%AC%E6%B3%95#%E5%87%8C%E6%97%A5%E6%B3%95)來搜尋系外行星，但只針對位於天鵝座和天琴座之間的一個固定區域進行觀測。克卜勒太空望遠鏡在2013年部份零件受損，導致原本的任務無法繼續，於是美國太空總署利用剩下尚能運作的儀器，改以新任務K2繼續進行觀測直到2018年。你可以從以下兩個連結分別進入Kepler和K2的資料下載入口：https://archive.stsci.edu/missions-and-data/kepler 和 https://archive.stsci.edu/missions-and-data/k2"
   ]
  },
  {
   "cell_type": "markdown",
   "id": "8725decf",
   "metadata": {},
   "source": [
    "### 美國太空總署的系外行星資料庫網站(NASA Exoplanet Archive)\n",
    "[NASA Exoplanet Archive](https://exoplanetarchive.ipac.caltech.edu)能查詢被TESS、Kepler和K2所發現的系外行星相關資訊，包含系外行星名稱、所屬恆星名稱、發現年份、發現方法、軌道週期、距離地球多遠、質量大小等等。"
   ]
  }
 ],
 "metadata": {
  "kernelspec": {
   "display_name": "Python 3 (ipykernel)",
   "language": "python",
   "name": "python3"
  },
  "language_info": {
   "codemirror_mode": {
    "name": "ipython",
    "version": 3
   },
   "file_extension": ".py",
   "mimetype": "text/x-python",
   "name": "python",
   "nbconvert_exporter": "python",
   "pygments_lexer": "ipython3",
   "version": "3.10.11"
  }
 },
 "nbformat": 4,
 "nbformat_minor": 5
}

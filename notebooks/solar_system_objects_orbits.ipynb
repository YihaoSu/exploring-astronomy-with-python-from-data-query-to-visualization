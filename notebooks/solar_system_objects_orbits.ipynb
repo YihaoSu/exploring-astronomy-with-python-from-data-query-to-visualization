{
 "cells": [
  {
   "cell_type": "markdown",
   "id": "09f18b49",
   "metadata": {},
   "source": [
    "# 如何用Python探索太陽系天體軌道資料？\n",
    "此notebook為[「用Python探索天文：從資料取得到視覺化」](https://github.com/YihaoSu/exploring-astronomy-with-python-from-data-query-to-visualization)一書的相關程式碼，由[蘇羿豪](https://astrobackhacker.tw/)編寫，並以[MIT授權條款](https://github.com/YihaoSu/exploring-astronomy-with-python-from-data-query-to-visualization/blob/main/LICENSE)釋出。「用Python探索天文：從資料取得到視覺化」這本書是[「天文的資料科學」教育產品開發計畫](https://matters.news/@astrobackhacker/364036-%E5%A4%A9%E6%96%87%E7%9A%84%E8%B3%87%E6%96%99%E7%A7%91%E5%AD%B8-%E4%BE%86%E7%94%A8python%E6%8B%89%E8%BF%91%E6%88%91%E5%80%91%E8%88%87%E6%98%9F%E7%A9%BA%E7%9A%84%E8%B7%9D%E9%9B%A2-%E6%95%99%E8%82%B2%E7%94%A2%E5%93%81%E9%96%8B%E7%99%BC%E8%AA%BF%E6%9F%A5%E8%A1%A8%E5%96%AE-bafybeiahet2kggahd2wwst6flujiwkdwvg6wyiz23c4dtlgyvn2odhfdfi)的一部分，如果你想要體驗更多從資料產出天文新知識的旅程，歡迎填寫[這份調查表單](https://docs.google.com/forms/d/e/1FAIpQLSdSjnrvdsqAtALGfIMxXhQMZ9PRO-e_2ML6kzg6tjqyHNl1eA/viewform)，讓我能根據你的需求及建議，制定適合你的教學內容及呈現方式。"
   ]
  },
  {
   "cell_type": "markdown",
   "id": "188e70e5",
   "metadata": {},
   "source": [
    "## (一) 哪些平台有將太陽系天體軌道資料開放給大眾使用？\n",
    "\n",
    "以下列出幾個有將行星、衛星、彗星和小行星等太陽系天體的軌道資料開放給大眾使用的平台："
   ]
  },
  {
   "cell_type": "markdown",
   "id": "42f602b0",
   "metadata": {},
   "source": [
    "### Minor Planet Center\n",
    "[Minor Planet Center](https://minorplanetcenter.net/iau/mpc.html)是一個國際天文組織 ，專門負責收集、維護和發布彗星及小行星等太陽系小天體的運行軌跡相關數據，你可以透過它的官網查詢到這些天體的位置亮度觀測資料、[軌道參數](https://zh.wikipedia.org/zh-tw/%E8%BB%8C%E9%81%93%E6%A0%B9%E6%95%B8)以及[星曆表(ephemeris)](https://zh.wikipedia.org/zh-tw/%E6%98%9F%E6%9B%86%E8%A1%A8)。"
   ]
  },
  {
   "cell_type": "markdown",
   "id": "95187365",
   "metadata": {},
   "source": [
    "### JPL Solar System Dynamics\n",
    "[JPL Solar System Dynamics](https://ssd.jpl.nasa.gov/)是一個由美國太空總署的噴射推進實驗室(Jet Propulsion Laboratory, JPL)營運的研究小組。這個小組的主要工作是研究行星、衛星、彗星和小行星等太陽系天體的動力學，以預測它們未來的運行軌跡。你可以透過它的網站中一個叫做Horizons System的工具，查詢到這些天體的星曆表及軌道參數。"
   ]
  }
 ],
 "metadata": {
  "kernelspec": {
   "display_name": "Python 3 (ipykernel)",
   "language": "python",
   "name": "python3"
  },
  "language_info": {
   "codemirror_mode": {
    "name": "ipython",
    "version": 3
   },
   "file_extension": ".py",
   "mimetype": "text/x-python",
   "name": "python",
   "nbconvert_exporter": "python",
   "pygments_lexer": "ipython3",
   "version": "3.10.11"
  }
 },
 "nbformat": 4,
 "nbformat_minor": 5
}

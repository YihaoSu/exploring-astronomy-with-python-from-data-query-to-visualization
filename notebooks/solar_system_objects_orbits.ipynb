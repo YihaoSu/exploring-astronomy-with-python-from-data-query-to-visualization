{
 "cells": [
  {
   "cell_type": "markdown",
   "id": "09f18b49",
   "metadata": {},
   "source": [
    "# 如何用Python探索太陽系天體軌道及位置資料？\n",
    "此notebook為[「用Python探索天文：從資料取得到視覺化」](https://github.com/YihaoSu/exploring-astronomy-with-python-from-data-query-to-visualization)一書的相關程式碼，由[蘇羿豪](https://astrobackhacker.tw/)編寫，並以[MIT授權條款](https://github.com/YihaoSu/exploring-astronomy-with-python-from-data-query-to-visualization/blob/main/LICENSE)釋出。「用Python探索天文：從資料取得到視覺化」這本書是[「天文的資料科學」教育產品開發計畫](https://matters.news/@astrobackhacker/364036-%E5%A4%A9%E6%96%87%E7%9A%84%E8%B3%87%E6%96%99%E7%A7%91%E5%AD%B8-%E4%BE%86%E7%94%A8python%E6%8B%89%E8%BF%91%E6%88%91%E5%80%91%E8%88%87%E6%98%9F%E7%A9%BA%E7%9A%84%E8%B7%9D%E9%9B%A2-%E6%95%99%E8%82%B2%E7%94%A2%E5%93%81%E9%96%8B%E7%99%BC%E8%AA%BF%E6%9F%A5%E8%A1%A8%E5%96%AE-bafybeiahet2kggahd2wwst6flujiwkdwvg6wyiz23c4dtlgyvn2odhfdfi)的一部分，如果你想要體驗更多從資料產出天文新知識的旅程，歡迎填寫[這份調查表單](https://docs.google.com/forms/d/e/1FAIpQLSdSjnrvdsqAtALGfIMxXhQMZ9PRO-e_2ML6kzg6tjqyHNl1eA/viewform)，讓我能根據你的需求及建議，制定適合你的教學內容及呈現方式。"
   ]
  },
  {
   "cell_type": "markdown",
   "id": "188e70e5",
   "metadata": {},
   "source": [
    "## (一) 哪些平台有將太陽系天體軌道及位置資料開放給大眾使用？\n",
    "\n",
    "以下列出幾個有將行星、衛星、彗星和小行星等太陽系天體的軌道及位置資料開放給大眾使用的平台："
   ]
  },
  {
   "cell_type": "markdown",
   "id": "42f602b0",
   "metadata": {},
   "source": [
    "### Minor Planet Center\n",
    "[Minor Planet Center](https://minorplanetcenter.net/iau/mpc.html)是一個國際天文組織 ，專門負責收集、維護和發布彗星及小行星等太陽系小天體的運行軌跡相關數據，你可以透過它的官網查詢到這些天體的位置亮度觀測資料、[軌道參數](https://zh.wikipedia.org/zh-tw/%E8%BB%8C%E9%81%93%E6%A0%B9%E6%95%B8)以及[星曆表(ephemeris)](https://zh.wikipedia.org/zh-tw/%E6%98%9F%E6%9B%86%E8%A1%A8)。"
   ]
  },
  {
   "cell_type": "markdown",
   "id": "95187365",
   "metadata": {},
   "source": [
    "### JPL Solar System Dynamics\n",
    "[JPL Solar System Dynamics](https://ssd.jpl.nasa.gov/)是一個由美國太空總署的噴射推進實驗室(Jet Propulsion Laboratory, JPL)營運的研究小組。這個小組的主要工作是研究行星、衛星、彗星和小行星等太陽系天體的動力學，以預測它們未來的運行軌跡。你可以透過它的網站中一個叫做Horizons System的工具，查詢到這些天體的星曆表及軌道參數。"
   ]
  },
  {
   "cell_type": "markdown",
   "id": "697f2e9a",
   "metadata": {},
   "source": [
    "## (二) 如何用Python取得太陽系天體軌道及位置資料？"
   ]
  },
  {
   "cell_type": "markdown",
   "id": "1e4a34b1",
   "metadata": {},
   "source": [
    "[Astroquery](https://astroquery.readthedocs.io/en/latest/)是一個能串接不同天文資料庫服務以方便取得各種天文資料的Python套件。它提供多個模組，用於查詢不同的天文資料庫服務。其中，[mpc模組](https://astroquery.readthedocs.io/en/latest/mpc/mpc.html)是用來取得Minor Planet Center的資料，而[jplhorizons模組](https://astroquery.readthedocs.io/en/latest/jplhorizons/jplhorizons.html)則可以取得JPL Solar System Dynamics的Horizons System所提供的資料。\n",
    "執行以下指令以安裝Astroquery："
   ]
  },
  {
   "cell_type": "code",
   "execution_count": null,
   "id": "3b7a500d",
   "metadata": {},
   "outputs": [],
   "source": [
    "pip install -U --pre astroquery"
   ]
  },
  {
   "cell_type": "markdown",
   "id": "356a4369",
   "metadata": {},
   "source": [
    "### 範例1：用mpc模組取得小行星、矮行星或彗星的軌道及位置資料"
   ]
  },
  {
   "cell_type": "code",
   "execution_count": 1,
   "id": "2815e94c-17e1-4c6e-ac0b-67b5c14bab6c",
   "metadata": {},
   "outputs": [
    {
     "name": "stdout",
     "output_type": "stream",
     "text": [
      "[{'absolute_magnitude': '-1.21', 'aphelion_distance': '97.62', 'arc_length': 25208, 'argument_of_perihelion': '150.86717', 'ascending_node': '36.0771112', 'critical_list_numbered_object': True, 'delta_v': 16.0, 'designation': None, 'earth_moid': 37.7466, 'eccentricity': '0.4323163', 'epoch': '2023-09-13.0', 'epoch_jd': '2460200.5', 'first_observation_date_used': '1954-09-03.0', 'first_opposition_used': '1954', 'inclination': '43.7451', 'jupiter_moid': 33.5011, 'km_neo': False, 'last_observation_date_used': '2023-09-09.0', 'last_opposition_used': '2023', 'mars_moid': 37.1427, 'mean_anomaly': '209.40582', 'mean_daily_motion': '0.0017517', 'mercury_moid': 38.2917, 'name': 'Eris', 'neo': False, 'number': 136199, 'observations': 2277, 'oppositions': 32, 'orbit_type': 10, 'orbit_uncertainty': '3', 'p_vector_x': '-0.91308713', 'p_vector_y': '-0.3450349', 'p_vector_z': '0.21730811', 'perihelion_date': '2259-01-30.09427', 'perihelion_date_jd': '2546171.59427', 'perihelion_distance': '38.6905743', 'period': '562.66', 'pha': False, 'phase_slope': '0.15', 'q_vector_x': '-0.02187509', 'q_vector_y': '-0.49070984', 'q_vector_z': '-0.87104841', 'residual_rms': '0.59', 'saturn_moid': 29.3301, 'semimajor_axis': '68.15516', 'tisserand_jupiter': 4.8, 'updated_at': '2023-09-29T19:21:28Z', 'uranus_moid': 20.8814, 'venus_moid': 37.9996}]\n",
      "該天體的軌道傾角為 43.7451 度\n",
      "該天體的半長軸為 68.15516 AU\n",
      "鹿林天文台的編碼為 D35\n"
     ]
    },
    {
     "data": {
      "text/html": [
       "<div><i>Table length=21</i>\n",
       "<table id=\"table140540343312128\" class=\"table-striped table-bordered table-condensed\">\n",
       "<thead><tr><th>Date</th><th>RA</th><th>Dec</th><th>Delta</th><th>r</th><th>Elongation</th><th>Phase</th><th>V</th><th>Proper motion</th><th>Direction</th><th>Azimuth</th><th>Altitude</th><th>Sun altitude</th><th>Moon phase</th><th>Moon distance</th><th>Moon altitude</th><th>Uncertainty 3sig</th><th>Unc. P.A.</th></tr></thead>\n",
       "<thead><tr><th></th><th>deg</th><th>deg</th><th>AU</th><th>AU</th><th>deg</th><th>deg</th><th>mag</th><th>arcsec / h</th><th>deg</th><th>deg</th><th>deg</th><th>deg</th><th></th><th>deg</th><th>deg</th><th>arcsec</th><th>deg</th></tr></thead>\n",
       "<thead><tr><th>Time</th><th>float64</th><th>float64</th><th>float64</th><th>float64</th><th>float64</th><th>float64</th><th>float64</th><th>float64</th><th>float64</th><th>int64</th><th>int64</th><th>int64</th><th>float64</th><th>int64</th><th>int64</th><th>int64</th><th>float64</th></tr></thead>\n",
       "<tr><td>2023-09-02 00:00:00.000</td><td>26.998749999999998</td><td>-0.7472222222222221</td><td>95.034</td><td>95.727</td><td>133.2</td><td>0.4</td><td>18.7</td><td>1.01</td><td>241.7</td><td>263</td><td>14</td><td>32</td><td>0.95</td><td>21</td><td>-5</td><td>0</td><td>38.8</td></tr>\n",
       "<tr><td>2023-09-03 00:00:00.000</td><td>26.992916666666662</td><td>-0.7505555555555555</td><td>95.022</td><td>95.726</td><td>134.1</td><td>0.4</td><td>18.7</td><td>1.03</td><td>242.0</td><td>264</td><td>13</td><td>32</td><td>0.88</td><td>11</td><td>9</td><td>0</td><td>38.7</td></tr>\n",
       "<tr><td>2023-09-04 00:00:00.000</td><td>26.98666666666666</td><td>-0.7536111111111111</td><td>95.01</td><td>95.726</td><td>135.0</td><td>0.4</td><td>18.7</td><td>1.05</td><td>242.3</td><td>264</td><td>12</td><td>32</td><td>0.79</td><td>16</td><td>22</td><td>0</td><td>38.6</td></tr>\n",
       "<tr><td>2023-09-05 00:00:00.000</td><td>26.980416666666663</td><td>-0.7569444444444444</td><td>94.998</td><td>95.726</td><td>136.0</td><td>0.4</td><td>18.7</td><td>1.07</td><td>242.6</td><td>264</td><td>11</td><td>32</td><td>0.7</td><td>27</td><td>35</td><td>0</td><td>38.5</td></tr>\n",
       "<tr><td>2023-09-06 00:00:00.000</td><td>26.97416666666666</td><td>-0.7602777777777778</td><td>94.987</td><td>95.726</td><td>136.9</td><td>0.4</td><td>18.7</td><td>1.08</td><td>242.9</td><td>265</td><td>10</td><td>32</td><td>0.6</td><td>39</td><td>47</td><td>0</td><td>38.3</td></tr>\n",
       "<tr><td>2023-09-07 00:00:00.000</td><td>26.96791666666666</td><td>-0.7636111111111111</td><td>94.976</td><td>95.726</td><td>137.8</td><td>0.4</td><td>18.7</td><td>1.1</td><td>243.2</td><td>265</td><td>9</td><td>31</td><td>0.49</td><td>52</td><td>59</td><td>0</td><td>38.2</td></tr>\n",
       "<tr><td>2023-09-08 00:00:00.000</td><td>26.961249999999993</td><td>-0.7669444444444445</td><td>94.965</td><td>95.725</td><td>138.8</td><td>0.4</td><td>18.7</td><td>1.12</td><td>243.5</td><td>266</td><td>8</td><td>31</td><td>0.39</td><td>64</td><td>70</td><td>0</td><td>38.0</td></tr>\n",
       "<tr><td>2023-09-09 00:00:00.000</td><td>26.95458333333333</td><td>-0.7702777777777778</td><td>94.954</td><td>95.725</td><td>139.7</td><td>0.4</td><td>18.7</td><td>1.13</td><td>243.7</td><td>266</td><td>7</td><td>31</td><td>0.3</td><td>76</td><td>81</td><td>0</td><td>37.9</td></tr>\n",
       "<tr><td>2023-09-10 00:00:00.000</td><td>26.947499999999998</td><td>-0.7736111111111111</td><td>94.944</td><td>95.725</td><td>140.7</td><td>0.4</td><td>18.7</td><td>1.15</td><td>244.0</td><td>266</td><td>6</td><td>31</td><td>0.22</td><td>88</td><td>85</td><td>0</td><td>37.5</td></tr>\n",
       "<tr><td>2023-09-11 00:00:00.000</td><td>26.94083333333333</td><td>-0.7769444444444445</td><td>94.934</td><td>95.725</td><td>141.6</td><td>0.4</td><td>18.7</td><td>1.17</td><td>244.3</td><td>267</td><td>5</td><td>31</td><td>0.14</td><td>99</td><td>76</td><td>0</td><td>37.5</td></tr>\n",
       "<tr><td>2023-09-12 00:00:00.000</td><td>26.933749999999996</td><td>-0.7802777777777778</td><td>94.924</td><td>95.724</td><td>142.5</td><td>0.4</td><td>18.7</td><td>1.18</td><td>244.5</td><td>267</td><td>5</td><td>31</td><td>0.08</td><td>111</td><td>65</td><td>0</td><td>37.3</td></tr>\n",
       "<tr><td>2023-09-13 00:00:00.000</td><td>26.926666666666662</td><td>-0.7836111111111111</td><td>94.914</td><td>95.724</td><td>143.4</td><td>0.4</td><td>18.7</td><td>1.2</td><td>244.8</td><td>268</td><td>4</td><td>31</td><td>0.04</td><td>123</td><td>54</td><td>0</td><td>37.1</td></tr>\n",
       "<tr><td>2023-09-14 00:00:00.000</td><td>26.919166666666662</td><td>-0.7869444444444444</td><td>94.904</td><td>95.724</td><td>144.4</td><td>0.4</td><td>18.7</td><td>1.21</td><td>245.0</td><td>268</td><td>3</td><td>31</td><td>0.01</td><td>134</td><td>43</td><td>0</td><td>37.0</td></tr>\n",
       "<tr><td>2023-09-15 00:00:00.000</td><td>26.912083333333328</td><td>-0.7905555555555556</td><td>94.895</td><td>95.724</td><td>145.3</td><td>0.3</td><td>18.7</td><td>1.23</td><td>245.2</td><td>268</td><td>2</td><td>31</td><td>0.0</td><td>145</td><td>32</td><td>0</td><td>36.7</td></tr>\n",
       "<tr><td>2023-09-16 00:00:00.000</td><td>26.904583333333328</td><td>-0.7938888888888889</td><td>94.886</td><td>95.724</td><td>146.2</td><td>0.3</td><td>18.7</td><td>1.24</td><td>245.5</td><td>269</td><td>1</td><td>31</td><td>0.01</td><td>156</td><td>21</td><td>0</td><td>36.5</td></tr>\n",
       "<tr><td>2023-09-17 00:00:00.000</td><td>26.89708333333333</td><td>-0.7972222222222222</td><td>94.877</td><td>95.723</td><td>147.1</td><td>0.3</td><td>18.7</td><td>1.25</td><td>245.7</td><td>269</td><td>0</td><td>31</td><td>0.04</td><td>166</td><td>10</td><td>0</td><td>36.2</td></tr>\n",
       "<tr><td>2023-09-18 00:00:00.000</td><td>26.88916666666666</td><td>-0.8008333333333334</td><td>94.869</td><td>95.723</td><td>148.1</td><td>0.3</td><td>18.7</td><td>1.27</td><td>245.9</td><td>270</td><td>-1</td><td>31</td><td>0.08</td><td>168</td><td>-2</td><td>0</td><td>36.0</td></tr>\n",
       "<tr><td>2023-09-19 00:00:00.000</td><td>26.88166666666666</td><td>-0.8041666666666667</td><td>94.86</td><td>95.723</td><td>149.0</td><td>0.3</td><td>18.7</td><td>1.28</td><td>246.1</td><td>270</td><td>-2</td><td>31</td><td>0.14</td><td>161</td><td>-13</td><td>0</td><td>35.8</td></tr>\n",
       "<tr><td>2023-09-20 00:00:00.000</td><td>26.873749999999998</td><td>-0.8077777777777778</td><td>94.852</td><td>95.723</td><td>149.9</td><td>0.3</td><td>18.7</td><td>1.29</td><td>246.4</td><td>270</td><td>-3</td><td>30</td><td>0.22</td><td>149</td><td>-25</td><td>0</td><td>35.7</td></tr>\n",
       "<tr><td>2023-09-21 00:00:00.000</td><td>26.865833333333327</td><td>-0.8111111111111111</td><td>94.845</td><td>95.722</td><td>150.8</td><td>0.3</td><td>18.7</td><td>1.3</td><td>246.6</td><td>271</td><td>-4</td><td>30</td><td>0.31</td><td>137</td><td>-37</td><td>0</td><td>35.3</td></tr>\n",
       "<tr><td>2023-09-22 00:00:00.000</td><td>26.857499999999998</td><td>-0.8147222222222222</td><td>94.837</td><td>95.722</td><td>151.7</td><td>0.3</td><td>18.7</td><td>1.31</td><td>246.8</td><td>271</td><td>-5</td><td>30</td><td>0.41</td><td>125</td><td>-49</td><td>0</td><td>35.1</td></tr>\n",
       "</table></div>"
      ],
      "text/plain": [
       "<Table length=21>\n",
       "          Date                  RA                 Dec          Delta     r    ... Moon phase Moon distance Moon altitude Uncertainty 3sig Unc. P.A.\n",
       "                               deg                 deg            AU      AU   ...                 deg           deg           arcsec         deg   \n",
       "          Time               float64             float64       float64 float64 ...  float64       int64         int64          int64        float64 \n",
       "----------------------- ------------------ ------------------- ------- ------- ... ---------- ------------- ------------- ---------------- ---------\n",
       "2023-09-02 00:00:00.000 26.998749999999998 -0.7472222222222221  95.034  95.727 ...       0.95            21            -5                0      38.8\n",
       "2023-09-03 00:00:00.000 26.992916666666662 -0.7505555555555555  95.022  95.726 ...       0.88            11             9                0      38.7\n",
       "2023-09-04 00:00:00.000  26.98666666666666 -0.7536111111111111   95.01  95.726 ...       0.79            16            22                0      38.6\n",
       "2023-09-05 00:00:00.000 26.980416666666663 -0.7569444444444444  94.998  95.726 ...        0.7            27            35                0      38.5\n",
       "2023-09-06 00:00:00.000  26.97416666666666 -0.7602777777777778  94.987  95.726 ...        0.6            39            47                0      38.3\n",
       "2023-09-07 00:00:00.000  26.96791666666666 -0.7636111111111111  94.976  95.726 ...       0.49            52            59                0      38.2\n",
       "2023-09-08 00:00:00.000 26.961249999999993 -0.7669444444444445  94.965  95.725 ...       0.39            64            70                0      38.0\n",
       "2023-09-09 00:00:00.000  26.95458333333333 -0.7702777777777778  94.954  95.725 ...        0.3            76            81                0      37.9\n",
       "2023-09-10 00:00:00.000 26.947499999999998 -0.7736111111111111  94.944  95.725 ...       0.22            88            85                0      37.5\n",
       "2023-09-11 00:00:00.000  26.94083333333333 -0.7769444444444445  94.934  95.725 ...       0.14            99            76                0      37.5\n",
       "2023-09-12 00:00:00.000 26.933749999999996 -0.7802777777777778  94.924  95.724 ...       0.08           111            65                0      37.3\n",
       "2023-09-13 00:00:00.000 26.926666666666662 -0.7836111111111111  94.914  95.724 ...       0.04           123            54                0      37.1\n",
       "2023-09-14 00:00:00.000 26.919166666666662 -0.7869444444444444  94.904  95.724 ...       0.01           134            43                0      37.0\n",
       "2023-09-15 00:00:00.000 26.912083333333328 -0.7905555555555556  94.895  95.724 ...        0.0           145            32                0      36.7\n",
       "2023-09-16 00:00:00.000 26.904583333333328 -0.7938888888888889  94.886  95.724 ...       0.01           156            21                0      36.5\n",
       "2023-09-17 00:00:00.000  26.89708333333333 -0.7972222222222222  94.877  95.723 ...       0.04           166            10                0      36.2\n",
       "2023-09-18 00:00:00.000  26.88916666666666 -0.8008333333333334  94.869  95.723 ...       0.08           168            -2                0      36.0\n",
       "2023-09-19 00:00:00.000  26.88166666666666 -0.8041666666666667   94.86  95.723 ...       0.14           161           -13                0      35.8\n",
       "2023-09-20 00:00:00.000 26.873749999999998 -0.8077777777777778  94.852  95.723 ...       0.22           149           -25                0      35.7\n",
       "2023-09-21 00:00:00.000 26.865833333333327 -0.8111111111111111  94.845  95.722 ...       0.31           137           -37                0      35.3\n",
       "2023-09-22 00:00:00.000 26.857499999999998 -0.8147222222222222  94.837  95.722 ...       0.41           125           -49                0      35.1"
      ]
     },
     "execution_count": 1,
     "metadata": {},
     "output_type": "execute_result"
    }
   ],
   "source": [
    "# 引入astroquery.mpc模組中的MPC類別\n",
    "from astroquery.mpc import MPC\n",
    "\n",
    "# 使用MPC類別的query_object()方法來查詢小行星或矮行星的軌道相關資訊，例如軌道傾角(inclination)、半長軸(semimajor axis)、離心率(eccentricity)\n",
    "# 若想查詢彗星的軌道相關資訊，要將target_type參數改為'comet'並將name參數修改為彗星名稱\n",
    "target_orbital_info = MPC.query_object(target_type='asteroid', name='Eris')\n",
    "print(target_orbital_info)\n",
    "print(f\"該天體的軌道傾角為 {target_orbital_info[0]['inclination']} 度\")\n",
    "print(f\"該天體的半長軸為 {target_orbital_info[0].get('semimajor_axis')} AU\")\n",
    "\n",
    "# 使用MPC類別的get_observatory_codes()方法取得所有觀測站編碼，並從中取出位於台灣的鹿林天文台的編碼\n",
    "observatory_codes = MPC.get_observatory_codes()\n",
    "lulin_obs_code = observatory_codes[observatory_codes['Name'] == 'Lulin Observatory']['Code'][0]\n",
    "print(f\"鹿林天文台的編碼為 {lulin_obs_code}\")\n",
    "\n",
    "# 使用MPC類別的get_ephemeris()方法來取得目標天體在特定日期範圍內的星曆表，並設定觀測地點為鹿林天文台\n",
    "target_ephemeris = MPC.get_ephemeris('Eris', start='2023-09-02', step='1d', location=lulin_obs_code)\n",
    "target_ephemeris"
   ]
  },
  {
   "cell_type": "markdown",
   "id": "6434b59d",
   "metadata": {},
   "source": [
    "### 範例2：用jplhorizons模組取得太陽系天體的軌道及位置資料"
   ]
  },
  {
   "cell_type": "code",
   "execution_count": 2,
   "id": "b2b0f2f3",
   "metadata": {},
   "outputs": [
    {
     "name": "stdout",
     "output_type": "stream",
     "text": [
      "targetname   datetime_jd             datetime_str                   e          ...         a                 Q                 P        \n",
      "   ---            d                      ---                       ---         ...         AU                AU                d        \n",
      "---------- ---------------- ------------------------------ ------------------- ... ----------------- ----------------- -----------------\n",
      "Mars (499) 2460221.48696188 A.D. 2023-Oct-03 23:41:13.5064 0.09332833485175408 ... 1.523697369060919 1.665901507333373 686.9837009010539\n"
     ]
    },
    {
     "data": {
      "text/html": [
       "<div><i>Table masked=True length=25</i>\n",
       "<table id=\"table140540304945888\" class=\"table-striped table-bordered table-condensed\">\n",
       "<thead><tr><th>targetname</th><th>datetime_str</th><th>datetime_jd</th><th>solar_presence</th><th>lunar_presence</th><th>RA</th><th>DEC</th><th>RA_app</th><th>DEC_app</th><th>RA_rate</th><th>DEC_rate</th><th>AZ</th><th>EL</th><th>AZ_rate</th><th>EL_rate</th><th>sat_X</th><th>sat_Y</th><th>sat_PANG</th><th>siderealtime</th><th>airmass</th><th>magextinct</th><th>V</th><th>surfbright</th><th>illumination</th><th>illum_defect</th><th>sat_sep</th><th>sat_vis</th><th>ang_width</th><th>PDObsLon</th><th>PDObsLat</th><th>PDSunLon</th><th>PDSunLat</th><th>SubSol_ang</th><th>SubSol_dist</th><th>NPole_ang</th><th>NPole_dist</th><th>EclLon</th><th>EclLat</th><th>r</th><th>r_rate</th><th>delta</th><th>delta_rate</th><th>lighttime</th><th>vel_sun</th><th>vel_obs</th><th>elong</th><th>elongFlag</th><th>alpha</th><th>lunar_elong</th><th>lunar_illum</th><th>sat_alpha</th><th>sunTargetPA</th><th>velocityPA</th><th>OrbPlaneAng</th><th>constellation</th><th>TDB-UT</th><th>ObsEclLon</th><th>ObsEclLat</th><th>NPole_RA</th><th>NPole_DEC</th><th>GlxLon</th><th>GlxLat</th><th>solartime</th><th>earth_lighttime</th><th>RA_3sigma</th><th>DEC_3sigma</th><th>SMAA_3sigma</th><th>SMIA_3sigma</th><th>Theta_3sigma</th><th>Area_3sigma</th><th>RSS_3sigma</th><th>r_3sigma</th><th>r_rate_3sigma</th><th>SBand_3sigma</th><th>XBand_3sigma</th><th>DoppDelay_3sigma</th><th>true_anom</th><th>hour_angle</th><th>alpha_true</th><th>PABLon</th><th>PABLat</th></tr></thead>\n",
       "<thead><tr><th>---</th><th>---</th><th>d</th><th>---</th><th>---</th><th>deg</th><th>deg</th><th>deg</th><th>deg</th><th>arcsec / h</th><th>arcsec / h</th><th>deg</th><th>deg</th><th>arcsec / min</th><th>arcsec / min</th><th>arcsec</th><th>arcsec</th><th>deg</th><th>h</th><th>---</th><th>mag</th><th>mag</th><th>mag / arcsec2</th><th>%</th><th>arcsec</th><th>arcsec</th><th>---</th><th>arcsec</th><th>deg</th><th>deg</th><th>deg</th><th>deg</th><th>deg</th><th>arcsec</th><th>deg</th><th>arcsec</th><th>deg</th><th>deg</th><th>AU</th><th>km / s</th><th>AU</th><th>km / s</th><th>min</th><th>km / s</th><th>km / s</th><th>deg</th><th>---</th><th>deg</th><th>deg</th><th>%</th><th>deg</th><th>deg</th><th>deg</th><th>deg</th><th>---</th><th>s</th><th>deg</th><th>deg</th><th>deg</th><th>deg</th><th>deg</th><th>deg</th><th>h</th><th>min</th><th>arcsec</th><th>arcsec</th><th>arcsec</th><th>arcsec</th><th>deg</th><th>arcsec2</th><th>arcsec</th><th>km</th><th>km / s</th><th>Hz</th><th>Hz</th><th>s</th><th>deg</th><th>h</th><th>deg</th><th>deg</th><th>deg</th></tr></thead>\n",
       "<thead><tr><th>str13</th><th>str17</th><th>float64</th><th>str1</th><th>str1</th><th>float64</th><th>float64</th><th>float64</th><th>float64</th><th>float64</th><th>float64</th><th>float64</th><th>float64</th><th>float64</th><th>float64</th><th>float64</th><th>float64</th><th>float64</th><th>float64</th><th>float64</th><th>float64</th><th>float64</th><th>float64</th><th>float64</th><th>float64</th><th>float64</th><th>str1</th><th>float64</th><th>float64</th><th>float64</th><th>float64</th><th>float64</th><th>float64</th><th>float64</th><th>float64</th><th>float64</th><th>float64</th><th>float64</th><th>float64</th><th>float64</th><th>float64</th><th>float64</th><th>float64</th><th>float64</th><th>float64</th><th>float64</th><th>str2</th><th>float64</th><th>float64</th><th>float64</th><th>float64</th><th>float64</th><th>float64</th><th>float64</th><th>str3</th><th>float64</th><th>float64</th><th>float64</th><th>float64</th><th>float64</th><th>float64</th><th>float64</th><th>float64</th><th>float64</th><th>int64</th><th>int64</th><th>int64</th><th>int64</th><th>int64</th><th>int64</th><th>int64</th><th>int64</th><th>int64</th><th>int64</th><th>int64</th><th>int64</th><th>float64</th><th>float64</th><th>float64</th><th>float64</th><th>float64</th></tr></thead>\n",
       "<tr><td>Jupiter (599)</td><td>2023-Sep-02 00:00</td><td>2460189.5</td><td>*</td><td></td><td>43.17421</td><td>15.14098</td><td>43.50192</td><td>15.23871</td><td>1.109162</td><td>-0.19605</td><td>272.717243</td><td>34.769844</td><td>272.85</td><td>-826.86</td><td>-418331.05</td><td>25751.277</td><td>290.632</td><td>6.7840086136</td><td>1.749</td><td>0.237</td><td>-2.595</td><td>5.354</td><td>99.12655</td><td>0.385</td><td>409374.4</td><td>*</td><td>44.07598</td><td>304.640628</td><td>3.849256</td><td>315.377774</td><td>3.477282</td><td>73.81</td><td>4.1</td><td>342.3724</td><td>20.562</td><td>34.5148</td><td>-1.1909</td><td>4.965552196462</td><td>0.2215805</td><td>4.47285915351972</td><td>-23.7220314</td><td>37.19963525</td><td>13.6730351</td><td>23.7436986</td><td>113.7151</td><td>/L</td><td>10.7276</td><td>40.0</td><td>94.8473</td><td>55.5573</td><td>253.714</td><td>252.338</td><td>0.25101</td><td>Ari</td><td>69.182633</td><td>45.570341</td><td>-1.3198231</td><td>268.05805</td><td>64.49679</td><td>161.438148</td><td>-38.498805</td><td>8.0592254274</td><td>0.000355</td><td>--</td><td>--</td><td>--</td><td>--</td><td>--</td><td>--</td><td>--</td><td>--</td><td>--</td><td>--</td><td>--</td><td>--</td><td>20.1707</td><td>3.883880907</td><td>10.7252</td><td>39.8756</td><td>-1.2622</td></tr>\n",
       "<tr><td>Jupiter (599)</td><td>2023-Sep-02 01:00</td><td>2460189.541666667</td><td>*</td><td></td><td>43.17455</td><td>15.14093</td><td>43.50223</td><td>15.23866</td><td>1.20246</td><td>-0.21532</td><td>278.048013</td><td>21.039659</td><td>293.84</td><td>-819.63</td><td>-418478.77</td><td>25805.373</td><td>290.637</td><td>7.786746418</td><td>2.762</td><td>0.374</td><td>-2.596</td><td>5.354</td><td>99.12711</td><td>0.3848</td><td>409517.2</td><td>*</td><td>44.0816</td><td>340.915539</td><td>3.84943</td><td>351.649173</td><td>3.477334</td><td>73.81</td><td>4.1</td><td>342.3725</td><td>20.564</td><td>34.5186</td><td>-1.1909</td><td>4.965557529903</td><td>0.2216439</td><td>4.47228897436525</td><td>-23.6702611</td><td>37.19489322</td><td>13.6730895</td><td>23.6957979</td><td>113.7548</td><td>/L</td><td>10.7241</td><td>39.3</td><td>94.606</td><td>55.5211</td><td>253.715</td><td>252.338</td><td>0.25116</td><td>Ari</td><td>69.182632</td><td>45.5706173</td><td>-1.3199628</td><td>268.05805</td><td>64.49679</td><td>161.438506</td><td>-38.498674</td><td>9.0594715434</td><td>0.000355</td><td>--</td><td>--</td><td>--</td><td>--</td><td>--</td><td>--</td><td>--</td><td>--</td><td>--</td><td>--</td><td>--</td><td>--</td><td>20.1724</td><td>4.886597657</td><td>10.7217</td><td>39.8776</td><td>-1.2622</td></tr>\n",
       "<tr><td>Jupiter (599)</td><td>2023-Sep-02 02:00</td><td>2460189.583333333</td><td>*</td><td></td><td>43.17491</td><td>15.14087</td><td>43.50257</td><td>15.2386</td><td>1.305135</td><td>-0.22641</td><td>283.411303</td><td>7.48813</td><td>331.32</td><td>-805.21</td><td>-418626.0</td><td>25859.515</td><td>290.642</td><td>8.789484223</td><td>7.177</td><td>0.971</td><td>-2.596</td><td>5.353</td><td>99.12768</td><td>0.3846</td><td>409659.5</td><td>*</td><td>44.08721</td><td>17.190421</td><td>3.849617</td><td>27.920567</td><td>3.477386</td><td>73.81</td><td>4.1</td><td>342.3726</td><td>20.567</td><td>34.5224</td><td>-1.1909</td><td>4.96556286469</td><td>0.2216923</td><td>4.47171971993015</td><td>-23.6455326</td><td>37.19015887</td><td>13.6731449</td><td>23.675584</td><td>113.7943</td><td>/L</td><td>10.7206</td><td>38.6</td><td>94.3394</td><td>55.4851</td><td>253.717</td><td>252.338</td><td>0.25133</td><td>Ari</td><td>69.182631</td><td>45.5709166</td><td>-1.3201153</td><td>268.05805</td><td>64.49679</td><td>161.438895</td><td>-38.498533</td><td>10.0597251642</td><td>0.000355</td><td>--</td><td>--</td><td>--</td><td>--</td><td>--</td><td>--</td><td>--</td><td>--</td><td>--</td><td>--</td><td>--</td><td>--</td><td>20.1727</td><td>5.889312625</td><td>10.7183</td><td>39.8797</td><td>-1.2623</td></tr>\n",
       "<tr><td>Jupiter (599)</td><td>2023-Sep-02 03:00</td><td>2460189.625</td><td>*</td><td></td><td>43.1753</td><td>15.1408</td><td>43.50295</td><td>15.23853</td><td>1.408797</td><td>-0.22898</td><td>289.371015</td><td>-5.746607</td><td>385.09</td><td>-780.92</td><td>-418772.83</td><td>25913.725</td><td>290.646</td><td>9.7922220284</td><td>999.0</td><td>--</td><td>-2.596</td><td>5.353</td><td>99.12824</td><td>0.3844</td><td>409801.6</td><td>*</td><td>44.09282</td><td>53.465274</td><td>3.849817</td><td>64.191959</td><td>3.477438</td><td>73.81</td><td>4.1</td><td>342.3727</td><td>20.57</td><td>34.5262</td><td>-1.1908</td><td>4.965568200461</td><td>0.2217257</td><td>4.47115072144272</td><td>-23.6490248</td><td>37.18542665</td><td>13.6731987</td><td>23.6839006</td><td>113.8338</td><td>/L</td><td>10.7171</td><td>37.9</td><td>94.049</td><td>55.4491</td><td>253.718</td><td>252.338</td><td>0.2515</td><td>Ari</td><td>69.18263</td><td>45.5712424</td><td>-1.3202793</td><td>268.05805</td><td>64.49679</td><td>161.439317</td><td>-38.498377</td><td>11.0599842084</td><td>0.000355</td><td>--</td><td>--</td><td>--</td><td>--</td><td>--</td><td>--</td><td>--</td><td>--</td><td>--</td><td>--</td><td>--</td><td>--</td><td>20.1718</td><td>6.89202561</td><td>10.7148</td><td>39.8818</td><td>-1.2623</td></tr>\n",
       "<tr><td>Jupiter (599)</td><td>2023-Sep-02 04:00</td><td>2460189.666666667</td><td>*</td><td></td><td>43.17572</td><td>15.14074</td><td>43.50335</td><td>15.23847</td><td>1.504985</td><td>-0.22324</td><td>296.549038</td><td>-18.454177</td><td>458.04</td><td>-740.5</td><td>-418919.4</td><td>25968.019</td><td>290.651</td><td>10.7949598344</td><td>999.0</td><td>--</td><td>-2.597</td><td>5.353</td><td>99.12879</td><td>0.3842</td><td>409943.4</td><td>*</td><td>44.09843</td><td>89.740103</td><td>3.850025</td><td>100.463354</td><td>3.47749</td><td>73.81</td><td>4.1</td><td>342.3728</td><td>20.572</td><td>34.53</td><td>-1.1908</td><td>4.965573536859</td><td>0.2217446</td><td>4.47058130499827</td><td>-23.6799829</td><td>37.18069096</td><td>13.6732486</td><td>23.7195499</td><td>113.8732</td><td>/L</td><td>10.7137</td><td>37.1</td><td>93.7374</td><td>55.4131</td><td>253.72</td><td>252.338</td><td>0.25168</td><td>Ari</td><td>69.182629</td><td>45.571596</td><td>-1.3204526</td><td>268.05805</td><td>64.49679</td><td>161.43977</td><td>-38.498206</td><td>12.0602462342</td><td>0.000355</td><td>--</td><td>--</td><td>--</td><td>--</td><td>--</td><td>--</td><td>--</td><td>--</td><td>--</td><td>--</td><td>--</td><td>--</td><td>20.17</td><td>7.894736575</td><td>10.7114</td><td>39.8838</td><td>-1.2624</td></tr>\n",
       "<tr><td>Jupiter (599)</td><td>2023-Sep-02 05:00</td><td>2460189.708333333</td><td>*</td><td></td><td>43.17616</td><td>15.14068</td><td>43.50378</td><td>15.23841</td><td>1.585747</td><td>-0.20999</td><td>305.817667</td><td>-30.271777</td><td>554.59</td><td>-671.24</td><td>-419065.85</td><td>26022.408</td><td>290.655</td><td>11.797697641</td><td>999.0</td><td>--</td><td>-2.597</td><td>5.353</td><td>99.12935</td><td>0.384</td><td>410085.1</td><td>*</td><td>44.10406</td><td>126.014913</td><td>3.85024</td><td>136.734754</td><td>3.477542</td><td>73.81</td><td>4.1</td><td>342.373</td><td>20.575</td><td>34.5338</td><td>-1.1908</td><td>4.965578873544</td><td>0.2217497</td><td>4.4700108377378</td><td>-23.7357701</td><td>37.17594653</td><td>13.673292</td><td>23.7793903</td><td>113.9125</td><td>/L</td><td>10.7103</td><td>36.3</td><td>93.4084</td><td>55.3772</td><td>253.721</td><td>252.338</td><td>0.25187</td><td>Ari</td><td>69.182628</td><td>45.5719762</td><td>-1.3206326</td><td>268.05805</td><td>64.49679</td><td>161.440251</td><td>-38.498018</td><td>13.0605086056</td><td>0.000355</td><td>--</td><td>--</td><td>--</td><td>--</td><td>--</td><td>--</td><td>--</td><td>--</td><td>--</td><td>--</td><td>--</td><td>--</td><td>20.1674</td><td>8.897445645</td><td>10.708</td><td>39.8859</td><td>-1.2625</td></tr>\n",
       "<tr><td>Jupiter (599)</td><td>2023-Sep-02 06:00</td><td>2460189.75</td><td>*</td><td></td><td>43.17663</td><td>15.14063</td><td>43.50424</td><td>15.23835</td><td>1.644187</td><td>-0.19053</td><td>318.447899</td><td>-40.537619</td><td>675.76</td><td>-549.07</td><td>-419212.35</td><td>26076.896</td><td>290.66</td><td>12.8004354483</td><td>999.0</td><td>--</td><td>-2.597</td><td>5.353</td><td>99.12989</td><td>0.3838</td><td>410227.0</td><td>*</td><td>44.10971</td><td>162.28971</td><td>3.850456</td><td>173.006162</td><td>3.477594</td><td>73.81</td><td>4.1</td><td>342.3731</td><td>20.578</td><td>34.5376</td><td>-1.1907</td><td>4.965584210199</td><td>0.2217422</td><td>4.46943877121381</td><td>-23.8120479</td><td>37.1711888</td><td>13.6733268</td><td>23.8585905</td><td>113.9519</td><td>/L</td><td>10.7069</td><td>35.5</td><td>93.0667</td><td>55.3412</td><td>253.723</td><td>252.338</td><td>0.25206</td><td>Ari</td><td>69.182627</td><td>45.5723798</td><td>-1.3208159</td><td>268.05805</td><td>64.49679</td><td>161.440753</td><td>-38.497814</td><td>14.0607686723</td><td>0.000355</td><td>--</td><td>--</td><td>--</td><td>--</td><td>--</td><td>--</td><td>--</td><td>--</td><td>--</td><td>--</td><td>--</td><td>--</td><td>20.1643</td><td>9.900153104</td><td>10.7046</td><td>39.888</td><td>-1.2626</td></tr>\n",
       "<tr><td>Jupiter (599)</td><td>2023-Sep-02 07:00</td><td>2460189.791666667</td><td>*</td><td></td><td>43.17711</td><td>15.14058</td><td>43.50471</td><td>15.23829</td><td>1.674937</td><td>-0.16661</td><td>335.849335</td><td>-48.080858</td><td>802.14</td><td>-338.68</td><td>-419359.05</td><td>26131.483</td><td>290.664</td><td>13.8031732564</td><td>999.0</td><td>--</td><td>-2.598</td><td>5.353</td><td>99.13044</td><td>0.3836</td><td>410369.0</td><td>*</td><td>44.11537</td><td>198.564504</td><td>3.85067</td><td>209.27758</td><td>3.477646</td><td>73.82</td><td>4.1</td><td>342.3733</td><td>20.58</td><td>34.5414</td><td>-1.1907</td><td>4.965589546541</td><td>0.2217238</td><td>4.46886467897232</td><td>-23.9030742</td><td>37.16641422</td><td>13.673351</td><td>23.951009</td><td>113.9914</td><td>/L</td><td>10.7035</td><td>34.7</td><td>92.7178</td><td>55.3051</td><td>253.724</td><td>252.339</td><td>0.25224</td><td>Ari</td><td>69.182626</td><td>45.5728015</td><td>-1.3209992</td><td>268.05805</td><td>64.49679</td><td>161.44127</td><td>-38.497595</td><td>15.0610239501</td><td>0.000355</td><td>--</td><td>--</td><td>--</td><td>--</td><td>--</td><td>--</td><td>--</td><td>--</td><td>--</td><td>--</td><td>--</td><td>--</td><td>20.1608</td><td>10.90285937</td><td>10.7012</td><td>39.8902</td><td>-1.2626</td></tr>\n",
       "<tr><td>Jupiter (599)</td><td>2023-Sep-02 08:00</td><td>2460189.833333333</td><td>*</td><td></td><td>43.17759</td><td>15.14054</td><td>43.50519</td><td>15.23825</td><td>1.674522</td><td>-0.14026</td><td>357.815331</td><td>-51.267532</td><td>870.13</td><td>-31.56</td><td>-419506.07</td><td>26186.161</td><td>290.668</td><td>14.8059110651</td><td>999.0</td><td>--</td><td>-2.598</td><td>5.353</td><td>99.13098</td><td>0.3834</td><td>410511.3</td><td>*</td><td>44.12106</td><td>234.839303</td><td>3.850877</td><td>245.54901</td><td>3.477698</td><td>73.82</td><td>4.1</td><td>342.3734</td><td>20.583</td><td>34.5452</td><td>-1.1907</td><td>4.965594882328</td><td>0.2216963</td><td>4.46828828577768</td><td>-24.0020955</td><td>37.1616205</td><td>13.673363</td><td>24.0496605</td><td>114.0309</td><td>/L</td><td>10.7002</td><td>33.8</td><td>92.3677</td><td>55.2689</td><td>253.726</td><td>252.339</td><td>0.25242</td><td>Ari</td><td>69.182625</td><td>45.5732343</td><td>-1.3211788</td><td>268.05805</td><td>64.49679</td><td>161.441791</td><td>-38.497365</td><td>16.061272291</td><td>0.000355</td><td>--</td><td>--</td><td>--</td><td>--</td><td>--</td><td>--</td><td>--</td><td>--</td><td>--</td><td>--</td><td>--</td><td>--</td><td>20.1573</td><td>11.90556497</td><td>10.6979</td><td>39.8923</td><td>-1.2627</td></tr>\n",
       "<tr><td>Jupiter (599)</td><td>2023-Sep-02 09:00</td><td>2460189.875</td><td>*</td><td></td><td>43.17807</td><td>15.1405</td><td>43.50568</td><td>15.23821</td><td>1.641604</td><td>-0.1137</td><td>20.295513</td><td>-49.064204</td><td>822.0</td><td>287.12</td><td>-419653.55</td><td>26240.917</td><td>290.673</td><td>15.8086488747</td><td>999.0</td><td>--</td><td>-2.598</td><td>5.353</td><td>99.13153</td><td>0.3832</td><td>410654.1</td><td>*</td><td>44.12678</td><td>271.114117</td><td>3.851075</td><td>281.820451</td><td>3.47775</td><td>73.82</td><td>4.09</td><td>342.3736</td><td>20.585</td><td>34.549</td><td>-1.1906</td><td>4.965600217364</td><td>0.2216616</td><td>4.46770948647815</td><td>-24.1018106</td><td>37.15680678</td><td>13.6733612</td><td>24.147223</td><td>114.0706</td><td>/L</td><td>10.6968</td><td>33.1</td><td>92.0227</td><td>55.2326</td><td>253.727</td><td>252.339</td><td>0.25259</td><td>Ari</td><td>69.182624</td><td>45.5736702</td><td>-1.3213517</td><td>268.05805</td><td>64.49679</td><td>161.442309</td><td>-38.497129</td><td>17.061512029</td><td>0.000355</td><td>--</td><td>--</td><td>--</td><td>--</td><td>--</td><td>--</td><td>--</td><td>--</td><td>--</td><td>--</td><td>--</td><td>--</td><td>20.1541</td><td>-11.091729497</td><td>10.6945</td><td>39.8944</td><td>-1.2628</td></tr>\n",
       "<tr><td>Jupiter (599)</td><td>2023-Sep-02 10:00</td><td>2460189.916666667</td><td>*</td><td></td><td>43.17853</td><td>15.14047</td><td>43.50615</td><td>15.23818</td><td>1.577067</td><td>-0.08913</td><td>38.672806</td><td>-42.212397</td><td>700.41</td><td>517.26</td><td>-419801.57</td><td>26295.733</td><td>290.677</td><td>16.8113866852</td><td>999.0</td><td>--</td><td>-2.599</td><td>5.353</td><td>99.13207</td><td>0.383</td><td>410797.5</td><td>*</td><td>44.13252</td><td>307.388953</td><td>3.851261</td><td>318.091905</td><td>3.477802</td><td>73.82</td><td>4.09</td><td>342.3737</td><td>20.588</td><td>34.5528</td><td>-1.1906</td><td>4.965605551503</td><td>0.2216221</td><td>4.46712835322077</td><td>-24.1948701</td><td>37.15197364</td><td>13.6733447</td><td>24.236544</td><td>114.1104</td><td>/L</td><td>10.6934</td><td>32.3</td><td>91.6886</td><td>55.1962</td><td>253.729</td><td>252.339</td><td>0.25275</td><td>Ari</td><td>69.182623</td><td>45.5741004</td><td>-1.3215151</td><td>268.05805</td><td>64.49679</td><td>161.442812</td><td>-38.496892</td><td>18.0617420937</td><td>0.000355</td><td>--</td><td>--</td><td>--</td><td>--</td><td>--</td><td>--</td><td>--</td><td>--</td><td>--</td><td>--</td><td>--</td><td>--</td><td>20.1513</td><td>-10.0890234</td><td>10.6911</td><td>39.8965</td><td>-1.2628</td></tr>\n",
       "<tr><td>Jupiter (599)</td><td>2023-Sep-02 11:00</td><td>2460189.958333333</td><td>N</td><td></td><td>43.17897</td><td>15.14045</td><td>43.50661</td><td>15.23815</td><td>1.483965</td><td>-0.06867</td><td>52.105778</td><td>-32.351438</td><td>575.69</td><td>653.24</td><td>-419950.17</td><td>26350.589</td><td>290.682</td><td>17.8141244964</td><td>999.0</td><td>--</td><td>-2.599</td><td>5.353</td><td>99.13262</td><td>0.3828</td><td>410941.4</td><td>*</td><td>44.13828</td><td>343.663819</td><td>3.851432</td><td>354.363369</td><td>3.477854</td><td>73.82</td><td>4.09</td><td>342.3739</td><td>20.591</td><td>34.5566</td><td>-1.1905</td><td>4.96561088466</td><td>0.2215802</td><td>4.46654513052154</td><td>-24.2743801</td><td>37.14712312</td><td>13.6733128</td><td>24.3111099</td><td>114.1504</td><td>/L</td><td>10.6901</td><td>31.6</td><td>91.3706</td><td>55.1596</td><td>253.73</td><td>252.339</td><td>0.25289</td><td>Ari</td><td>69.182623</td><td>45.5745163</td><td>-1.3216669</td><td>268.05805</td><td>64.49679</td><td>161.443293</td><td>-38.496658</td><td>19.0619620835</td><td>0.000355</td><td>--</td><td>--</td><td>--</td><td>--</td><td>--</td><td>--</td><td>--</td><td>--</td><td>--</td><td>--</td><td>--</td><td>--</td><td>20.1492</td><td>-9.086316124</td><td>10.6877</td><td>39.8986</td><td>-1.2629</td></tr>\n",
       "<tr><td>Jupiter (599)</td><td>2023-Sep-02 12:00</td><td>2460190.0</td><td></td><td>m</td><td>43.17938</td><td>15.14044</td><td>43.50704</td><td>15.23813</td><td>1.367307</td><td>-0.0541</td><td>61.89773</td><td>-20.763125</td><td>474.3</td><td>730.19</td><td>-420099.37</td><td>26405.461</td><td>290.687</td><td>18.8168623087</td><td>999.0</td><td>--</td><td>-2.599</td><td>5.353</td><td>99.13318</td><td>0.3827</td><td>411085.8</td><td>*</td><td>44.14406</td><td>19.93872</td><td>3.851587</td><td>30.634842</td><td>3.477906</td><td>73.82</td><td>4.09</td><td>342.374</td><td>20.594</td><td>34.5604</td><td>-1.1905</td><td>4.965616216805</td><td>0.2215383</td><td>4.46596021852853</td><td>-24.3343741</td><td>37.14225856</td><td>13.6732652</td><td>24.3654525</td><td>114.1905</td><td>/L</td><td>10.6867</td><td>31.0</td><td>91.0729</td><td>55.1228</td><td>253.732</td><td>252.339</td><td>0.25303</td><td>Ari</td><td>69.182622</td><td>45.5749098</td><td>-1.3218056</td><td>268.05805</td><td>64.49679</td><td>161.443742</td><td>-38.496434</td><td>20.0621722924</td><td>0.000355</td><td>--</td><td>--</td><td>--</td><td>--</td><td>--</td><td>--</td><td>--</td><td>--</td><td>--</td><td>--</td><td>--</td><td>--</td><td>20.1481</td><td>-8.083607105</td><td>10.6843</td><td>39.9007</td><td>-1.2629</td></tr>\n",
       "<tr><td>Jupiter (599)</td><td>2023-Sep-02 13:00</td><td>2460190.041666667</td><td></td><td>m</td><td>43.17976</td><td>15.14042</td><td>43.50744</td><td>15.23812</td><td>1.233716</td><td>-0.04684</td><td>69.392292</td><td>-8.188933</td><td>397.24</td><td>774.82</td><td>-420249.13</td><td>26460.324</td><td>290.691</td><td>19.8196001219</td><td>999.0</td><td>--</td><td>-2.6</td><td>5.353</td><td>99.13374</td><td>0.3825</td><td>411230.8</td><td>*</td><td>44.14986</td><td>56.213658</td><td>3.851727</td><td>66.90632</td><td>3.477958</td><td>73.82</td><td>4.09</td><td>342.3741</td><td>20.596</td><td>34.5642</td><td>-1.1905</td><td>4.965621547969</td><td>0.221499</td><td>4.46537414562492</td><td>-24.3702221</td><td>37.13738434</td><td>13.6732019</td><td>24.3954756</td><td>114.2308</td><td>/L</td><td>10.6832</td><td>30.4</td><td>90.7983</td><td>55.086</td><td>253.733</td><td>252.339</td><td>0.25314</td><td>Ari</td><td>69.182622</td><td>45.5752739</td><td>-1.3219311</td><td>268.05805</td><td>64.49679</td><td>161.444155</td><td>-38.496225</td><td>21.0623736902</td><td>0.000355</td><td>--</td><td>--</td><td>--</td><td>--</td><td>--</td><td>--</td><td>--</td><td>--</td><td>--</td><td>--</td><td>--</td><td>--</td><td>20.1482</td><td>-7.080895873</td><td>10.6809</td><td>39.9028</td><td>-1.2629</td></tr>\n",
       "<tr><td>Jupiter (599)</td><td>2023-Sep-02 14:00</td><td>2460190.083333333</td><td></td><td>m</td><td>43.18009</td><td>15.14041</td><td>43.5078</td><td>15.2381</td><td>1.090977</td><td>-0.04779</td><td>75.528999</td><td>4.96583</td><td>340.15</td><td>801.53</td><td>-420399.39</td><td>26515.156</td><td>290.696</td><td>20.8223379362</td><td>10.094</td><td>1.365</td><td>-2.6</td><td>5.353</td><td>99.1343</td><td>0.3823</td><td>411376.3</td><td>*</td><td>44.15566</td><td>92.488637</td><td>3.851853</td><td>103.177801</td><td>3.478009</td><td>73.82</td><td>4.09</td><td>342.3742</td><td>20.599</td><td>34.568</td><td>-1.1904</td><td>4.965626878245</td><td>0.2214648</td><td>4.46478753224805</td><td>-24.3789474</td><td>37.13250562</td><td>13.6731234</td><td>24.3986901</td><td>114.2712</td><td>/L</td><td>10.6798</td><td>29.8</td><td>90.5476</td><td>55.049</td><td>253.734</td><td>252.339</td><td>0.25325</td><td>Ari</td><td>69.182622</td><td>45.5756032</td><td>-1.3220436</td><td>268.05805</td><td>64.49679</td><td>161.444528</td><td>-38.496036</td><td>22.0625678558</td><td>0.000355</td><td>--</td><td>--</td><td>--</td><td>--</td><td>--</td><td>--</td><td>--</td><td>--</td><td>--</td><td>--</td><td>--</td><td>--</td><td>20.1496</td><td>-6.078182084</td><td>10.6774</td><td>39.9048</td><td>-1.263</td></tr>\n",
       "<tr><td>Jupiter (599)</td><td>2023-Sep-02 15:00</td><td>2460190.125</td><td></td><td>m</td><td>43.18038</td><td>15.1404</td><td>43.50812</td><td>15.23809</td><td>0.947504</td><td>-0.05729</td><td>80.962734</td><td>18.469676</td><td>299.7</td><td>817.51</td><td>-420550.03</td><td>26569.937</td><td>290.701</td><td>21.8250757515</td><td>3.122</td><td>0.422</td><td>-2.6</td><td>5.353</td><td>99.13487</td><td>0.3821</td><td>411522.2</td><td>*</td><td>44.16146</td><td>128.763653</td><td>3.851967</td><td>139.449282</td><td>3.478061</td><td>73.83</td><td>4.09</td><td>342.3743</td><td>20.602</td><td>34.5718</td><td>-1.1904</td><td>4.965632207781</td><td>0.221438</td><td>4.46420104840364</td><td>-24.3594307</td><td>37.12762799</td><td>13.6730306</td><td>24.374353</td><td>114.3117</td><td>/L</td><td>10.6763</td><td>29.4</td><td>90.3197</td><td>55.012</td><td>253.735</td><td>252.339</td><td>0.25335</td><td>Ari</td><td>69.182621</td><td>45.5758943</td><td>-1.3221446</td><td>268.05805</td><td>64.49679</td><td>161.444859</td><td>-38.495869</td><td>23.06275687</td><td>0.000355</td><td>--</td><td>--</td><td>--</td><td>--</td><td>--</td><td>--</td><td>--</td><td>--</td><td>--</td><td>--</td><td>--</td><td>--</td><td>20.1524</td><td>-5.075465542</td><td>10.6739</td><td>39.9068</td><td>-1.263</td></tr>\n",
       "<tr><td>Jupiter (599)</td><td>2023-Sep-02 16:00</td><td>2460190.166666667</td><td></td><td>m</td><td>43.18064</td><td>15.14038</td><td>43.5084</td><td>15.23807</td><td>0.811762</td><td>-0.0751</td><td>86.251931</td><td>32.175204</td><td>275.4</td><td>826.02</td><td>-420700.93</td><td>26624.65</td><td>290.705</td><td>22.8278135678</td><td>1.872</td><td>0.253</td><td>-2.601</td><td>5.353</td><td>99.13545</td><td>0.3818</td><td>411668.3</td><td>*</td><td>44.16725</td><td>165.038703</td><td>3.852071</td><td>175.720758</td><td>3.478113</td><td>73.83</td><td>4.09</td><td>342.3744</td><td>20.604</td><td>34.5756</td><td>-1.1904</td><td>4.965637536784</td><td>0.2214209</td><td>4.46361536778508</td><td>-24.3124866</td><td>37.12275703</td><td>13.6729246</td><td>24.3235084</td><td>114.3523</td><td>/L</td><td>10.6727</td><td>28.9</td><td>90.1118</td><td>54.975</td><td>253.736</td><td>252.34</td><td>0.25343</td><td>Ari</td><td>69.182621</td><td>45.5761462</td><td>-1.3222363</td><td>268.05804</td><td>64.49679</td><td>161.445149</td><td>-38.495727</td><td>0.0629431733</td><td>0.000355</td><td>--</td><td>--</td><td>--</td><td>--</td><td>--</td><td>--</td><td>--</td><td>--</td><td>--</td><td>--</td><td>--</td><td>--</td><td>20.1569</td><td>-4.072746216</td><td>10.6703</td><td>39.9088</td><td>-1.263</td></tr>\n",
       "<tr><td>Jupiter (599)</td><td>2023-Sep-02 17:00</td><td>2460190.208333333</td><td></td><td>m</td><td>43.18085</td><td>15.14035</td><td>43.50863</td><td>15.23805</td><td>0.691686</td><td>-0.10041</td><td>92.110456</td><td>45.964038</td><td>271.75</td><td>827.23</td><td>-420851.94</td><td>26679.286</td><td>290.71</td><td>23.8305513853</td><td>1.389</td><td>0.188</td><td>-2.601</td><td>5.353</td><td>99.13603</td><td>0.3816</td><td>411814.6</td><td>*</td><td>44.17304</td><td>201.313783</td><td>3.85217</td><td>211.992228</td><td>3.478165</td><td>73.83</td><td>4.09</td><td>342.3745</td><td>20.607</td><td>34.5794</td><td>-1.1903</td><td>4.965642865511</td><td>0.2214155</td><td>4.46303112164162</td><td>-24.2408077</td><td>37.117898</td><td>13.6728069</td><td>24.2489286</td><td>114.3929</td><td>/L</td><td>10.6691</td><td>28.5</td><td>89.9191</td><td>54.9379</td><td>253.737</td><td>252.34</td><td>0.25352</td><td>Ari</td><td>69.182621</td><td>45.57636</td><td>-1.3223214</td><td>268.05804</td><td>64.49679</td><td>161.445403</td><td>-38.495612</td><td>1.0631293995</td><td>0.000355</td><td>--</td><td>--</td><td>--</td><td>--</td><td>--</td><td>--</td><td>--</td><td>--</td><td>--</td><td>--</td><td>--</td><td>--</td><td>20.1631</td><td>-3.070024236</td><td>10.6667</td><td>39.9108</td><td>-1.263</td></tr>\n",
       "<tr><td>Jupiter (599)</td><td>2023-Sep-02 18:00</td><td>2460190.25</td><td></td><td>m</td><td>43.18104</td><td>15.14032</td><td>43.50884</td><td>15.23803</td><td>0.594143</td><td>-0.13188</td><td>100.067934</td><td>59.679164</td><td>306.36</td><td>815.05</td><td>-421002.9</td><td>26733.838</td><td>290.715</td><td>0.8332892039</td><td>1.158</td><td>0.157</td><td>-2.601</td><td>5.353</td><td>99.13661</td><td>0.3814</td><td>411960.8</td><td>*</td><td>44.1788</td><td>237.588883</td><td>3.852266</td><td>248.263687</td><td>3.478217</td><td>73.83</td><td>4.09</td><td>342.3746</td><td>20.61</td><td>34.5832</td><td>-1.1903</td><td>4.965648194266</td><td>0.2214236</td><td>4.46244885555626</td><td>-24.1487803</td><td>37.11305544</td><td>13.6726793</td><td>24.1549579</td><td>114.4336</td><td>/L</td><td>10.6655</td><td>28.1</td><td>89.7354</td><td>54.9009</td><td>253.738</td><td>252.34</td><td>0.2536</td><td>Ari</td><td>69.182621</td><td>45.576539</td><td>-1.3224032</td><td>268.05804</td><td>64.49679</td><td>161.445627</td><td>-38.495522</td><td>2.0633181962</td><td>0.000355</td><td>--</td><td>--</td><td>--</td><td>--</td><td>--</td><td>--</td><td>--</td><td>--</td><td>--</td><td>--</td><td>--</td><td>--</td><td>20.171</td><td>-2.067299889</td><td>10.6631</td><td>39.9128</td><td>-1.2631</td></tr>\n",
       "<tr><td>Jupiter (599)</td><td>2023-Sep-02 19:00</td><td>2460190.291666667</td><td></td><td>m</td><td>43.1812</td><td>15.14028</td><td>43.50901</td><td>15.23799</td><td>0.524452</td><td>-0.16778</td><td>115.804697</td><td>72.852131</td><td>450.3</td><td>745.25</td><td>-421153.66</td><td>26788.308</td><td>290.72</td><td>1.8360270238</td><td>1.046</td><td>0.141</td><td>-2.601</td><td>5.353</td><td>99.13721</td><td>0.3812</td><td>412106.9</td><td>*</td><td>44.18454</td><td>273.863997</td><td>3.852365</td><td>284.535135</td><td>3.478269</td><td>73.83</td><td>4.09</td><td>342.3746</td><td>20.612</td><td>34.587</td><td>-1.1903</td><td>4.965653523393</td><td>0.2214468</td><td>4.46186899209475</td><td>-24.0421835</td><td>37.10823287</td><td>13.6725439</td><td>24.0472608</td><td>114.4741</td><td>/L</td><td>10.6619</td><td>27.7</td><td>89.5536</td><td>54.864</td><td>253.739</td><td>252.34</td><td>0.25368</td><td>Ari</td><td>69.18262</td><td>45.5766886</td><td>-1.3224851</td><td>268.05804</td><td>64.49679</td><td>161.445827</td><td>-38.495455</td><td>3.0635120447</td><td>0.000355</td><td>--</td><td>--</td><td>--</td><td>--</td><td>--</td><td>--</td><td>--</td><td>--</td><td>--</td><td>--</td><td>--</td><td>--</td><td>20.1807</td><td>-1.0645736</td><td>10.6594</td><td>39.9148</td><td>-1.2631</td></tr>\n",
       "<tr><td>Jupiter (599)</td><td>2023-Sep-02 20:00</td><td>2460190.333333333</td><td></td><td>m</td><td>43.18134</td><td>15.14023</td><td>43.50916</td><td>15.23795</td><td>0.486026</td><td>-0.20604</td><td>173.771042</td><td>81.722206</td><td>866.08</td><td>89.81</td><td>-421304.08</td><td>26842.703</td><td>290.724</td><td>2.8387648449</td><td>1.01</td><td>0.137</td><td>-2.602</td><td>5.353</td><td>99.1378</td><td>0.381</td><td>412252.6</td><td>*</td><td>44.19026</td><td>310.139115</td><td>3.85247</td><td>320.806569</td><td>3.47832</td><td>73.83</td><td>4.09</td><td>342.3747</td><td>20.615</td><td>34.5908</td><td>-1.1902</td><td>4.96565885327</td><td>0.2214863</td><td>4.46129180188578</td><td>-23.927793</td><td>37.10343252</td><td>13.6724028</td><td>23.9324814</td><td>114.5146</td><td>/L</td><td>10.6582</td><td>27.3</td><td>89.366</td><td>54.8272</td><td>253.74</td><td>252.34</td><td>0.25377</td><td>Ari</td><td>69.18262</td><td>45.5768157</td><td>-1.3225707</td><td>268.05804</td><td>64.49679</td><td>161.446013</td><td>-38.495408</td><td>4.0637130902</td><td>0.000355</td><td>--</td><td>--</td><td>--</td><td>--</td><td>--</td><td>--</td><td>--</td><td>--</td><td>--</td><td>--</td><td>--</td><td>--</td><td>20.1921</td><td>-0.061845897</td><td>10.6557</td><td>39.9167</td><td>-1.2631</td></tr>\n",
       "<tr><td>Jupiter (599)</td><td>2023-Sep-02 21:00</td><td>2460190.375</td><td>N</td><td>m</td><td>43.18148</td><td>15.14017</td><td>43.5093</td><td>15.23789</td><td>0.480138</td><td>-0.24446</td><td>240.783393</td><td>74.361935</td><td>485.98</td><td>-722.49</td><td>-421454.05</td><td>26897.035</td><td>290.729</td><td>3.8415026673</td><td>1.038</td><td>0.14</td><td>-2.602</td><td>5.353</td><td>99.13839</td><td>0.3808</td><td>412398.0</td><td>*</td><td>44.19595</td><td>346.414228</td><td>3.852584</td><td>357.077989</td><td>3.478372</td><td>73.83</td><td>4.08</td><td>342.3747</td><td>20.618</td><td>34.5946</td><td>-1.1902</td><td>4.9656641843</td><td>0.2215429</td><td>4.46071738511377</td><td>-23.8129173</td><td>37.09865524</td><td>13.6722584</td><td>23.8178249</td><td>114.555</td><td>/L</td><td>10.6545</td><td>26.9</td><td>89.1653</td><td>54.7905</td><td>253.741</td><td>252.34</td><td>0.25387</td><td>Ari</td><td>69.182619</td><td>45.5769286</td><td>-1.3226631</td><td>268.05804</td><td>64.49679</td><td>161.446195</td><td>-38.495376</td><td>5.0639229961</td><td>0.000355</td><td>--</td><td>--</td><td>--</td><td>--</td><td>--</td><td>--</td><td>--</td><td>--</td><td>--</td><td>--</td><td>--</td><td>--</td><td>20.2052</td><td>0.940882617</td><td>10.652</td><td>39.9187</td><td>-1.2631</td></tr>\n",
       "<tr><td>Jupiter (599)</td><td>2023-Sep-02 22:00</td><td>2460190.416666667</td><td>*</td><td>m</td><td>43.18162</td><td>15.14009</td><td>43.50944</td><td>15.23782</td><td>0.505827</td><td>-0.28081</td><td>258.632948</td><td>61.351259</td><td>315.49</td><td>-811.56</td><td>-421603.47</td><td>26951.322</td><td>290.734</td><td>4.844240491</td><td>1.139</td><td>0.154</td><td>-2.602</td><td>5.353</td><td>99.13899</td><td>0.3806</td><td>412543.0</td><td>*</td><td>44.20161</td><td>22.689327</td><td>3.852711</td><td>33.349395</td><td>3.478424</td><td>73.83</td><td>4.08</td><td>342.3747</td><td>20.62</td><td>34.5984</td><td>-1.1902</td><td>4.965669516904</td><td>0.2216173</td><td>4.46014566469287</td><td>-23.7048964</td><td>37.09390039</td><td>13.6721133</td><td>23.710581</td><td>114.5953</td><td>/L</td><td>10.6508</td><td>26.5</td><td>88.9446</td><td>54.7539</td><td>253.742</td><td>252.34</td><td>0.25398</td><td>Ari</td><td>69.182619</td><td>45.5770358</td><td>-1.3227651</td><td>268.05804</td><td>64.49679</td><td>161.446382</td><td>-38.495355</td><td>6.0641428303</td><td>0.000355</td><td>--</td><td>--</td><td>--</td><td>--</td><td>--</td><td>--</td><td>--</td><td>--</td><td>--</td><td>--</td><td>--</td><td>--</td><td>20.2199</td><td>1.943611312</td><td>10.6484</td><td>39.9207</td><td>-1.2632</td></tr>\n",
       "<tr><td>Jupiter (599)</td><td>2023-Sep-02 23:00</td><td>2460190.458333333</td><td>*</td><td>m</td><td>43.18178</td><td>15.14001</td><td>43.50958</td><td>15.23775</td><td>0.559969</td><td>-0.31299</td><td>267.070458</td><td>47.664073</td><td>273.32</td><td>-826.72</td><td>-421752.3</td><td>27005.585</td><td>290.738</td><td>5.8469783159</td><td>1.351</td><td>0.183</td><td>-2.603</td><td>5.353</td><td>99.13958</td><td>0.3804</td><td>412687.4</td><td>*</td><td>44.20726</td><td>58.964407</td><td>3.852852</td><td>69.62079</td><td>3.478476</td><td>73.83</td><td>4.08</td><td>342.3748</td><td>20.623</td><td>34.6022</td><td>-1.1901</td><td>4.965674851511</td><td>0.2217096</td><td>4.45957639158941</td><td>-23.6105988</td><td>37.08916589</td><td>13.67197</td><td>23.617616</td><td>114.6354</td><td>/L</td><td>10.6472</td><td>26.0</td><td>88.6982</td><td>54.7175</td><td>253.743</td><td>252.34</td><td>0.25411</td><td>Ari</td><td>69.182618</td><td>45.5771461</td><td>-1.3228788</td><td>268.05804</td><td>64.49679</td><td>161.446583</td><td>-38.495338</td><td>7.0643729926</td><td>0.000355</td><td>--</td><td>--</td><td>--</td><td>--</td><td>--</td><td>--</td><td>--</td><td>--</td><td>--</td><td>--</td><td>--</td><td>--</td><td>20.2359</td><td>2.946339572</td><td>10.6447</td><td>39.9226</td><td>-1.2632</td></tr>\n",
       "<tr><td>Jupiter (599)</td><td>2023-Sep-03 00:00</td><td>2460190.5</td><td>*</td><td>m</td><td>43.18195</td><td>15.13992</td><td>43.50974</td><td>15.23766</td><td>0.63749</td><td>-0.33922</td><td>273.074521</td><td>33.873763</td><td>273.66</td><td>-826.61</td><td>-421900.53</td><td>27059.846</td><td>290.743</td><td>6.8497161423</td><td>1.789</td><td>0.242</td><td>-2.603</td><td>5.353</td><td>99.14017</td><td>0.3802</td><td>412831.2</td><td>*</td><td>44.21288</td><td>95.239462</td><td>3.853008</td><td>105.892174</td><td>3.478527</td><td>73.84</td><td>4.08</td><td>342.3748</td><td>20.626</td><td>34.606</td><td>-1.1901</td><td>4.965680188553</td><td>0.2218196</td><td>4.45900916192809</td><td>-23.535951</td><td>37.08444838</td><td>13.671831</td><td>23.5448704</td><td>114.6753</td><td>/L</td><td>10.6435</td><td>25.5</td><td>88.4219</td><td>54.6812</td><td>253.744</td><td>252.34</td><td>0.25425</td><td>Ari</td><td>69.182617</td><td>45.5772676</td><td>-1.3230054</td><td>268.05804</td><td>64.49679</td><td>161.446805</td><td>-38.495321</td><td>8.0646131872</td><td>0.000355</td><td>--</td><td>--</td><td>--</td><td>--</td><td>--</td><td>--</td><td>--</td><td>--</td><td>--</td><td>--</td><td>--</td><td>--</td><td>20.2532</td><td>3.949066836</td><td>10.641</td><td>39.9246</td><td>-1.2633</td></tr>\n",
       "</table></div>"
      ],
      "text/plain": [
       "<Table masked=True length=25>\n",
       "  targetname     datetime_str      datetime_jd    solar_presence lunar_presence    RA    ... true_anom   hour_angle  alpha_true  PABLon  PABLat\n",
       "     ---             ---                d              ---            ---         deg    ...    deg          h          deg       deg     deg  \n",
       "    str13           str17            float64           str1           str1      float64  ...  float64     float64     float64   float64 float64\n",
       "------------- ----------------- ----------------- -------------- -------------- -------- ... --------- ------------- ---------- ------- -------\n",
       "Jupiter (599) 2023-Sep-02 00:00         2460189.5              *                43.17421 ...   20.1707   3.883880907    10.7252 39.8756 -1.2622\n",
       "Jupiter (599) 2023-Sep-02 01:00 2460189.541666667              *                43.17455 ...   20.1724   4.886597657    10.7217 39.8776 -1.2622\n",
       "Jupiter (599) 2023-Sep-02 02:00 2460189.583333333              *                43.17491 ...   20.1727   5.889312625    10.7183 39.8797 -1.2623\n",
       "Jupiter (599) 2023-Sep-02 03:00       2460189.625              *                 43.1753 ...   20.1718    6.89202561    10.7148 39.8818 -1.2623\n",
       "Jupiter (599) 2023-Sep-02 04:00 2460189.666666667              *                43.17572 ...     20.17   7.894736575    10.7114 39.8838 -1.2624\n",
       "Jupiter (599) 2023-Sep-02 05:00 2460189.708333333              *                43.17616 ...   20.1674   8.897445645     10.708 39.8859 -1.2625\n",
       "Jupiter (599) 2023-Sep-02 06:00        2460189.75              *                43.17663 ...   20.1643   9.900153104    10.7046  39.888 -1.2626\n",
       "Jupiter (599) 2023-Sep-02 07:00 2460189.791666667              *                43.17711 ...   20.1608   10.90285937    10.7012 39.8902 -1.2626\n",
       "Jupiter (599) 2023-Sep-02 08:00 2460189.833333333              *                43.17759 ...   20.1573   11.90556497    10.6979 39.8923 -1.2627\n",
       "Jupiter (599) 2023-Sep-02 09:00       2460189.875              *                43.17807 ...   20.1541 -11.091729497    10.6945 39.8944 -1.2628\n",
       "Jupiter (599) 2023-Sep-02 10:00 2460189.916666667              *                43.17853 ...   20.1513   -10.0890234    10.6911 39.8965 -1.2628\n",
       "Jupiter (599) 2023-Sep-02 11:00 2460189.958333333              N                43.17897 ...   20.1492  -9.086316124    10.6877 39.8986 -1.2629\n",
       "Jupiter (599) 2023-Sep-02 12:00         2460190.0                             m 43.17938 ...   20.1481  -8.083607105    10.6843 39.9007 -1.2629\n",
       "Jupiter (599) 2023-Sep-02 13:00 2460190.041666667                             m 43.17976 ...   20.1482  -7.080895873    10.6809 39.9028 -1.2629\n",
       "Jupiter (599) 2023-Sep-02 14:00 2460190.083333333                             m 43.18009 ...   20.1496  -6.078182084    10.6774 39.9048  -1.263\n",
       "Jupiter (599) 2023-Sep-02 15:00       2460190.125                             m 43.18038 ...   20.1524  -5.075465542    10.6739 39.9068  -1.263\n",
       "Jupiter (599) 2023-Sep-02 16:00 2460190.166666667                             m 43.18064 ...   20.1569  -4.072746216    10.6703 39.9088  -1.263\n",
       "Jupiter (599) 2023-Sep-02 17:00 2460190.208333333                             m 43.18085 ...   20.1631  -3.070024236    10.6667 39.9108  -1.263\n",
       "Jupiter (599) 2023-Sep-02 18:00        2460190.25                             m 43.18104 ...    20.171  -2.067299889    10.6631 39.9128 -1.2631\n",
       "Jupiter (599) 2023-Sep-02 19:00 2460190.291666667                             m  43.1812 ...   20.1807    -1.0645736    10.6594 39.9148 -1.2631\n",
       "Jupiter (599) 2023-Sep-02 20:00 2460190.333333333                             m 43.18134 ...   20.1921  -0.061845897    10.6557 39.9167 -1.2631\n",
       "Jupiter (599) 2023-Sep-02 21:00       2460190.375              N              m 43.18148 ...   20.2052   0.940882617     10.652 39.9187 -1.2631\n",
       "Jupiter (599) 2023-Sep-02 22:00 2460190.416666667              *              m 43.18162 ...   20.2199   1.943611312    10.6484 39.9207 -1.2632\n",
       "Jupiter (599) 2023-Sep-02 23:00 2460190.458333333              *              m 43.18178 ...   20.2359   2.946339572    10.6447 39.9226 -1.2632\n",
       "Jupiter (599) 2023-Sep-03 00:00         2460190.5              *              m 43.18195 ...   20.2532   3.949066836     10.641 39.9246 -1.2633"
      ]
     },
     "execution_count": 2,
     "metadata": {},
     "output_type": "execute_result"
    }
   ],
   "source": [
    "# 引入astroquery.jplhorizons模組中的Horizons類別\n",
    "from astroquery.jplhorizons import Horizons\n",
    "# 引入astropy的units模組，用來處理各種物理單位，如度數、距離等\n",
    "import astropy.units as u\n",
    "\n",
    "# 建立一個ID為499的Horizons物件，該ID代表火星。Horizons System網站可以查詢到各個太陽系天體的ID：https://ssd.jpl.nasa.gov/horizons/app.html\n",
    "# 然後用該物件的elements()方法來查詢火星的軌道參數，例如軌道傾角(incl)、半長軸(a)、離心率(e)\n",
    "horizons_obj = Horizons(id='499')\n",
    "target_orbital_info = horizons_obj.elements()\n",
    "print(target_orbital_info)\n",
    "\n",
    "# 設定鹿林天文台的地理位置資訊，包括經度、緯度和海拔\n",
    "lulin_observatory_location = {\n",
    "    'lon': 120.872624 * u.deg,\n",
    "    'lat': 23.469447 * u.deg \n",
    "}\n",
    "lulin_observatory_location['elevation'] = 2.862 * u.km\n",
    "\n",
    "# 建立一個ID為599的Horizons物件，該ID代表木星，並設定觀測地點為鹿林天文台，以及觀測的時間範圍和間隔\n",
    "# 然後用該物件的ephemerides()方法來查詢木星在指定的觀測地點和時間內的星曆表\n",
    "horizons_obj = Horizons(id='599', location=lulin_observatory_location, epochs={'start':'2023-09-02', 'stop':'2023-09-03', 'step':'1h'})\n",
    "target_ephemeris = horizons_obj.ephemerides()\n",
    "target_ephemeris"
   ]
  }
 ],
 "metadata": {
  "kernelspec": {
   "display_name": "Python 3 (ipykernel)",
   "language": "python",
   "name": "python3"
  },
  "language_info": {
   "codemirror_mode": {
    "name": "ipython",
    "version": 3
   },
   "file_extension": ".py",
   "mimetype": "text/x-python",
   "name": "python",
   "nbconvert_exporter": "python",
   "pygments_lexer": "ipython3",
   "version": "3.10.13"
  }
 },
 "nbformat": 4,
 "nbformat_minor": 5
}

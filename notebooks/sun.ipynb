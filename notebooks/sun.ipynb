{
 "cells": [
  {
   "cell_type": "markdown",
   "id": "e872a79b-05f7-4a4a-bb7c-9b62200b13df",
   "metadata": {
    "jupyter": {
     "outputs_hidden": false,
     "source_hidden": false
    },
    "noteable": {
     "cell_type": "markdown"
    }
   },
   "source": [
    "# 如何用Python探索太陽觀測資料？\n",
    "此notebook為「用Python探索天文：從資料取得到視覺化」一書的相關程式碼，由[蘇羿豪](https://astrobackhacker.tw/)編寫，並以[MIT授權條款](https://github.com/YihaoSu/exploring-astronomy-with-python-from-data-query-to-visualization/blob/main/LICENSE)釋出。「用Python探索天文：從資料取得到視覺化」這本書是[「天文的資料科學」教育產品開發計畫](https://matters.news/@astrobackhacker/364036-%E5%A4%A9%E6%96%87%E7%9A%84%E8%B3%87%E6%96%99%E7%A7%91%E5%AD%B8-%E4%BE%86%E7%94%A8python%E6%8B%89%E8%BF%91%E6%88%91%E5%80%91%E8%88%87%E6%98%9F%E7%A9%BA%E7%9A%84%E8%B7%9D%E9%9B%A2-%E6%95%99%E8%82%B2%E7%94%A2%E5%93%81%E9%96%8B%E7%99%BC%E8%AA%BF%E6%9F%A5%E8%A1%A8%E5%96%AE-bafybeiahet2kggahd2wwst6flujiwkdwvg6wyiz23c4dtlgyvn2odhfdfi)的一部分，如果你想要體驗更多從資料產出天文新知識的旅程，歡迎填寫[這份調查表單](https://docs.google.com/forms/d/e/1FAIpQLSdSjnrvdsqAtALGfIMxXhQMZ9PRO-e_2ML6kzg6tjqyHNl1eA/viewform)，讓我能根據你的需求及建議，制定適合你的教學內容及呈現方式。"
   ]
  },
  {
   "cell_type": "markdown",
   "id": "1696493d-91a4-4af6-bce2-d3b39f3e6b3d",
   "metadata": {
    "jupyter": {
     "outputs_hidden": false,
     "source_hidden": false
    },
    "noteable": {
     "cell_type": "markdown"
    }
   },
   "source": [
    "## (一) 哪些太陽觀測計畫有將資料開放給⼤眾使⽤？\n",
    "\n",
    "以下列出幾個可以透過相關網站和Python程式下載到資料的太陽觀測計畫："
   ]
  },
  {
   "cell_type": "markdown",
   "id": "1f6b573d-4b8c-4e9e-b9ba-aa2718674c8f",
   "metadata": {
    "jupyter": {
     "outputs_hidden": false,
     "source_hidden": false
    },
    "noteable": {
     "cell_type": "markdown"
    }
   },
   "source": [
    "## Geostationary Operational Environmental Satellite (GOES)\n",
    "\n",
    "GOES是由美國國家海洋暨大氣總署營運的一系列地球環境衛星，負責監測地球的大氣、水文、海洋、氣候以及太陽活動等資料，以便研究地球環境變化並預測自然災害事件。GOES的太陽觀測儀器主要包括Extreme Ultraviolet and X-ray Irradiance Sensors以及Solar Ultraviolet Imager。資料下載網址：[https://www.ngdc.noaa.gov/stp/satellite/goes-r.html](https://www.ngdc.noaa.gov/stp/satellite/goes-r.html)"
   ]
  },
  {
   "cell_type": "markdown",
   "id": "ef9d8edf-737a-4a44-8915-7d2756aad078",
   "metadata": {
    "jupyter": {
     "outputs_hidden": false,
     "source_hidden": false
    },
    "noteable": {
     "cell_type": "markdown"
    }
   },
   "source": [
    "## Solar and Heliospheric Observatory (SOHO)\n",
    "\n",
    "SOHO是由歐洲太空總署和美國太空總署合作的太陽觀測衛星，目的是研究太陽的內部結構、外層大氣以及太陽風。SOHO裝載的觀測儀器多達12個，例如用來拍攝太陽日冕在紫外線範圍內高解析度影像的Extreme ultraviolet Imaging Telescope、偵測太陽風離子組成的Charge Element and Isotope Analysis System等等。資料下載網址：[https://soho.nascom.nasa.gov/data/data.html](https://soho.nascom.nasa.gov/data/data.html)"
   ]
  },
  {
   "cell_type": "markdown",
   "id": "9376bafb-d3ce-4229-a30d-d1b0d4dabdc8",
   "metadata": {
    "jupyter": {
     "outputs_hidden": false,
     "source_hidden": false
    },
    "noteable": {
     "cell_type": "markdown"
    }
   },
   "source": [
    "## Solar Terrestrial Relations Observatory (STEREO)\n",
    "\n",
    "STEREO是美國太空總署主導的任務，由STEREO-A和STEREO-B兩個衛星所組成，在不同的位置對太陽進行觀測，藉由Extreme Ultraviolet Imager、Coronagraph、Heliospheric Imagers等儀器，建立日冕噴發現象的立體影像。資料下載網址：[https://stereo-ssc.nascom.nasa.gov/data.shtml](https://stereo-ssc.nascom.nasa.gov/data.shtml)"
   ]
  },
  {
   "cell_type": "markdown",
   "id": "7917b65d-e3bf-46ad-8ebf-7885d941f66e",
   "metadata": {
    "jupyter": {
     "outputs_hidden": false,
     "source_hidden": false
    },
    "noteable": {
     "cell_type": "markdown"
    }
   },
   "source": [
    "## Solar Dynamics Observatory (SDO)\n",
    "\n",
    "SDO也是美國太空總署發射的太陽觀測衛星，透過Atmospheric Imaging Assembly、Extreme Ultraviolet Variability Experiment和Helioseismic and Magnetic Imager三個儀器，觀測太陽的大氣與磁場活動，以了解太陽如何影響地球及其周圍的太空環境。資料下載網址：[https://sdo.gsfc.nasa.gov/data/dataaccess.php](https://sdo.gsfc.nasa.gov/data/dataaccess.php)"
   ]
  },
  {
   "cell_type": "markdown",
   "id": "44a20377-3d6c-41bd-aba7-49fdc960a40b",
   "metadata": {
    "jupyter": {
     "outputs_hidden": false,
     "source_hidden": false
    },
    "noteable": {
     "cell_type": "markdown"
    }
   },
   "source": [
    "## Parker Solar Probe\n",
    "\n",
    "Parker Solar Probe是一個由美國太空總署發射的探測器，它飛往太陽並進入其大氣層，目的是讓人類首次收集太陽大氣的樣本資料，以便更深入理解日冕和太陽風、預測太陽對地球的影響。資料下載網址：[https://sppgway.jhuapl.edu](https://sppgway.jhuapl.edu)"
   ]
  },
  {
   "cell_type": "markdown",
   "id": "065b8760-8ada-4bf7-a97f-315f400ed5f5",
   "metadata": {
    "jupyter": {
     "outputs_hidden": false,
     "source_hidden": false
    },
    "noteable": {
     "cell_type": "markdown"
    }
   },
   "source": [
    "## Expanded Owens Valley Solar Array\n",
    "\n",
    "Expanded Owens Valley Solar Array是一個位於加州的電波望遠鏡陣列，透過它觀測太陽在微波範圍的電磁輻射，人類可以了解日冕的磁場結構，以及可能會對地球上通訊產生影響的太陽閃焰現象。資料下載網址：[http://ovsa.njit.edu/data.html](http://ovsa.njit.edu/data.html)"
   ]
  },
  {
   "cell_type": "markdown",
   "id": "b7be0788",
   "metadata": {},
   "source": [
    "## (二) 如何用Python取得太陽觀測資料？"
   ]
  },
  {
   "cell_type": "markdown",
   "id": "82d4d584",
   "metadata": {},
   "source": [
    "[SunPy](https://sunpy.org/)是一個專門用於太陽相關研究的Python套件，方便使用者取得、處理、分析和視覺化各種太陽觀測資料。執行以下指令以安裝SunPy及其擴充套件。"
   ]
  },
  {
   "cell_type": "code",
   "execution_count": null,
   "id": "a8b405c8",
   "metadata": {},
   "outputs": [],
   "source": [
    "pip install \"sunpy[all]\""
   ]
  },
  {
   "cell_type": "markdown",
   "id": "9b853d7b",
   "metadata": {},
   "source": [
    "以下範例程式也會使用到[Astropy](https://www.astropy.org/)套件，它整合了天文資料處理分析過程所需的常用功能。例如，物理單位轉換、日期時間處理、星體坐標轉換、FITS檔案讀寫與操作、模型資料擬合、統計和畫圖等。Astropy為SunPy的相依套件，在安裝SunPy時也會一併安裝。"
   ]
  },
  {
   "cell_type": "markdown",
   "id": "90b758a8",
   "metadata": {},
   "source": [
    "### SunPy的兩種資料取得工具：\n",
    "* [sunpy.data的sample](https://docs.sunpy.org/en/stable/code_ref/data.html#module-sunpy.data.sample)是用來取得SunPy預先提供的範例檔案，方便教學展示和快速測試功能。\n",
    "* [sunpy.net的Fido](https://docs.sunpy.org/en/stable/guide/acquiring_data/fido.html)讓使用者能根據實際的資料分析需求，連線至不同的太陽觀測計畫的資料下載服務，進行搜尋並下載到特定觀測儀器在某段時間的資料。"
   ]
  },
  {
   "cell_type": "code",
   "execution_count": 1,
   "id": "0aad496f",
   "metadata": {},
   "outputs": [
    {
     "name": "stdout",
     "output_type": "stream",
     "text": [
      "/home/yhsu/.local/share/sunpy/go1520110607.fits\n",
      "/home/yhsu/.local/share/sunpy/eit_l1_20110607_203753.fits\n",
      "/home/yhsu/.local/share/sunpy/20120601_000530_n4eua.fits\n",
      "/home/yhsu/.local/share/sunpy/AIA20110607_063302_0171_lowres.fits\n"
     ]
    }
   ],
   "source": [
    "# 此段程式示範如何用sunpy.data的sample功能來取得SunPy預先提供的範例檔案\n",
    "# GOES_XRS_TIMESERIES：Geostationary Operational Environmental Satellite(GOES)上的儀器X-Ray Sensor(XRS)的時間序列觀測資料\n",
    "# EIT_195_IMAGE：Solar and Heliospheric Observatory(SOHO)上的儀器Extreme ultraviolet Imaging Telescope(EIT)的影像觀測資料\n",
    "# STEREO_A_195_JUN2012：STEREO-A上的儀器Extreme Ultraviolet Imager(EUVI)的影像觀測資料\n",
    "# AIA_171_IMAGE：Solar Dynamics Observatory(SDO)上的儀器Atmospheric Imaging Assembly(AIA)的影像觀測資料\n",
    "\n",
    "from sunpy.data.sample import (\n",
    "  GOES_XRS_TIMESERIES, EIT_195_IMAGE,\n",
    "  STEREO_A_195_JUN2012, AIA_171_IMAGE\n",
    ")\n",
    "\n",
    "print(GOES_XRS_TIMESERIES)\n",
    "print(EIT_195_IMAGE)\n",
    "print(STEREO_A_195_JUN2012)\n",
    "print(AIA_171_IMAGE)"
   ]
  },
  {
   "cell_type": "code",
   "execution_count": 2,
   "id": "18303a27",
   "metadata": {},
   "outputs": [
    {
     "data": {
      "application/vnd.jupyter.widget-view+json": {
       "model_id": "aef352c1289e4c3981dbc09fd4d777e9",
       "version_major": 2,
       "version_minor": 0
      },
      "text/plain": [
       "Files Downloaded:   0%|          | 0/10 [00:00<?, ?file/s]"
      ]
     },
     "metadata": {},
     "output_type": "display_data"
    },
    {
     "name": "stdout",
     "output_type": "stream",
     "text": [
      "['/home/yhsu/sunpy/data/aia_lev1_171a_2023_05_21t12_01_09_35z_image_lev1.fits', '/home/yhsu/sunpy/data/aia_lev1_171a_2023_05_21t12_01_21_35z_image_lev1.fits', '/home/yhsu/sunpy/data/aia_lev1_171a_2023_05_21t12_01_33_35z_image_lev1.fits', '/home/yhsu/sunpy/data/aia_lev1_171a_2023_05_21t12_01_45_35z_image_lev1.fits', '/home/yhsu/sunpy/data/aia_lev1_171a_2023_05_21t12_01_57_35z_image_lev1.fits', '/home/yhsu/sunpy/data/aia_lev1_171a_2023_05_21t12_02_09_35z_image_lev1.fits', '/home/yhsu/sunpy/data/aia_lev1_171a_2023_05_21t12_02_21_35z_image_lev1.fits', '/home/yhsu/sunpy/data/aia_lev1_171a_2023_05_21t12_02_33_35z_image_lev1.fits', '/home/yhsu/sunpy/data/aia_lev1_171a_2023_05_21t12_02_45_35z_image_lev1.fits', '/home/yhsu/sunpy/data/aia_lev1_171a_2023_05_21t12_02_57_35z_image_lev1.fits']\n"
     ]
    }
   ],
   "source": [
    "'''\n",
    "此段程式示範如何用sunpy.net的Fido功能來搜尋並下載特定觀測資料\n",
    "Fido.search()會依據使用者所設定的篩選條件，如時間範圍、儀器名稱、電磁波波長等，來搜尋符合條件的資料，然後再藉由Fido.fetch()下載搜尋到的資料。\n",
    "sunpy.net的attrs則是用來定義不同資料屬性的搜尋條件，例如，attrs.Time()用於定義時間範圍、attrs.Instrument()用於定義觀測的儀器、attrs.Wavelength()用於定義觀測的波長。\n",
    "astropy的units提供天文學中常見物理單位的轉換和計算功能，例如波長單位。\n",
    "'''\n",
    "\n",
    "from sunpy.net import Fido, attrs as a\n",
    "import astropy.units as u\n",
    "\n",
    "# 設定要搜尋的觀測時間範圍\n",
    "time = a.Time('2023/05/21 12:01', '2023/05/21 12:03') \n",
    "\n",
    "# 設定要搜尋的觀測儀器，AIA為Solar Dynamics Observatory的Atmospheric Imaging Assembly。可用print(a.Instrument)查看有哪些儀器\n",
    "instrument_name = 'AIA'\n",
    "instrument = a.Instrument(instrument_name)\n",
    "\n",
    "# 設定要搜尋的觀測電磁波波長，例如，171埃\n",
    "wavelength = a.Wavelength(171 * u.angstrom)\n",
    "\n",
    "# 搜尋並下載符合時間、儀器和波長等篩選條件的資料\n",
    "search_result = Fido.search(time, instrument, wavelength)\n",
    "downloaded_files = Fido.fetch(search_result)\n",
    "print(downloaded_files)"
   ]
  },
  {
   "cell_type": "code",
   "execution_count": 3,
   "id": "818ac0aa",
   "metadata": {},
   "outputs": [
    {
     "data": {
      "text/html": [
       "<p>sunpy.net.attrs.Instrument</p>\n",
       "<p>\n",
       "Specifies the Instrument name for the search.\n",
       "</p>\n",
       "<table id=\"table140712246691872\">\n",
       "<thead><tr><th>Attribute Name</th><th>Client</th><th>Full Name</th><th>Description</th></tr></thead>\n",
       "<tr><td>aia</td><td>VSO</td><td>AIA</td><td>Atmospheric Imaging Assembly</td></tr>\n",
       "<tr><td>bcs</td><td>VSO</td><td>BCS</td><td>Bragg Crystal Spectrometer</td></tr>\n",
       "<tr><td>be_continuum</td><td>VSO</td><td>BE-Continuum</td><td>INAF-OACT Barra Equatoriale Continuum Instrument</td></tr>\n",
       "<tr><td>be_halpha</td><td>VSO</td><td>BE-Halpha</td><td>INAF-OACT Barra Equatoriale Hα Instrument</td></tr>\n",
       "<tr><td>bigbear</td><td>VSO</td><td>Big Bear</td><td>Big Bear Solar Observatory, California TON and GONG+ sites</td></tr>\n",
       "<tr><td>caii</td><td>VSO</td><td>CAII</td><td>Kanzelhöhe Ca II k Instrument</td></tr>\n",
       "<tr><td>cds</td><td>VSO</td><td>CDS</td><td>Coronal Diagnostic Spectrometer</td></tr>\n",
       "<tr><td>celias</td><td>VSO</td><td>CELIAS</td><td>Charge, Element, and Isotope Analysis System</td></tr>\n",
       "<tr><td>cerrotololo</td><td>VSO</td><td>Cerro Tololo</td><td>Cerro Tololo, Chile GONG+ site</td></tr>\n",
       "<tr><td>cook</td><td>VSO</td><td>Cook</td><td>None</td></tr>\n",
       "<tr><td>costep</td><td>VSO</td><td>COSTEP</td><td>Comprehensive Suprathermal and Energetic Particle Analyzer</td></tr>\n",
       "<tr><td>cp</td><td>VSO</td><td>cp</td><td>Coronagraph/Polarimeter</td></tr>\n",
       "<tr><td>eis</td><td>VSO</td><td>EIS</td><td>EUV Imaging Spectrometer</td></tr>\n",
       "<tr><td>eit</td><td>VSO</td><td>EIT</td><td>Extreme ultraviolet Imaging Telescope</td></tr>\n",
       "<tr><td>elteide</td><td>VSO</td><td>El Teide</td><td>Canary Islands GONG+ site</td></tr>\n",
       "<tr><td>erne</td><td>VSO</td><td>ERNE</td><td>Energetic and Relativistic Nuclei and Electron experiment</td></tr>\n",
       "<tr><td>eui</td><td>VSO</td><td>EUI</td><td>Extreme Ultravoilet Imager</td></tr>\n",
       "<tr><td>eve</td><td>EVE</td><td>EVE</td><td>Extreme ultraviolet Variability Experiment, which is part of the NASA Solar D...</td></tr>\n",
       "<tr><td>eve</td><td>VSO</td><td>EVE</td><td>Extreme Ultraviolet Variability Experiment</td></tr>\n",
       "<tr><td>film</td><td>VSO</td><td>FILM</td><td>Kanzelhöhe Hα Film Camera</td></tr>\n",
       "<tr><td>five_12_channelmagnetograph</td><td>VSO</td><td>512-channel magnetograph</td><td>512-channel Magnetograph</td></tr>\n",
       "<tr><td>foxsi</td><td>VSO</td><td>FOXSI</td><td>Focusing Optics X-ray Solar Imager</td></tr>\n",
       "<tr><td>gbm</td><td>GBM</td><td>GBM</td><td>Gamma-Ray Burst Monitor on board the Fermi satellite.</td></tr>\n",
       "<tr><td>goes</td><td>XRS</td><td>GOES</td><td>The Geostationary Operational Environmental Satellite Program.</td></tr>\n",
       "<tr><td>golf</td><td>VSO</td><td>GOLF</td><td>Global Oscillations at Low Frequencies</td></tr>\n",
       "<tr><td>gong</td><td>GONG</td><td>GONG</td><td>Global Oscillation Network Group.</td></tr>\n",
       "<tr><td>ha2</td><td>VSO</td><td>HA2</td><td>Kanzelhöhe Hα Patrol Instrument</td></tr>\n",
       "<tr><td>hi_c</td><td>VSO</td><td>Hi-C</td><td>High Resolution Coronal Imager (193 A)</td></tr>\n",
       "<tr><td>hi_c21</td><td>VSO</td><td>Hi-C21</td><td>High Resolution Coronal Imager 2.1 (172 A)</td></tr>\n",
       "<tr><td>hmi</td><td>VSO</td><td>HMI</td><td>Helioseismic and Magnetic Imager</td></tr>\n",
       "<tr><td>hxeclipse</td><td>VSO</td><td>HXECLIPSE</td><td>UCAR HAO Historical Eclipse Archive</td></tr>\n",
       "<tr><td>hxt</td><td>VSO</td><td>HXT</td><td>Hard X-Ray Telescope</td></tr>\n",
       "<tr><td>imax</td><td>VSO</td><td>IMaX</td><td>Imaging Magnetograph eXperiment</td></tr>\n",
       "<tr><td>impact</td><td>VSO</td><td>IMPACT</td><td>In-situ Measurements of Particles and CME Transients</td></tr>\n",
       "<tr><td>iris</td><td>VSO</td><td>IRIS</td><td>Interface Region Imaging Spectrograph</td></tr>\n",
       "<tr><td>isoon</td><td>VSO</td><td>ISOON</td><td>Improved Solar Observing Optical Network</td></tr>\n",
       "<tr><td>iss</td><td>VSO</td><td>ISS</td><td>None</td></tr>\n",
       "<tr><td>ivm</td><td>VSO</td><td>IVM</td><td>None</td></tr>\n",
       "<tr><td>kpdc</td><td>VSO</td><td>KPDC</td><td>Kanzelhöhe Photosphere Digital Camera</td></tr>\n",
       "<tr><td>lasco</td><td>VSO</td><td>LASCO</td><td>Large Angle and Spectrometric Coronagraph</td></tr>\n",
       "<tr><td>learmonth</td><td>VSO</td><td>Learmonth</td><td>Australian GONG+ site</td></tr>\n",
       "<tr><td>longwave_lobe_06</td><td>VSO</td><td>LONGWAVE-LOBE-06</td><td>Full longwave EUV observation of Sun with EUNIS (2006 flight)</td></tr>\n",
       "<tr><td>longwave_lobe_07</td><td>VSO</td><td>LONGWAVE-LOBE-07</td><td>Full longwave EUV observation of Sun with EUNIS (2007 flight)</td></tr>\n",
       "<tr><td>longwave_slit_06</td><td>VSO</td><td>LONGWAVE-SLIT-06</td><td>Full longwave EUV observation of Sun with EUNIS (trimmed/2006 flight)</td></tr>\n",
       "<tr><td>longwave_slit_07</td><td>VSO</td><td>LONGWAVE-SLIT-07</td><td>Full longwave EUV observation of Sun with EUNIS (trimmed/2007 flight)</td></tr>\n",
       "<tr><td>lyra</td><td>LYRA</td><td>LYRA</td><td>Lyman Alpha Radiometer is the solar UV radiometer on board Proba-2.</td></tr>\n",
       "<tr><td>lyra</td><td>VSO</td><td>LYRA</td><td>LYman alpha RAdiometer</td></tr>\n",
       "<tr><td>maunaloa</td><td>VSO</td><td>Mauna Loa</td><td>Hawai&apos;ian GONG+ site</td></tr>\n",
       "<tr><td>mdi</td><td>VSO</td><td>MDI</td><td>Michelson Doppler Imager</td></tr>\n",
       "<tr><td>mees</td><td>VSO</td><td>MEES</td><td>Mees Solar Observatory Imaging Spectrograph on Haleakala, Maui</td></tr>\n",
       "<tr><td>mergedgong</td><td>VSO</td><td>MERGED GONG</td><td>None</td></tr>\n",
       "<tr><td>meudonspectroheliograph</td><td>VSO</td><td>Meudon Spectroheliograph</td><td>None</td></tr>\n",
       "<tr><td>noaa_indices</td><td>NOAAIndices</td><td>NOAA-Indices</td><td>Recent Solar Indices of Observed Monthly Mean Values</td></tr>\n",
       "<tr><td>noaa_predict</td><td>NOAAPredict</td><td>NOAA-Predict</td><td>Predicted Sunspot Number And Radio Flux Values With Expected Ranges.</td></tr>\n",
       "<tr><td>norh</td><td>NoRH</td><td>NORH</td><td>Nobeyama Radio Heliograph is an imaging radio telescope at 17 or 34GHz locate...</td></tr>\n",
       "<tr><td>phoenix</td><td>VSO</td><td>PHOENIX</td><td>PHOENIX detector on flight #3 of FOXSI</td></tr>\n",
       "<tr><td>phoka</td><td>VSO</td><td>PHOKA</td><td>Kanzelhöhe Photoheliograph</td></tr>\n",
       "<tr><td>plastic</td><td>VSO</td><td>PLASTIC</td><td>PLasma And SupraThermal Ion Composition</td></tr>\n",
       "<tr><td>ptmc</td><td>VSO</td><td>PTMC</td><td>None</td></tr>\n",
       "<tr><td>rhessi</td><td>RHESSI</td><td>RHESSI</td><td>Reuven Ramaty High Energy Solar Spectroscopic Imager.</td></tr>\n",
       "<tr><td>rhessi</td><td>VSO</td><td>RHESSI</td><td>Reuven Ramaty High Energy Solar Spectroscopic Imager</td></tr>\n",
       "<tr><td>secchi</td><td>VSO</td><td>SECCHI</td><td>Sun Earth Connection Coronal and Heliospheric Investigation</td></tr>\n",
       "<tr><td>shortwave_lobe_06</td><td>VSO</td><td>SHORTWAVE-LOBE-06</td><td>Shortwave EUV observation of Sun with EUNIS (2006 flight)</td></tr>\n",
       "<tr><td>shortwave_lobe_07</td><td>VSO</td><td>SHORTWAVE-LOBE-07</td><td>Shortwave EUV observation of Sun with EUNIS (2007 flight)</td></tr>\n",
       "<tr><td>shortwave_slit_06</td><td>VSO</td><td>SHORTWAVE-SLIT-06</td><td>Shortwave EUV observation of Sun with EUNIS (trimmed/2006 flight)</td></tr>\n",
       "<tr><td>shortwave_slit_07</td><td>VSO</td><td>SHORTWAVE-SLIT-07</td><td>Shortwave EUV observation of Sun with EUNIS (trimmed/2007 flight)</td></tr>\n",
       "<tr><td>six_0_ftshg</td><td>VSO</td><td>60-ft SHG</td><td>60-foot Tower Spectroheliograph</td></tr>\n",
       "<tr><td>sj</td><td>VSO</td><td>SJ</td><td>Slit-Jaw</td></tr>\n",
       "<tr><td>solarftsspectrometer</td><td>VSO</td><td>solar fts spectrometer</td><td>Solar FTS Spectrometer</td></tr>\n",
       "<tr><td>soon</td><td>SRS</td><td>SOON</td><td>Solar Region Summary.</td></tr>\n",
       "<tr><td>sot</td><td>VSO</td><td>SOT</td><td>Solar Optical Telescope</td></tr>\n",
       "<tr><td>sp1</td><td>VSO</td><td>SP1</td><td>Spectropolarimeter1</td></tr>\n",
       "<tr><td>sp2</td><td>VSO</td><td>SP2</td><td>Spectropolarimeter2</td></tr>\n",
       "<tr><td>spectroheliograph</td><td>VSO</td><td>spectroheliograph</td><td>SpectroHeliograph</td></tr>\n",
       "<tr><td>spectromagnetograph</td><td>VSO</td><td>spectromagnetograph</td><td>SpectroMagnetograph</td></tr>\n",
       "<tr><td>spice</td><td>VSO</td><td>SPICE</td><td>Spectral Imaging of the Coronal Environment</td></tr>\n",
       "<tr><td>srs_table</td><td>SRS</td><td>SRS-Table</td><td>Solar Region Summary.</td></tr>\n",
       "<tr><td>sufi</td><td>VSO</td><td>SuFI</td><td>Sunrise Filter Imager</td></tr>\n",
       "<tr><td>sumer</td><td>VSO</td><td>SUMER</td><td>Solar Ultraviolet Measurements of Emitted Radiation</td></tr>\n",
       "<tr><td>sutri</td><td>VSO</td><td>SUTRI</td><td>The Solar Upper Transition Region Imager</td></tr>\n",
       "<tr><td>suvi</td><td>SUVI</td><td>SUVI</td><td>GOES Solar Ultraviolet Imager.</td></tr>\n",
       "<tr><td>suvi</td><td>VSO</td><td>SUVI</td><td>GOES-R Series Solar Ultraviolet Imager</td></tr>\n",
       "<tr><td>swan</td><td>VSO</td><td>SWAN</td><td>Solar Wind Anisotropies</td></tr>\n",
       "<tr><td>swap</td><td>VSO</td><td>SWAP</td><td>Sun Watcher using Active pixel system detector and image Processing</td></tr>\n",
       "<tr><td>swaves</td><td>VSO</td><td>SWAVES</td><td>STEREO/WAVES</td></tr>\n",
       "<tr><td>sxt</td><td>VSO</td><td>SXT</td><td>Soft X-Ray Telescope</td></tr>\n",
       "<tr><td>t1_halpha</td><td>VSO</td><td>T1-HALPHA</td><td>T1 Hα Fulldisk</td></tr>\n",
       "<tr><td>tm_1001</td><td>VSO</td><td>TM-1001</td><td>Kanzelhöhe Hα Pulnix TM-1001 Camera</td></tr>\n",
       "<tr><td>tm_1010</td><td>VSO</td><td>TM-1010</td><td>Kanzelhöhe Hα Pulnix TM-1010 Camera</td></tr>\n",
       "<tr><td>trace</td><td>VSO</td><td>TRACE</td><td>Transition Region And Coronal Explorer</td></tr>\n",
       "<tr><td>udaipur</td><td>VSO</td><td>Udaipur</td><td>Indian GONG+ site</td></tr>\n",
       "<tr><td>uvcs</td><td>VSO</td><td>UVCS</td><td>Ultraviolet Coronagraph Spectrometer</td></tr>\n",
       "<tr><td>vault_1999</td><td>VSO</td><td>VAULT-1999</td><td>Very High Angular Resolution Ultraviolet Telescope (1999 flight)</td></tr>\n",
       "<tr><td>vault_2002</td><td>VSO</td><td>VAULT-2002</td><td>Very High Angular Resolution Ultraviolet Telescope (2002 flight)</td></tr>\n",
       "<tr><td>vault_2014</td><td>VSO</td><td>VAULT-2014</td><td>Very High Angular Resolution Ultraviolet Telescope (2014 flight)</td></tr>\n",
       "<tr><td>virgo</td><td>VSO</td><td>VIRGO</td><td>Variability of Solar Irradiance and Gravity Oscillations</td></tr>\n",
       "<tr><td>vsm</td><td>VSO</td><td>vsm</td><td>Vector SpecroMagnetograph</td></tr>\n",
       "<tr><td>wbs</td><td>VSO</td><td>WBS</td><td>Wide Band Spectrometer</td></tr>\n",
       "<tr><td>wispr</td><td>VSO</td><td>WISPR</td><td>Wide-Field Imager for Solar Probe Plus</td></tr>\n",
       "<tr><td>x123</td><td>VSO</td><td>X123</td><td>X123 SXR Spectometer</td></tr>\n",
       "<tr><td>xrs</td><td>XRS</td><td>XRS</td><td>GOES X-ray Sensor</td></tr>\n",
       "</table>"
      ],
      "text/plain": [
       "<class 'sunpy.net.attrs.Instrument'>\n",
       "sunpy.net.attrs.Instrument\n",
       "\n",
       "Specifies the Instrument name for the search.\n",
       "\n",
       "       Attribute Name       ...\n",
       "--------------------------- ...\n",
       "aia                         ...\n",
       "bcs                         ...\n",
       "be_continuum                ...\n",
       "be_halpha                   ...\n",
       "bigbear                     ...\n",
       "caii                        ...\n",
       "cds                         ...\n",
       "celias                      ...\n",
       "cerrotololo                 ...\n",
       "cook                        ...\n",
       "costep                      ...\n",
       "cp                          ...\n",
       "eis                         ...\n",
       "eit                         ...\n",
       "elteide                     ...\n",
       "erne                        ...\n",
       "eui                         ...\n",
       "eve                         ...\n",
       "eve                         ...\n",
       "film                        ...\n",
       "five_12_channelmagnetograph ...\n",
       "foxsi                       ...\n",
       "gbm                         ...\n",
       "goes                        ...\n",
       "golf                        ...\n",
       "gong                        ...\n",
       "ha2                         ...\n",
       "hi_c                        ...\n",
       "hi_c21                      ...\n",
       "hmi                         ...\n",
       "hxeclipse                   ...\n",
       "hxt                         ...\n",
       "imax                        ...\n",
       "impact                      ...\n",
       "iris                        ...\n",
       "isoon                       ...\n",
       "iss                         ...\n",
       "ivm                         ...\n",
       "kpdc                        ...\n",
       "lasco                       ...\n",
       "learmonth                   ...\n",
       "longwave_lobe_06            ...\n",
       "longwave_lobe_07            ...\n",
       "longwave_slit_06            ...\n",
       "longwave_slit_07            ...\n",
       "lyra                        ...\n",
       "lyra                        ...\n",
       "maunaloa                    ...\n",
       "mdi                         ...\n",
       "mees                        ...\n",
       "mergedgong                  ...\n",
       "meudonspectroheliograph     ...\n",
       "noaa_indices                ...\n",
       "noaa_predict                ...\n",
       "norh                        ...\n",
       "phoenix                     ...\n",
       "phoka                       ...\n",
       "plastic                     ...\n",
       "ptmc                        ...\n",
       "rhessi                      ...\n",
       "rhessi                      ...\n",
       "secchi                      ...\n",
       "shortwave_lobe_06           ...\n",
       "shortwave_lobe_07           ...\n",
       "shortwave_slit_06           ...\n",
       "shortwave_slit_07           ...\n",
       "six_0_ftshg                 ...\n",
       "sj                          ...\n",
       "solarftsspectrometer        ...\n",
       "soon                        ...\n",
       "sot                         ...\n",
       "sp1                         ...\n",
       "sp2                         ...\n",
       "spectroheliograph           ...\n",
       "spectromagnetograph         ...\n",
       "spice                       ...\n",
       "srs_table                   ...\n",
       "sufi                        ...\n",
       "sumer                       ...\n",
       "sutri                       ...\n",
       "suvi                        ...\n",
       "suvi                        ...\n",
       "swan                        ...\n",
       "swap                        ...\n",
       "swaves                      ...\n",
       "sxt                         ...\n",
       "t1_halpha                   ...\n",
       "tm_1001                     ...\n",
       "tm_1010                     ...\n",
       "trace                       ...\n",
       "udaipur                     ...\n",
       "uvcs                        ...\n",
       "vault_1999                  ...\n",
       "vault_2002                  ...\n",
       "vault_2014                  ...\n",
       "virgo                       ...\n",
       "vsm                         ...\n",
       "wbs                         ...\n",
       "wispr                       ...\n",
       "x123                        ...\n",
       "xrs                         ..."
      ]
     },
     "execution_count": 3,
     "metadata": {},
     "output_type": "execute_result"
    }
   ],
   "source": [
    "a.Instrument"
   ]
  },
  {
   "cell_type": "code",
   "execution_count": 4,
   "id": "dd13302d",
   "metadata": {},
   "outputs": [
    {
     "name": "stdout",
     "output_type": "stream",
     "text": [
      "Filename: /home/yhsu/.local/share/sunpy/AIA20110607_063302_0171_lowres.fits\n",
      "No.    Name      Ver    Type      Cards   Dimensions   Format\n",
      "  0  PRIMARY       1 PrimaryHDU       4   ()      \n",
      "  1  COMPRESSED_IMAGE    1 CompImageHDU    201   (1024, 1024)   float32   \n",
      "SIMPLE  =                    T / conforms to FITS standard                      BITPIX  =                  -32 / array data type                                NAXIS   =                    2 / number of array dimensions                     NAXIS1  =                 1024                                                  NAXIS2  =                 1024                                                  BLD_VERS= 'V5R12X  '                                                            LVL_NUM =                  1.5                                                  T_REC   = '2011-06-07T06:33:03Z'                                                TRECSTEP=                  1.0                                                  TRECEPOC= '1977.01.01_00:00:00_TAI'                                             TRECROUN=                    1                                                  ORIGIN  = 'SDO     '                                                            DATE    = '2012-10-16T19:45:34'                                                 TELESCOP= 'SDO     '                                                            INSTRUME= 'AIA_3   '                                                            DATE-OBS= '2011-06-07T06:33:02.77'                                              T_OBS   = '2011-06-07T06:33:02.88Z'                                             CAMERA  =                    3                                                  IMG_TYPE= 'LIGHT   '                                                            EXPTIME =             0.234256                                                  EXPSDEV =             0.000135                                                  INT_TIME=             0.507812                                                  WAVELNTH=                  171                                                  WAVEUNIT= 'angstrom'                                                            WAVE_STR= '171_THIN'                                                            FSN     =             27194331                                                  FID     =                    0                                                  QUALLEV0=                    0                                                  QUALITY =                    0                                                  TOTVALS =             16777216                                                  DATAVALS=             16777216                                                  MISSVALS=                    0                                                  PERCENTD=                100.0                                                  DATAMIN =                   -8                                                  DATAMAX =                17722                                                  DATAMEDN=                   18                                                  DATAMEAN=              26.6888                                                  DATARMS =            9429260.0                                                  DATASKEW=    81.43300000000001                                                  DATAKURT=        17076.7421875                                                  DATACENT=                30.76                                                  DATAP01 =                 -1.0                                                  DATAP10 =                  1.0                                                  DATAP25 =                  3.0                                                  DATAP75 =                 39.0                                                  DATAP90 =                 64.0                                                  DATAP95 =                 87.0                                                  DATAP98 =                127.0                                                  DATAP99 =                168.0                                                  NSATPIX =                   29                                                  OSCNMEAN= 'nan     '                                                            OSCNRMS = 'nan     '                                                            FLAT_REC= 'aia.flatfield[:#30]'                                                 NSPIKES =                  977                                                  CTYPE1  = 'HPLN-TAN'                                                            CUNIT1  = 'arcsec  '                                                            CRVAL1  =    3.223099507700556                                                  CDELT1  =             2.402792                                                  CRPIX1  =                512.5                                                  CTYPE2  = 'HPLT-TAN'                                                            CUNIT2  = 'arcsec  '                                                            CRVAL2  =    1.385781353025793                                                  CDELT2  =             2.402792                                                  CRPIX2  =                512.5                                                  CROTA2  =            -0.138829                                                  R_SUN   =        1573.89688496                                                  MPO_REC = 'sdo.master_pointing[:#394]'                                          INST_ROT=             0.019327                                                  IMSCL_MP=             0.599489                                                  X0_MP   =          2049.459961                                                  Y0_MP   =          2049.030029                                                  ASD_REC = 'sdo.lev0_asd_0004[:#10672125]'                                       SAT_Y0  =            -4.519384                                                  SAT_Z0  =            13.793308                                                  SAT_ROT =             -3.4E-05                                                  ACS_MODE= 'SCIENCE '                                                            ACS_ECLP= 'NO      '                                                            ACS_SUNP= 'YES     '                                                            ACS_SAFE= 'NO      '                                                            ACS_CGT = 'GT3     '                                                            ORB_REC = 'sdo.fds_orbit_vectors[2011.06.07_06:33:00_UTC]'                      DSUN_REF=       149597870691.0                                                  DSUN_OBS=       151846026489.0                                                  RSUN_REF=          696000000.0                                                  RSUN_OBS=    945.4367109999999                                                  GAEX_OBS=         -13315441.72                                                  GAEY_OBS=         -25080995.82                                                  GAEZ_OBS=          31173320.91                                                  HAEX_OBS=       -36634444009.2                                                  HAEY_OBS=      -147360551017.0                                                  HAEZ_OBS=          35731768.47                                                  OBS_VR  =    86.97246699999999                                                  OBS_VW  =         31968.269521                                                  OBS_VN  =          4842.822869                                                  CRLN_OBS=           340.698273                                                  CRLT_OBS=             0.048591                                                  CAR_ROT =                 2111                                                  HGLN_OBS=                  0.0                                                  HGLT_OBS=             0.048591                                                  ROI_NWIN=          -2147483648                                                  ROI_SUM =          -2147483648                                                  ROI_NAX1=          -2147483648                                                  ROI_NAY1=          -2147483648                                                  ROI_LLX1=          -2147483648                                                  ROI_LLY1=          -2147483648                                                  ROI_NAX2=          -2147483648                                                  ROI_NAY2=          -2147483648                                                  ROI_LLX2=          -2147483648                                                  ROI_LLY2=          -2147483648                                                  PIXLUNIT= 'DN      '                                                            DN_GAIN =                 17.7                                                  EFF_AREA=                2.419                                                  EFF_AR_V=                  3.0                                                  TEMPCCD =                -71.0                                                  TEMPGT  =               14.327                                                  TEMPSMIR=               34.029                                                  TEMPFPAD=                16.29                                                  ISPSNAME= 'aia.lev0_isp_0011'                                                   ISPPKTIM= '2011-06-07T06:32:57.50Z'                                             ISPPKTVN= '001.197 '                                                            AIVNMST =                  453                                                  AIMGOTS =           1686119616                                                  ASQHDR  =           2174677979                                                  ASQTNUM =                    2                                                  ASQFSN  =             27194331                                                  AIAHFSN =             27194323                                                  AECDELAY=                 1537                                                  AIAECTI =                    0                                                  AIASEN  =                    0                                                  AIFDBID =                  241                                                  AIMGOTSS=                55109                                                  AIFCPS  =                   10                                                  AIFTSWTH=                    0                                                  AIFRMLID=                 3057                                                  AIFTSID =                41729                                                  AIHISMXB=                    7                                                  AIHIS192=              8377773                                                  AIHIS348=              8384772                                                  AIHIS604=              8386035                                                  AIHIS860=              8386516                                                  AIFWEN  =                  204                                                  AIMGSHCE=                  237                                                  AECTYPE =                    2                                                  AECMODE = 'ON      '                                                            AISTATE = 'CLOSED  '                                                            AIAECENF=                    1                                                  AIFILTYP=                    0                                                  AIMSHOBC=               41.104                                                  AIMSHOBE=            26.068001                                                  AIMSHOTC=            55.327999                                                  AIMSHOTE=            69.344002                                                  AIMSHCBC=           275.432007                                                  AIMSHCBE=           260.484009                                                  AIMSHCTC=              289.556                                                  AIMSHCTE=           303.395996                                                  AICFGDL1=                    0                                                  AICFGDL2=                  107                                                  AICFGDL3=                  171                                                  AICFGDL4=                  236                                                  AIFOENFL=                    1                                                  AIMGFSN =                    5                                                  AIMGTYP =                    0                                                  AIAWVLEN=                    7                                                  AIAGP1  =                    0                                                  AIAGP2  =                    0                                                  AIAGP3  =                    0                                                  AIAGP4  =                    0                                                  AIAGP5  =                    0                                                  AIAGP6  =                    0                                                  AIAGP7  =                    0                                                  AIAGP8  =                  619                                                  AIAGP9  =                  683                                                  AIAGP10 =                  748                                                  AGT1SVY =                    2                                                  AGT1SVZ =                   -6                                                  AGT2SVY =                    0                                                  AGT2SVZ =                   -1                                                  AGT3SVY =                   -2                                                  AGT3SVZ =                    3                                                  AGT4SVY =                   -5                                                  AGT4SVZ =                    5                                                  AIMGSHEN=                    4                                                  KEYWDDOC= 'https:  '                                                            RECNUM  =             76618218                                                  BLANK   =               -32768                                                  DATE_OBS= '2011-06-07T06:33:02.77'                                              XCEN    =        2.91938326953                                                  YCEN    =        1.09323792231                                                  DETECTOR= 'AIA     '                                                            COMMENT FITS (Flexible Image Transport System) format is defined in 'AstronomyanCOMMENT d Astrophysics', volume 376, page 359; bibcode: 2001A&A...376..359HFITSHCOMMENT EAD2STRUCT                                                              HISTORY FITSHEAD2STRUCT run at: Fri May 26 11:33:15 2017mreadfits_shm VERSION:  HISTORY 1.20read_sdo VERSION:  2.10aia2wcsmin.pro VERSION:  5.10aia2wcsminaia2wcHISTORY smin  MPO_date: 2012-09-04T00:00:00Zaia2wcsmin  MPO_t_start: 2011-06-05THISTORY 00:00:00Zaia2wcsmin  MPO_t_stop: 2011-06-12T00:00:00Zaia2wcsmin  MPO_verHISTORY sion: 5ssw_reg.pro VERSION:  1.30ssw_regssw_reg  ROT called with cubic iHISTORY nterpolation: cubic = -0.500000ssw_reg  Image registered to SDO image wiHISTORY th FSN = 27194330ssw_reg  Image registered to SDO image with T_OBS = 201HISTORY 1-06-07T06:33:01.aia_fix_header.pro VERSION:  1.00aia_prep.pro VERSION: HISTORY  5.10aia_reg.pro VERSION:  1.20                                         END                                                                                                                                                                                                                                                                                                                                                                                                                                                                                                                                                                                                                                                                                                                                                                                                                                                                                                                                                                                                                                                                                                                                                                                                                                             \n"
     ]
    }
   ],
   "source": [
    "'''\n",
    "此段程式示範如何用Astropy套件讀取、查看下載到的FITS檔案資訊\n",
    "'''\n",
    "from astropy.io import fits\n",
    "\n",
    "filename = AIA_171_IMAGE\n",
    "hdu_list = fits.open(filename)\n",
    "hdu_list.info()\n",
    "print(hdu_list[1].header)"
   ]
  }
 ],
 "metadata": {
  "kernelspec": {
   "display_name": "Python 3 (ipykernel)",
   "language": "python",
   "name": "python3"
  },
  "language_info": {
   "codemirror_mode": {
    "name": "ipython",
    "version": 3
   },
   "file_extension": ".py",
   "mimetype": "text/x-python",
   "name": "python",
   "nbconvert_exporter": "python",
   "pygments_lexer": "ipython3",
   "version": "3.10.11"
  },
  "noteable": {
   "last_delta_id": "d1700041-4716-4d02-875e-d11d4f5bc56c",
   "last_transaction_id": "d1700041-4716-4d02-875e-d11d4f5bc56c"
  },
  "noteable-chatgpt": {
   "create_notebook": {
    "openai_conversation_id": "90cff408-3bcb-5e5f-bccc-f5f67630e916",
    "openai_ephemeral_user_id": "1174ff2c-71c2-565b-928b-1aa1fd216dc4",
    "openai_subdivision1_iso_code": "TW-TXG"
   }
  },
  "nteract": {
   "version": "noteable@2.9.0"
  }
 },
 "nbformat": 4,
 "nbformat_minor": 5
}

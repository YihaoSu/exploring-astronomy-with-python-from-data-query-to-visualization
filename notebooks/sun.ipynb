{
 "cells": [
  {
   "cell_type": "markdown",
   "id": "e872a79b-05f7-4a4a-bb7c-9b62200b13df",
   "metadata": {
    "jupyter": {
     "outputs_hidden": false,
     "source_hidden": false
    },
    "noteable": {
     "cell_type": "markdown"
    }
   },
   "source": [
    "# 如何用Python探索太陽觀測資料？"
   ]
  },
  {
   "cell_type": "markdown",
   "id": "1696493d-91a4-4af6-bce2-d3b39f3e6b3d",
   "metadata": {
    "jupyter": {
     "outputs_hidden": false,
     "source_hidden": false
    },
    "noteable": {
     "cell_type": "markdown"
    }
   },
   "source": [
    "## (一) 哪些太陽觀測計畫有將資料開放給⼤眾使⽤？\n",
    "\n",
    "以下列出幾個可以透過相關網站和Python程式下載到資料的太陽觀測計畫："
   ]
  },
  {
   "cell_type": "markdown",
   "id": "1f6b573d-4b8c-4e9e-b9ba-aa2718674c8f",
   "metadata": {
    "jupyter": {
     "outputs_hidden": false,
     "source_hidden": false
    },
    "noteable": {
     "cell_type": "markdown"
    }
   },
   "source": [
    "## Geostationary Operational Environmental Satellite (GOES)\n",
    "\n",
    "GOES是由美國國家海洋暨大氣總署營運的一系列地球環境衛星，負責監測地球的大氣、水文、海洋、氣候以及太陽活動等資料，以便研究地球環境變化並預測自然災害事件。GOES的太陽觀測儀器主要包括Extreme Ultraviolet and X-ray Irradiance Sensors以及Solar Ultraviolet Imager。資料下載網址：[https://www.ngdc.noaa.gov/stp/satellite/goes-r.html](https://www.ngdc.noaa.gov/stp/satellite/goes-r.html)"
   ]
  },
  {
   "cell_type": "markdown",
   "id": "ef9d8edf-737a-4a44-8915-7d2756aad078",
   "metadata": {
    "jupyter": {
     "outputs_hidden": false,
     "source_hidden": false
    },
    "noteable": {
     "cell_type": "markdown"
    }
   },
   "source": [
    "## Solar and Heliospheric Observatory (SOHO)\n",
    "\n",
    "SOHO是由歐洲太空總署和美國太空總署合作的太陽觀測衛星，目的是研究太陽的內部結構、外層大氣以及太陽風。SOHO裝載的觀測儀器多達12個，例如用來拍攝太陽日冕在紫外線範圍內高解析度影像的Extreme ultraviolet Imaging Telescope、偵測太陽風離子組成的Charge Element and Isotope Analysis System等等。資料下載網址：[https://soho.nascom.nasa.gov/data/data.html](https://soho.nascom.nasa.gov/data/data.html)"
   ]
  },
  {
   "cell_type": "markdown",
   "id": "9376bafb-d3ce-4229-a30d-d1b0d4dabdc8",
   "metadata": {
    "jupyter": {
     "outputs_hidden": false,
     "source_hidden": false
    },
    "noteable": {
     "cell_type": "markdown"
    }
   },
   "source": [
    "## Solar Terrestrial Relations Observatory (STEREO)\n",
    "\n",
    "STEREO是美國太空總署主導的任務，由STEREO-A和STEREO-B兩個衛星所組成，在不同的位置對太陽進行觀測，藉由Extreme Ultraviolet Imager、Coronagraph、Heliospheric Imagers等儀器，建立日冕噴發現象的立體影像。資料下載網址：[https://stereo-ssc.nascom.nasa.gov/data.shtml](https://stereo-ssc.nascom.nasa.gov/data.shtml)"
   ]
  },
  {
   "cell_type": "markdown",
   "id": "7917b65d-e3bf-46ad-8ebf-7885d941f66e",
   "metadata": {
    "jupyter": {
     "outputs_hidden": false,
     "source_hidden": false
    },
    "noteable": {
     "cell_type": "markdown"
    }
   },
   "source": [
    "## Solar Dynamics Observatory (SDO)\n",
    "\n",
    "SDO也是美國太空總署發射的太陽觀測衛星，透過Atmospheric Imaging Assembly、Extreme Ultraviolet Variability Experiment和Helioseismic and Magnetic Imager三個儀器，觀測太陽的大氣與磁場活動，以了解太陽如何影響地球及其周圍的太空環境。資料下載網址：[https://sdo.gsfc.nasa.gov/data/dataaccess.php](https://sdo.gsfc.nasa.gov/data/dataaccess.php)"
   ]
  },
  {
   "cell_type": "markdown",
   "id": "44a20377-3d6c-41bd-aba7-49fdc960a40b",
   "metadata": {
    "jupyter": {
     "outputs_hidden": false,
     "source_hidden": false
    },
    "noteable": {
     "cell_type": "markdown"
    }
   },
   "source": [
    "## Parker Solar Probe\n",
    "\n",
    "Parker Solar Probe是一個由美國太空總署發射的探測器，它飛往太陽並進入其大氣層，目的是讓人類首次收集太陽大氣的樣本資料，以便更深入理解日冕和太陽風、預測太陽對地球的影響。資料下載網址：[https://sppgway.jhuapl.edu](https://sppgway.jhuapl.edu)"
   ]
  },
  {
   "cell_type": "markdown",
   "id": "065b8760-8ada-4bf7-a97f-315f400ed5f5",
   "metadata": {
    "jupyter": {
     "outputs_hidden": false,
     "source_hidden": false
    },
    "noteable": {
     "cell_type": "markdown"
    }
   },
   "source": [
    "## Expanded Owens Valley Solar Array\n",
    "\n",
    "Expanded Owens Valley Solar Array是一個位於加州的電波望遠鏡陣列，透過它觀測太陽在微波範圍的電磁輻射，人類可以了解日冕的磁場結構，以及可能會對地球上通訊產生影響的太陽閃焰現象。資料下載網址：[http://ovsa.njit.edu/data.html](http://ovsa.njit.edu/data.html)"
   ]
  }
 ],
 "metadata": {
  "kernelspec": {
   "display_name": "Python 3 (ipykernel)",
   "language": "python",
   "name": "python3"
  },
  "language_info": {
   "codemirror_mode": {
    "name": "ipython",
    "version": 3
   },
   "file_extension": ".py",
   "mimetype": "text/x-python",
   "name": "python",
   "nbconvert_exporter": "python",
   "pygments_lexer": "ipython3",
   "version": "3.10.11"
  },
  "noteable": {
   "last_delta_id": "d1700041-4716-4d02-875e-d11d4f5bc56c",
   "last_transaction_id": "d1700041-4716-4d02-875e-d11d4f5bc56c"
  },
  "noteable-chatgpt": {
   "create_notebook": {
    "openai_conversation_id": "90cff408-3bcb-5e5f-bccc-f5f67630e916",
    "openai_ephemeral_user_id": "1174ff2c-71c2-565b-928b-1aa1fd216dc4",
    "openai_subdivision1_iso_code": "TW-TXG"
   }
  },
  "nteract": {
   "version": "noteable@2.9.0"
  }
 },
 "nbformat": 4,
 "nbformat_minor": 5
}
